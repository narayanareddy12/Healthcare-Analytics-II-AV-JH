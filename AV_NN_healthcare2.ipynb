{
  "nbformat": 4,
  "nbformat_minor": 0,
  "metadata": {
    "colab": {
      "name": "AV_NN_healthcare2.ipynb",
      "provenance": [],
      "collapsed_sections": []
    },
    "kernelspec": {
      "name": "python3",
      "display_name": "Python 3"
    },
    "accelerator": "GPU"
  },
  "cells": [
    {
      "cell_type": "code",
      "metadata": {
        "id": "JOwsNktOzzKv",
        "colab_type": "code",
        "colab": {}
      },
      "source": [
        "import pandas as pd\n",
        "df_train = pd.read_csv('train.csv')\n",
        "df_test = pd.read_csv('test.csv')"
      ],
      "execution_count": null,
      "outputs": []
    },
    {
      "cell_type": "code",
      "metadata": {
        "id": "xeWbqh6r0z42",
        "colab_type": "code",
        "colab": {}
      },
      "source": [
        "df_train = df_train.dropna()"
      ],
      "execution_count": null,
      "outputs": []
    },
    {
      "cell_type": "code",
      "metadata": {
        "id": "8tn_wfsvBH1h",
        "colab_type": "code",
        "colab": {}
      },
      "source": [
        "df_train.drop(['case_id', 'patientid', 'Ward_Facility_Code', 'Hospital_type_code', 'City_Code_Hospital' ], axis=1, inplace=True)\n",
        "df_test.drop(['case_id', 'patientid' , 'Ward_Facility_Code', 'Hospital_type_code', 'City_Code_Hospital' ], axis=1, inplace=True)"
      ],
      "execution_count": null,
      "outputs": []
    },
    {
      "cell_type": "code",
      "metadata": {
        "id": "dGKAcL1fBKDr",
        "colab_type": "code",
        "colab": {}
      },
      "source": [
        "#df_train['Severity of Illness'].unique() \n",
        "m2 = {'Emergency':0, 'Urgent':1, 'Trauma':2}\n",
        "m3 = {'Minor':0, 'Moderate':1, 'Extreme':2}\n",
        "\n",
        "df_train['Type of Admission'] = df_train['Type of Admission'].map(m2)\n",
        "df_test['Type of Admission'] = df_test['Type of Admission'].map(m2)\n",
        "\n",
        "df_train['Severity of Illness'] = df_train['Severity of Illness'].map(m3)\n",
        "df_test['Severity of Illness'] = df_test['Severity of Illness'].map(m3)"
      ],
      "execution_count": null,
      "outputs": []
    },
    {
      "cell_type": "code",
      "metadata": {
        "id": "34UUbDauBM-b",
        "colab_type": "code",
        "colab": {}
      },
      "source": [
        "m = {'0-10':0, '11-20':1, '21-30':2, '31-40':3,'41-50':4,'51-60':5,'61-70':6,'71-80':7,'81-90':8,'91-100':9,'More than 100 Days':10 }\n",
        "df_train['Age'] = df_train['Age'].map(m)\n",
        "df_train['Stay'] = df_train['Stay'].map(m)\n",
        "\n",
        "df_test['Age'] = df_test['Age'].map(m)"
      ],
      "execution_count": null,
      "outputs": []
    },
    {
      "cell_type": "code",
      "metadata": {
        "id": "h4TWXe48PTbg",
        "colab_type": "code",
        "colab": {}
      },
      "source": [
        "from sklearn.preprocessing import LabelEncoder\n",
        "\n",
        "df_train[\"Hospital_region_code\"] = le.fit_transform(df_train[\"Hospital_region_code\"].values)\n",
        "df_test[\"Hospital_region_code\"] = le.transform(df_test[\"Hospital_region_code\"].values)\n",
        "\n",
        "df_train[\"Department\"] = le.fit_transform(df_train[\"Department\"].values)\n",
        "df_test[\"Department\"] = le.transform(df_test[\"Department\"].values)\n",
        "\n",
        "df_train[\"Ward_Type\"] = le.fit_transform(df_train[\"Ward_Type\"].values)\n",
        "df_test[\"Ward_Type\"] = le.transform(df_test[\"Ward_Type\"].values)\n",
        "'''\n",
        "df_train[\"Ward_Facility_Code\"] = le.fit_transform(df_train[\"Ward_Facility_Code\"].values)\n",
        "df_test[\"Ward_Facility_Code\"] = le.transform(df_test[\"Ward_Facility_Code\"].values)\n",
        "'''\n",
        "df_train[\"Type of Admission\"] = le.fit_transform(df_train[\"Type of Admission\"].values)\n",
        "df_test[\"Type of Admission\"] = le.transform(df_test[\"Type of Admission\"].values)\n",
        "\n",
        "df_train[\"Severity of Illness\"] = le.fit_transform(df_train[\"Severity of Illness\"].values)\n",
        "df_test[\"Severity of Illness\"] = le.transform(df_test[\"Severity of Illness\"].values)\n",
        "\n",
        "df_train[\"Age\"] = le.fit_transform(df_train[\"Age\"].values)\n",
        "df_test[\"Age\"] = le.transform(df_test[\"Age\"].values)\n",
        "\n",
        "cols_cat = [index_ for index_, string in enumerate(df_train.columns) if string in [\"Hospital_type_code\", \"Hospital_region_code\", \"Department\", \"Ward_Type\", \"Ward_Facility_Code\", \"Type of Admission\", \"Severity of Illness\", \"Age\"]]"
      ],
      "execution_count": null,
      "outputs": []
    },
    {
      "cell_type": "code",
      "metadata": {
        "id": "MBwfL6GIU2_w",
        "colab_type": "code",
        "colab": {}
      },
      "source": [
        "from sklearn.preprocessing import StandardScaler\n",
        "\n",
        "s = StandardScaler()\n",
        "\n",
        "df_train[['Hospital_code', 'Available Extra Rooms in Hospital','Bed Grade','City_Code_Patient', 'Visitors with Patient', 'Age', 'Admission_Deposit']] = s.fit_transform(df_train[['Hospital_code','Available Extra Rooms in Hospital','Bed Grade','City_Code_Patient', 'Visitors with Patient', 'Age', 'Admission_Deposit']].values)\n",
        "df_test[['Hospital_code', 'Available Extra Rooms in Hospital','Bed Grade','City_Code_Patient', 'Visitors with Patient', 'Age', 'Admission_Deposit']] = s.transform(df_test[['Hospital_code', 'Available Extra Rooms in Hospital','Bed Grade','City_Code_Patient', 'Visitors with Patient', 'Age', 'Admission_Deposit']].values)"
      ],
      "execution_count": null,
      "outputs": []
    },
    {
      "cell_type": "code",
      "metadata": {
        "id": "AtDXFQGxXc-w",
        "colab_type": "code",
        "colab": {}
      },
      "source": [
        "df_labels = pd.get_dummies(df_train['Stay'].values)"
      ],
      "execution_count": null,
      "outputs": []
    },
    {
      "cell_type": "code",
      "metadata": {
        "id": "xMAte5kAXieQ",
        "colab_type": "code",
        "colab": {
          "base_uri": "https://localhost:8080/",
          "height": 204
        },
        "outputId": "5fea5b0c-eb23-4e16-f06d-758f00a054bd"
      },
      "source": [
        "df_labels.head()"
      ],
      "execution_count": null,
      "outputs": [
        {
          "output_type": "execute_result",
          "data": {
            "text/html": [
              "<div>\n",
              "<style scoped>\n",
              "    .dataframe tbody tr th:only-of-type {\n",
              "        vertical-align: middle;\n",
              "    }\n",
              "\n",
              "    .dataframe tbody tr th {\n",
              "        vertical-align: top;\n",
              "    }\n",
              "\n",
              "    .dataframe thead th {\n",
              "        text-align: right;\n",
              "    }\n",
              "</style>\n",
              "<table border=\"1\" class=\"dataframe\">\n",
              "  <thead>\n",
              "    <tr style=\"text-align: right;\">\n",
              "      <th></th>\n",
              "      <th>0</th>\n",
              "      <th>1</th>\n",
              "      <th>2</th>\n",
              "      <th>3</th>\n",
              "      <th>4</th>\n",
              "      <th>5</th>\n",
              "      <th>6</th>\n",
              "      <th>7</th>\n",
              "      <th>8</th>\n",
              "      <th>9</th>\n",
              "      <th>10</th>\n",
              "    </tr>\n",
              "  </thead>\n",
              "  <tbody>\n",
              "    <tr>\n",
              "      <th>0</th>\n",
              "      <td>1</td>\n",
              "      <td>0</td>\n",
              "      <td>0</td>\n",
              "      <td>0</td>\n",
              "      <td>0</td>\n",
              "      <td>0</td>\n",
              "      <td>0</td>\n",
              "      <td>0</td>\n",
              "      <td>0</td>\n",
              "      <td>0</td>\n",
              "      <td>0</td>\n",
              "    </tr>\n",
              "    <tr>\n",
              "      <th>1</th>\n",
              "      <td>0</td>\n",
              "      <td>0</td>\n",
              "      <td>0</td>\n",
              "      <td>0</td>\n",
              "      <td>1</td>\n",
              "      <td>0</td>\n",
              "      <td>0</td>\n",
              "      <td>0</td>\n",
              "      <td>0</td>\n",
              "      <td>0</td>\n",
              "      <td>0</td>\n",
              "    </tr>\n",
              "    <tr>\n",
              "      <th>2</th>\n",
              "      <td>0</td>\n",
              "      <td>0</td>\n",
              "      <td>0</td>\n",
              "      <td>1</td>\n",
              "      <td>0</td>\n",
              "      <td>0</td>\n",
              "      <td>0</td>\n",
              "      <td>0</td>\n",
              "      <td>0</td>\n",
              "      <td>0</td>\n",
              "      <td>0</td>\n",
              "    </tr>\n",
              "    <tr>\n",
              "      <th>3</th>\n",
              "      <td>0</td>\n",
              "      <td>0</td>\n",
              "      <td>0</td>\n",
              "      <td>0</td>\n",
              "      <td>1</td>\n",
              "      <td>0</td>\n",
              "      <td>0</td>\n",
              "      <td>0</td>\n",
              "      <td>0</td>\n",
              "      <td>0</td>\n",
              "      <td>0</td>\n",
              "    </tr>\n",
              "    <tr>\n",
              "      <th>4</th>\n",
              "      <td>0</td>\n",
              "      <td>0</td>\n",
              "      <td>0</td>\n",
              "      <td>0</td>\n",
              "      <td>1</td>\n",
              "      <td>0</td>\n",
              "      <td>0</td>\n",
              "      <td>0</td>\n",
              "      <td>0</td>\n",
              "      <td>0</td>\n",
              "      <td>0</td>\n",
              "    </tr>\n",
              "  </tbody>\n",
              "</table>\n",
              "</div>"
            ],
            "text/plain": [
              "   0   1   2   3   4   5   6   7   8   9   10\n",
              "0   1   0   0   0   0   0   0   0   0   0   0\n",
              "1   0   0   0   0   1   0   0   0   0   0   0\n",
              "2   0   0   0   1   0   0   0   0   0   0   0\n",
              "3   0   0   0   0   1   0   0   0   0   0   0\n",
              "4   0   0   0   0   1   0   0   0   0   0   0"
            ]
          },
          "metadata": {
            "tags": []
          },
          "execution_count": 81
        }
      ]
    },
    {
      "cell_type": "code",
      "metadata": {
        "id": "slGqeNHcBVV1",
        "colab_type": "code",
        "colab": {}
      },
      "source": [
        "from xgboost import XGBClassifier\n",
        "from sklearn.model_selection import train_test_split\n",
        " \n",
        "X_train, Y = df_train.drop([\"Stay\"], axis=1).values, df_train[\"Stay\"].values\n",
        "X_test = df_test.values\n",
        "Y = df_labels.values"
      ],
      "execution_count": null,
      "outputs": []
    },
    {
      "cell_type": "code",
      "metadata": {
        "id": "-G_I_cQva8-4",
        "colab_type": "code",
        "colab": {}
      },
      "source": [
        "import keras\n",
        "from keras.models import Model\n",
        "from keras.layers import Input,  Dense , concatenate, Reshape, Flatten, BatchNormalization\n",
        "from keras.models import Sequential\n",
        "from keras.layers.embeddings import Embedding\n",
        "from keras.layers.recurrent import LSTM\n",
        "from keras.layers.wrappers import Bidirectional\n",
        "import numpy as np\n",
        "import tensorflow\n",
        "\n",
        "tensorflow.random.set_seed(2)\n",
        "session_conf = tensorflow.compat.v1.ConfigProto(intra_op_parallelism_threads=1, inter_op_parallelism_threads=1)\n",
        "sess = tensorflow.compat.v1.Session(graph=tensorflow.compat.v1.get_default_graph(), config=session_conf)\n",
        "tensorflow.compat.v1.keras.backend.set_session(sess)\n",
        "\n",
        "batch_size = 32\n",
        "\n",
        "#categorical inputs\n",
        "inp2 = Input(shape=(1,))\n",
        "inp3 = Input(shape=(1,))\n",
        "inp4 = Input(shape=(1,))\n",
        "inp6 = Input(shape=(1,))\n",
        "inp7 = Input(shape=(1,))\n",
        "\n",
        "# numerical input\n",
        "inp8 = Input(shape=(7,)) \n",
        "\n",
        "#embedding layers\n",
        "layer2 = Flatten()(Embedding(len(df_train.Hospital_region_code.unique()), 2*len(df_train.Hospital_region_code.unique()), trainable=True)(inp2))\n",
        "layer3 = Flatten()(Embedding(len(df_train.Department.unique()),2*len(df_train.Department.unique()), trainable=True)(inp3))\n",
        "layer4 = Flatten()(Embedding(len(df_train.Ward_Type.unique()), 2*len(df_train.Ward_Type.unique()), trainable=True)(inp4))\n",
        "layer6 = Flatten()(Embedding(len(df_train[\"Type of Admission\"].unique()),2*len(df_train[\"Type of Admission\"].unique()), trainable=True)(inp6))\n",
        "layer7 = Flatten()(Embedding(len(df_train[\"Severity of Illness\"].unique()), 2*len(df_train[\"Severity of Illness\"].unique()), trainable=True)(inp7))\n",
        "\n",
        "merge = concatenate([layer2,layer3,layer4,layer6,layer7,inp8])\n",
        "\n",
        "opt = keras.optimizers.Adam(learning_rate=0.0005)\n",
        "hidden1 = Dense(512, activation='relu')(merge)\n",
        "hidden_test = Dense(256, activation='relu')(hidden1)\n",
        "hidden2 = Dense(256, activation='relu')(hidden1)\n",
        "hidden3 = Dense(128, activation='relu')(hidden2)\n",
        "hidden4 = Dense(64, activation='relu')(hidden3)\n",
        "hidden5 = Dense(32, activation='relu')(hidden4)\n",
        "\n",
        "\n",
        "#concat both models\n",
        "output = Dense(11,activation='softmax')(hidden5)\n",
        "model = Model(inputs=[inp2,inp3,inp4,inp6,inp7,inp8], outputs=output)\n",
        "#model = Model(inputs=[inp1,inp2,inp3,inp4,inp5,inp6,inp7,inp8], outputs=output)\n",
        "model.compile(loss = 'categorical_crossentropy', optimizer=opt,metrics = ['accuracy'])\n",
        "print(model.summary())\n",
        "\n",
        "model.fit(x = [np.reshape(df_train.Hospital_region_code.values, (-1,1)),\n",
        "               np.reshape(df_train.Department.values, (-1,1)),\n",
        "               np.reshape(df_train.Ward_Type.values, (-1,1)),\n",
        "               np.reshape(df_train[\"Type of Admission\"].values, (-1,1)),\n",
        "               np.reshape(df_train[\"Severity of Illness\"].values, (-1,1)),\n",
        "               df_train[['Hospital_code', 'Available Extra Rooms in Hospital','Bed Grade','City_Code_Patient', 'Visitors with Patient', 'Age', 'Admission_Deposit']]], \n",
        "          y = Y, batch_size =batch_size, epochs = 7,  verbose = 1)\n"
      ],
      "execution_count": null,
      "outputs": []
    },
    {
      "cell_type": "code",
      "metadata": {
        "id": "Y_Foq1MT_J17",
        "colab_type": "code",
        "colab": {
          "base_uri": "https://localhost:8080/",
          "height": 34
        },
        "outputId": "60817c91-e4d1-4cfa-ab56-c50b0741d33a"
      },
      "source": [
        "preds = model.predict([np.reshape(df_test.Hospital_region_code.values, (-1,1)),\n",
        "               np.reshape(df_test.Department.values, (-1,1)),\n",
        "               np.reshape(df_test.Ward_Type.values, (-1,1)),\n",
        "               np.reshape(df_test[\"Type of Admission\"].values, (-1,1)),\n",
        "               np.reshape(df_test[\"Severity of Illness\"].values, (-1,1)),\n",
        "               df_test[['Hospital_code', 'Available Extra Rooms in Hospital','Bed Grade','City_Code_Patient', 'Visitors with Patient', 'Age', 'Admission_Deposit']]], verbose=1)"
      ],
      "execution_count": null,
      "outputs": [
        {
          "output_type": "stream",
          "text": [
            "4284/4284 [==============================] - 8s 2ms/step\n"
          ],
          "name": "stdout"
        }
      ]
    },
    {
      "cell_type": "code",
      "metadata": {
        "id": "0UqWVPt3pAap",
        "colab_type": "code",
        "colab": {
          "base_uri": "https://localhost:8080/",
          "height": 34
        },
        "outputId": "b01f178c-53ba-4711-e92c-cdb1e879f0f7"
      },
      "source": [
        "preds = np.argmax(preds, axis = 1)\n",
        "print(preds)"
      ],
      "execution_count": null,
      "outputs": [
        {
          "output_type": "stream",
          "text": [
            "[0 5 2 ... 2 1 5]\n"
          ],
          "name": "stdout"
        }
      ]
    },
    {
      "cell_type": "code",
      "metadata": {
        "id": "SYyuow8neRac",
        "colab_type": "code",
        "colab": {}
      },
      "source": [
        "m_rev = {'0':'0-10', '1':'11-20', '2':'21-30', '3':'31-40','4':'41-50','5':'51-60','6':'61-70','7':'71-80','8':'81-90','9':'91-100','10':'More than 100 Days' }\n",
        "#preds_final = m_rev[preds]\n",
        "\n",
        "new_preds= []\n",
        "for i in range(len(preds)):\n",
        "  #new_preds.append(m_rev[str(preds[i][0])])\n",
        "  new_preds.append(m_rev[str(preds[i])])\n"
      ],
      "execution_count": null,
      "outputs": []
    },
    {
      "cell_type": "code",
      "metadata": {
        "id": "16DTewkfUMg1",
        "colab_type": "code",
        "colab": {}
      },
      "source": [
        "df_submit = pd.DataFrame({'Stay': new_preds})\n",
        "df_submit.to_excel(\"submit.xlsx\", index=False)"
      ],
      "execution_count": null,
      "outputs": []
    }
  ]
}