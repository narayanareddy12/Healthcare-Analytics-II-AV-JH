{
 "cells": [
  {
   "cell_type": "code",
   "execution_count": null,
   "metadata": {
    "colab": {},
    "colab_type": "code",
    "id": "n2cHMojdAQ6p"
   },
   "outputs": [],
   "source": [
    "import pandas as pd\n",
    "df_train = pd.read_csv('train.csv')\n",
    "df_test = pd.read_csv('test.csv')\n",
    "\n",
    "#contains the probability scores for each target class obtained from Neural Network\n",
    "df_train_ae = pd.read_csv('submit_proba_train.csv')\n",
    "df_test_ae = pd.read_csv('submit_proba_test.csv')\n",
    "\n",
    "df_train = pd.merge(df_train, df_train_ae, on='case_id')\n",
    "df_test = pd.merge(df_test, df_test_ae, on='case_id')"
   ]
  },
  {
   "cell_type": "code",
   "execution_count": null,
   "metadata": {
    "colab": {
     "base_uri": "https://localhost:8080/",
     "height": 85
    },
    "colab_type": "code",
    "id": "jkvKuWaYYSQg",
    "outputId": "7c84734c-e012-4fb5-b18a-82745eb1cff4"
   },
   "outputs": [
    {
     "name": "stderr",
     "output_type": "stream",
     "text": [
      "100%|██████████| 92017/92017 [00:30<00:00, 2994.49it/s]\n",
      "100%|██████████| 318438/318438 [00:00<00:00, 1014090.99it/s]\n",
      "100%|██████████| 39607/39607 [00:13<00:00, 3024.98it/s]\n",
      "100%|██████████| 137057/137057 [00:00<00:00, 1017107.03it/s]\n"
     ]
    }
   ],
   "source": [
    "from tqdm import tqdm\n",
    "import numpy as np\n",
    "\n",
    "hc_un = df_train[\"Hospital_code\"].unique()\n",
    "hc_un.sort()\n",
    "map_hc, map_pid = dict(), dict()\n",
    "for index, val in enumerate(hc_un):\n",
    "  map_hc[val] = index\n",
    "\n",
    "for pid, df in tqdm(df_train.groupby(\"patientid\")):\n",
    "  tmp = np.zeros(len(map_hc))\n",
    "  for val in df[\"Hospital_code\"].values:\n",
    "    tmp[map_hc[val]]+=1\n",
    "  map_pid[pid] = tmp\n",
    "\n",
    "# For train\n",
    "tmp = list()\n",
    "for val in tqdm(df_train[\"patientid\"].values):\n",
    "  tmp.append(map_pid[val])\n",
    "tmp = np.array(tmp)\n",
    "for i in range(len(map_hc)):\n",
    "  df_train[\"patientid_hospital_code_\"+str(i)] = tmp[:,i]\n",
    "\n",
    "hc_un = df_test[\"Hospital_code\"].unique()\n",
    "hc_un.sort()\n",
    "map_hc, map_pid = dict(), dict()\n",
    "for index, val in enumerate(hc_un):\n",
    "  map_hc[val] = index\n",
    "\n",
    "for pid, df in tqdm(df_test.groupby(\"patientid\")):\n",
    "  tmp = np.zeros(len(map_hc))\n",
    "  for val in df[\"Hospital_code\"].values:\n",
    "    tmp[map_hc[val]]+=1\n",
    "  map_pid[pid] = tmp\n",
    "\n",
    "# For test\n",
    "tmp = list()\n",
    "for val in tqdm(df_test[\"patientid\"].values):\n",
    "  tmp.append(map_pid[val])\n",
    "tmp = np.array(tmp)\n",
    "for i in range(len(map_hc)):\n",
    "  df_test[\"patientid_hospital_code_\"+str(i)] = tmp[:,i]"
   ]
  },
  {
   "cell_type": "code",
   "execution_count": null,
   "metadata": {
    "colab": {},
    "colab_type": "code",
    "id": "jdjYDZrXwhOA"
   },
   "outputs": [],
   "source": [
    "# Bed-grade has nulls. Bed-grade is different for each hospital, and its ward type and facility\n",
    "df_train[\"Bed Grade\"] = df_train.groupby([\"Hospital_code\"], sort=False)[\"Bed Grade\"].apply(lambda x: x.fillna(x.mean()))\n",
    "df_test[\"Bed Grade\"] = df_test.groupby([\"Hospital_code\"], sort=False)[\"Bed Grade\"].apply(lambda x: x.fillna(x.mean()))\n",
    "\n",
    "# City_Code_Patient has nulls. Treat them as a separate code\n",
    "df_train[\"City_Code_Patient\"] = df_train[\"City_Code_Patient\"].fillna(39)\n",
    "df_test[\"City_Code_Patient\"] = df_test[\"City_Code_Patient\"].fillna(39)\n",
    "\n",
    "#Categorical and numerical columns:\n",
    "cols_cat = ['Hospital_code', 'City_Code_Hospital', \"Hospital_type_code\", \"Hospital_region_code\", \"Department\", \"Ward_Type\", \"Ward_Facility_Code\", 'City_Code_Patient']\n",
    "cols_cont = ['Available Extra Rooms in Hospital','Bed Grade', 'Visitors with Patient', 'Age', 'Admission_Deposit', \"Severity of Illness\", \"Type of Admission\"]"
   ]
  },
  {
   "cell_type": "code",
   "execution_count": null,
   "metadata": {
    "colab": {},
    "colab_type": "code",
    "id": "0S_Ryevlg6z1"
   },
   "outputs": [],
   "source": [
    "df_train = df_train.dropna()"
   ]
  },
  {
   "cell_type": "code",
   "execution_count": null,
   "metadata": {
    "colab": {},
    "colab_type": "code",
    "id": "s97Xh4otho63"
   },
   "outputs": [],
   "source": [
    "df_train.drop(['case_id', 'patientid' ], axis=1, inplace=True)\n",
    "df_test.drop(['case_id', 'patientid'  ], axis=1, inplace=True)"
   ]
  },
  {
   "cell_type": "code",
   "execution_count": null,
   "metadata": {
    "colab": {},
    "colab_type": "code",
    "id": "Vex1o9IKjnrY"
   },
   "outputs": [],
   "source": [
    "from sklearn.preprocessing import LabelEncoder\n",
    "le = LabelEncoder()\n",
    "df_train[\"Department\"] = le.fit_transform(df_train[\"Department\"])\n",
    "df_test[\"Department\"] = le.transform(df_test[\"Department\"])\n",
    "\n",
    "\n",
    "mp = {'P':1, 'Q':2, 'R':3, 'S':4, 'T':5, 'U':6}\n",
    "\n",
    "df_train[\"Ward_Type\"] = df_train[\"Ward_Type\"].map(mp)\n",
    "df_test[\"Ward_Type\"] = df_test[\"Ward_Type\"].map(mp)"
   ]
  },
  {
   "cell_type": "code",
   "execution_count": null,
   "metadata": {
    "colab": {},
    "colab_type": "code",
    "id": "fFp_-ZthuIYk"
   },
   "outputs": [],
   "source": [
    "le = LabelEncoder()\n",
    "mp = {'a':1,'b':2,'c':3,'d':4,'e':5,'f':6,'g':7}\n",
    "\n",
    "df_train[\"Hospital_type_code\"] = df_train[\"Hospital_type_code\"].map(mp)\n",
    "df_test[\"Hospital_type_code\"] = df_test[\"Hospital_type_code\"].map(mp)\n",
    "\n",
    "le = LabelEncoder()\n",
    "df_train[\"Hospital_region_code\"] = le.fit_transform(df_train[\"Hospital_region_code\"])\n",
    "df_test[\"Hospital_region_code\"] = le.transform(df_test[\"Hospital_region_code\"])\n",
    "\n",
    "mp = {'A':6,'B':5,'C':4,'D':3,'E':2,'F':1}\n",
    "#mp = {'A':1,'B':2,'C':3,'D':4,'E':5,'F':6}\n",
    "df_train[\"Ward_Facility_Code\"] = df_train[\"Ward_Facility_Code\"].map(mp)\n",
    "df_test[\"Ward_Facility_Code\"] = df_test[\"Ward_Facility_Code\"].map(mp)"
   ]
  },
  {
   "cell_type": "code",
   "execution_count": null,
   "metadata": {
    "colab": {},
    "colab_type": "code",
    "id": "3zoVFMC6uUca"
   },
   "outputs": [],
   "source": [
    "#df_train['Severity of Illness'].unique() \n",
    "m2 = {'Emergency':2, 'Urgent':3, 'Trauma':1}\n",
    "m3 = {'Minor':1, 'Moderate':2, 'Extreme':3}\n",
    "\n",
    "df_train['Type of Admission'] = df_train['Type of Admission'].map(m2)\n",
    "df_test['Type of Admission'] = df_test['Type of Admission'].map(m2)\n",
    "\n",
    "df_train['Severity of Illness'] = df_train['Severity of Illness'].map(m3)\n",
    "df_test['Severity of Illness'] = df_test['Severity of Illness'].map(m3)"
   ]
  },
  {
   "cell_type": "code",
   "execution_count": null,
   "metadata": {
    "colab": {},
    "colab_type": "code",
    "id": "EeIwMkKijvq3"
   },
   "outputs": [],
   "source": [
    "m = {'0-10':0, '11-20':1, '21-30':2, '31-40':3,'41-50':4,'51-60':5,'61-70':6,'71-80':7,'81-90':8,'91-100':9,'More than 100 Days':10 }\n",
    "df_train['Age'] = df_train['Age'].map(m)\n",
    "df_train['Stay'] = df_train['Stay'].map(m)\n",
    "\n",
    "df_test['Age'] = df_test['Age'].map(m)"
   ]
  },
  {
   "cell_type": "code",
   "execution_count": null,
   "metadata": {
    "colab": {},
    "colab_type": "code",
    "id": "-vWu3Kg_xISM"
   },
   "outputs": [],
   "source": [
    "df_train = df_train.drop_duplicates(keep='first')"
   ]
  },
  {
   "cell_type": "code",
   "execution_count": null,
   "metadata": {
    "colab": {},
    "colab_type": "code",
    "id": "6y6hUsJyAf9N"
   },
   "outputs": [],
   "source": [
    "#if hosp and patient are in same city\n",
    "city = df_train['City_Code_Hospital'].values\n",
    "patient = df_train['City_Code_Patient'].values\n",
    "val = []\n",
    "\n",
    "for i in range(len(city)):\n",
    "  if city[i] == patient[i]:\n",
    "    val.append(1)\n",
    "  else:\n",
    "    val.append(0)\n",
    "df_train['hosp_patient_same'] = val\n",
    "\n",
    "city = df_test['City_Code_Hospital'].values\n",
    "patient = df_test['City_Code_Patient'].values\n",
    "val = []\n",
    "\n",
    "for i in range(len(city)):\n",
    "  if city[i] == patient[i]:\n",
    "    val.append(1)\n",
    "  else:\n",
    "    val.append(0)\n",
    "df_test['hosp_patient_same'] = val"
   ]
  },
  {
   "cell_type": "code",
   "execution_count": null,
   "metadata": {
    "colab": {},
    "colab_type": "code",
    "id": "mTBXK73zxIii"
   },
   "outputs": [],
   "source": [
    "df_train.drop(['91-100' ], axis=1, inplace=True)\n",
    "df_test.drop(['91-100'  ], axis=1, inplace=True)"
   ]
  },
  {
   "cell_type": "code",
   "execution_count": null,
   "metadata": {
    "colab": {},
    "colab_type": "code",
    "id": "bADJgbbs_hTi"
   },
   "outputs": [],
   "source": [
    "df_train['add_age'] = df_train['Age'] * df_train['Type of Admission']\n",
    "df_test['add_age'] =df_test['Age'] * df_test['Type of Admission']"
   ]
  },
  {
   "cell_type": "code",
   "execution_count": null,
   "metadata": {
    "colab": {},
    "colab_type": "code",
    "id": "-Xd1f5lFilb1"
   },
   "outputs": [],
   "source": [
    "from xgboost import XGBClassifier\n",
    "from sklearn.model_selection import train_test_split\n",
    "from sklearn.model_selection import train_test_split, KFold, StratifiedKFold\n",
    "from sklearn.metrics import accuracy_score\n",
    "from sklearn.ensemble import RandomForestClassifier\n",
    "from sklearn.linear_model import LogisticRegression\n",
    "from lightgbm import LGBMClassifier\n",
    "#from catboost import CatBoostClassifier\n",
    " \n",
    "\n",
    "X_train, Y = df_train.drop([\"Stay\"], axis=1).values, df_train[\"Stay\"].values\n",
    "X_test = df_test.values"
   ]
  },
  {
   "cell_type": "code",
   "execution_count": null,
   "metadata": {
    "colab": {},
    "colab_type": "code",
    "id": "QNdHAZG5jSKY"
   },
   "outputs": [],
   "source": [
    "from sklearn.model_selection import train_test_split, KFold, StratifiedKFold\n",
    "from sklearn.metrics import accuracy_score\n",
    "from sklearn.ensemble import RandomForestClassifier\n",
    "from sklearn.linear_model import LogisticRegression\n",
    "from lightgbm import LGBMClassifier\n",
    "from catboost import CatBoostClassifier\n",
    " \n",
    " \n",
    "kfold, scores = KFold(n_splits=5, shuffle=True, random_state=0), list()\n",
    "for training, testing in kfold.split(X_train):\n",
    "    x_train, x_test = X_train[training], X_train[testing]\n",
    "    y_train, y_test = Y[training], Y[testing]\n",
    "    \n",
    "    #df.columns.get_loc(\"pear\")\n",
    "    cat_feat = [df_train.columns.get_loc(i) for  i in ['Hospital_region_code','Hospital_code', 'City_Code_Hospital','Hospital_type_code','Department','City_Code_Patient', 'Gender']]\n",
    "    model = LGBMClassifier(max_depth=9,random_state=22,categorical_feature=cat_feat)\n",
    "    model.fit(x_train, y_train)\n",
    "    preds = model.predict(x_test)\n",
    "    score = accuracy_score(y_test, preds)\n",
    "    scores.append(score)\n",
    "    print(score)\n",
    "print(\"Average: \", sum(scores)/len(scores))"
   ]
  },
  {
   "cell_type": "code",
   "execution_count": null,
   "metadata": {
    "colab": {
     "base_uri": "https://localhost:8080/",
     "height": 609
    },
    "colab_type": "code",
    "id": "DL29GMWIzaTg",
    "outputId": "ad1388dc-a06d-45db-ae2d-436f729048c6"
   },
   "outputs": [
    {
     "data": {
      "text/plain": [
       "<matplotlib.axes._subplots.AxesSubplot at 0x7f077fe7a5c0>"
      ]
     },
     "execution_count": 103,
     "metadata": {
      "tags": []
     },
     "output_type": "execute_result"
    },
    {
     "data": {
      "image/png": "[encoded data removed]",
      "text/plain": [
       "<Figure size 576x720 with 1 Axes>"
      ]
     },
     "metadata": {
      "needs_background": "light",
      "tags": []
     },
     "output_type": "display_data"
    }
   ],
   "source": [
    "#think about ward_score\n",
    "feat_imp = pd.Series(model.feature_importances_, index=df_train.drop([\"Stay\"], axis=1).columns)\n",
    "feat_imp.nlargest(50).plot(kind='barh', figsize=(8,10))"
   ]
  },
  {
   "cell_type": "code",
   "execution_count": null,
   "metadata": {
    "colab": {},
    "colab_type": "code",
    "id": "5ySxo6w-bKII"
   },
   "outputs": [],
   "source": [
    "#oof predictions\n",
    "import numpy as np\n",
    "\n",
    "i=0\n",
    "setused=X_train\n",
    "targ=Y\n",
    "\n",
    "scores=[]\n",
    "splits=5\n",
    "\n",
    "cnf_matrix=[]\n",
    "sc = 0\n",
    "kfold, scores = KFold(n_splits=splits,random_state=True), list()\n",
    "for train2, test2 in kfold.split(setused,targ):\n",
    "    x_train, x_test = setused[train2], setused[test2]\n",
    "    y_train, y_test = targ[train2], targ[test2]\n",
    "    eval_set = [(x_test,y_test)]\n",
    "    cat_feat = [df_train.columns.get_loc(i) for  i in ['Hospital_region_code','Hospital_code', 'City_Code_Hospital','Hospital_type_code','Department','City_Code_Patient']]\n",
    "    model = LGBMClassifier(random_state=22,categorical_feature=cat_feat)\n",
    "    model.fit(x_train, y_train)\n",
    "    preds = model.predict(x_test)\n",
    "    score = accuracy_score(y_test, preds)\n",
    "    scores.append(score)\n",
    "    print(score)    \n",
    "    sc += 1\n",
    "    if i == 0:\n",
    "      oof_preds = model.predict_proba(X_test)\n",
    "      i += 1\n",
    "    else:\n",
    "      oof_preds += model.predict_proba(X_test)\n",
    "oof_preds = oof_preds/sc\n",
    "\n",
    "print(\"Average: \", np.sum(scores)/len(scores))"
   ]
  },
  {
   "cell_type": "code",
   "execution_count": null,
   "metadata": {
    "colab": {},
    "colab_type": "code",
    "id": "DOSuSrbYBSh6"
   },
   "outputs": [],
   "source": [
    "final_preds = np.argmax(oof_preds, axis = 1)"
   ]
  },
  {
   "cell_type": "code",
   "execution_count": null,
   "metadata": {
    "colab": {},
    "colab_type": "code",
    "id": "xUAa96KQozTq"
   },
   "outputs": [],
   "source": [
    "m_rev = {'0':'0-10', '1':'11-20', '2':'21-30', '3':'31-40','4':'41-50','5':'51-60','6':'61-70','7':'71-80','8':'81-90','9':'91-100','10':'More than 100 Days' }\n",
    "new_preds= []\n",
    "for i in range(len(final_preds)):\n",
    "  new_preds.append(m_rev[str(int(final_preds[i]))])\n"
   ]
  },
  {
   "cell_type": "code",
   "execution_count": null,
   "metadata": {
    "colab": {},
    "colab_type": "code",
    "id": "CVhozXSUoyHk"
   },
   "outputs": [],
   "source": [
    "df_submit = pd.DataFrame({'Stay': new_preds})\n",
    "df_submit.to_excel(\"submit.xlsx\", index=False)"
   ]
  }
 ],
 "metadata": {
  "colab": {
   "collapsed_sections": [],
   "name": "AV_healthcare2.ipynb",
   "provenance": []
  },
  "kernelspec": {
   "display_name": "Python 3",
   "language": "python",
   "name": "python3"
  },
  "language_info": {
   "codemirror_mode": {
    "name": "ipython",
    "version": 3
   },
   "file_extension": ".py",
   "mimetype": "text/x-python",
   "name": "python",
   "nbconvert_exporter": "python",
   "pygments_lexer": "ipython3",
   "version": "3.8.3"
  }
 },
 "nbformat": 4,
 "nbformat_minor": 1
}
