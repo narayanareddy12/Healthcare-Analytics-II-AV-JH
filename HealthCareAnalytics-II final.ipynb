{
 "cells": [
  {
   "cell_type": "code",
   "execution_count": 1206,
   "metadata": {},
   "outputs": [],
   "source": [
    "import pandas as pd\n",
    "import numpy as np\n",
    "import matplotlib.pyplot as plt\n",
    "%matplotlib inline\n",
    "import seaborn as sns\n",
    "from matplotlib import style\n",
    "style.use('ggplot')\n",
    "from scipy import stats\n",
    "pd.options.display.max_columns=50\n",
    "\n",
    "from sklearn.model_selection import StratifiedKFold\n",
    "from sklearn.preprocessing import LabelEncoder,StandardScaler,MinMaxScaler\n",
    "from sklearn.metrics import accuracy_score\n",
    "import lightgbm as lgb\n",
    "import xgboost as xgb"
   ]
  },
  {
   "cell_type": "code",
   "execution_count": 1207,
   "metadata": {},
   "outputs": [],
   "source": [
    "dtypes = {\"case_id\":\"uint32\",\"Hospital_code\":'uint8','City_Code_Hospital':\"uint8\",\"Available Extra Rooms in Hospital\":\"uint8\",\"Visitors with Patient\":\"uint8\",\"Admission_Deposit\":\"float32\"}\n",
    "train = pd.read_csv(\"train.csv\",dtype=dtypes)\n",
    "test  = pd.read_csv(\"test.csv\",dtype=dtypes)"
   ]
  },
  {
   "cell_type": "code",
   "execution_count": 1208,
   "metadata": {},
   "outputs": [
    {
     "data": {
      "text/plain": [
       "((318438, 18), (137057, 17))"
      ]
     },
     "execution_count": 1208,
     "metadata": {},
     "output_type": "execute_result"
    }
   ],
   "source": [
    "train.shape, test.shape"
   ]
  },
  {
   "cell_type": "code",
   "execution_count": 1209,
   "metadata": {},
   "outputs": [
    {
     "name": "stdout",
     "output_type": "stream",
     "text": [
      "<class 'pandas.core.frame.DataFrame'>\n",
      "RangeIndex: 318438 entries, 0 to 318437\n",
      "Data columns (total 18 columns):\n",
      " #   Column                             Non-Null Count   Dtype  \n",
      "---  ------                             --------------   -----  \n",
      " 0   case_id                            318438 non-null  uint32 \n",
      " 1   Hospital_code                      318438 non-null  uint8  \n",
      " 2   Hospital_type_code                 318438 non-null  object \n",
      " 3   City_Code_Hospital                 318438 non-null  uint8  \n",
      " 4   Hospital_region_code               318438 non-null  object \n",
      " 5   Available Extra Rooms in Hospital  318438 non-null  uint8  \n",
      " 6   Department                         318438 non-null  object \n",
      " 7   Ward_Type                          318438 non-null  object \n",
      " 8   Ward_Facility_Code                 318438 non-null  object \n",
      " 9   Bed Grade                          318325 non-null  float64\n",
      " 10  patientid                          318438 non-null  int64  \n",
      " 11  City_Code_Patient                  313906 non-null  float64\n",
      " 12  Type of Admission                  318438 non-null  object \n",
      " 13  Severity of Illness                318438 non-null  object \n",
      " 14  Visitors with Patient              318438 non-null  uint8  \n",
      " 15  Age                                318438 non-null  object \n",
      " 16  Admission_Deposit                  318438 non-null  float32\n",
      " 17  Stay                               318438 non-null  object \n",
      "dtypes: float32(1), float64(2), int64(1), object(9), uint32(1), uint8(4)\n",
      "memory usage: 32.8+ MB\n"
     ]
    }
   ],
   "source": [
    "train.info()"
   ]
  },
  {
   "cell_type": "code",
   "execution_count": 1210,
   "metadata": {},
   "outputs": [
    {
     "name": "stdout",
     "output_type": "stream",
     "text": [
      "<class 'pandas.core.frame.DataFrame'>\n",
      "RangeIndex: 137057 entries, 0 to 137056\n",
      "Data columns (total 17 columns):\n",
      " #   Column                             Non-Null Count   Dtype  \n",
      "---  ------                             --------------   -----  \n",
      " 0   case_id                            137057 non-null  uint32 \n",
      " 1   Hospital_code                      137057 non-null  uint8  \n",
      " 2   Hospital_type_code                 137057 non-null  object \n",
      " 3   City_Code_Hospital                 137057 non-null  uint8  \n",
      " 4   Hospital_region_code               137057 non-null  object \n",
      " 5   Available Extra Rooms in Hospital  137057 non-null  uint8  \n",
      " 6   Department                         137057 non-null  object \n",
      " 7   Ward_Type                          137057 non-null  object \n",
      " 8   Ward_Facility_Code                 137057 non-null  object \n",
      " 9   Bed Grade                          137022 non-null  float64\n",
      " 10  patientid                          137057 non-null  int64  \n",
      " 11  City_Code_Patient                  134900 non-null  float64\n",
      " 12  Type of Admission                  137057 non-null  object \n",
      " 13  Severity of Illness                137057 non-null  object \n",
      " 14  Visitors with Patient              137057 non-null  uint8  \n",
      " 15  Age                                137057 non-null  object \n",
      " 16  Admission_Deposit                  137057 non-null  float32\n",
      "dtypes: float32(1), float64(2), int64(1), object(8), uint32(1), uint8(4)\n",
      "memory usage: 13.1+ MB\n"
     ]
    }
   ],
   "source": [
    "test.info()"
   ]
  },
  {
   "cell_type": "code",
   "execution_count": 1211,
   "metadata": {},
   "outputs": [],
   "source": [
    "train.drop(\"case_id\",axis=1,inplace=True)\n",
    "Submission = test[['case_id']]\n",
    "test.drop(\"case_id\",axis=1,inplace=True)"
   ]
  },
  {
   "cell_type": "code",
   "execution_count": 1212,
   "metadata": {},
   "outputs": [],
   "source": [
    "train.rename(columns={\"Available Extra Rooms in Hospital\":\"Extra_Rooms\",\"Severity of Illness\":\"Severity\",\n",
    "                      \"Visitors with Patient\":\"Visitors\",\"Admission_Deposit\":\"Deposit\",\"Hospital_type_code\":\"Hospital_type\",\n",
    "                      \"Hospital_region_code\":\"Hospital_region\",\"Ward_Type\":\"Ward\",\"Ward_Facility_Code\":\"Ward_Facility\",\"Hospital_region\":\"Region\",\n",
    "                      \"Bed Grade\":\"Bed_Grade\",\"Type of Admission\":\"Admission_Type\"},inplace=True)\n",
    "\n",
    "test.rename(columns={\"Available Extra Rooms in Hospital\":\"Extra_Rooms\",\"Severity of Illness\":\"Severity\",\n",
    "                      \"Visitors with Patient\":\"Visitors\",\"Admission_Deposit\":\"Deposit\",\"Hospital_type_code\":\"Hospital_type\",\n",
    "                      \"Hospital_region_code\":\"Hospital_region\",\"Ward_Type\":\"Ward\",\"Ward_Facility_Code\":\"Ward_Facility\",\"Hospital_region\":\"Region\",\n",
    "                      \"Bed Grade\":\"Bed_Grade\",\"Type of Admission\":\"Admission_Type\"},inplace=True)"
   ]
  },
  {
   "cell_type": "code",
   "execution_count": 1213,
   "metadata": {},
   "outputs": [
    {
     "data": {
      "text/plain": [
       "Hospital_code            0\n",
       "Hospital_type            0\n",
       "City_Code_Hospital       0\n",
       "Hospital_region          0\n",
       "Extra_Rooms              0\n",
       "Department               0\n",
       "Ward                     0\n",
       "Ward_Facility            0\n",
       "Bed_Grade              113\n",
       "patientid                0\n",
       "City_Code_Patient     4532\n",
       "Admission_Type           0\n",
       "Severity                 0\n",
       "Visitors                 0\n",
       "Age                      0\n",
       "Deposit                  0\n",
       "Stay                     0\n",
       "dtype: int64"
      ]
     },
     "execution_count": 1213,
     "metadata": {},
     "output_type": "execute_result"
    }
   ],
   "source": [
    "train.isna().sum()"
   ]
  },
  {
   "cell_type": "code",
   "execution_count": 1214,
   "metadata": {},
   "outputs": [
    {
     "data": {
      "text/plain": [
       "Hospital_code            0\n",
       "Hospital_type            0\n",
       "City_Code_Hospital       0\n",
       "Hospital_region          0\n",
       "Extra_Rooms              0\n",
       "Department               0\n",
       "Ward                     0\n",
       "Ward_Facility            0\n",
       "Bed_Grade               35\n",
       "patientid                0\n",
       "City_Code_Patient     2157\n",
       "Admission_Type           0\n",
       "Severity                 0\n",
       "Visitors                 0\n",
       "Age                      0\n",
       "Deposit                  0\n",
       "dtype: int64"
      ]
     },
     "execution_count": 1214,
     "metadata": {},
     "output_type": "execute_result"
    }
   ],
   "source": [
    "test.isna().sum()"
   ]
  },
  {
   "cell_type": "code",
   "execution_count": 1215,
   "metadata": {},
   "outputs": [
    {
     "data": {
      "text/html": [
       "<div>\n",
       "<style scoped>\n",
       "    .dataframe tbody tr th:only-of-type {\n",
       "        vertical-align: middle;\n",
       "    }\n",
       "\n",
       "    .dataframe tbody tr th {\n",
       "        vertical-align: top;\n",
       "    }\n",
       "\n",
       "    .dataframe thead th {\n",
       "        text-align: right;\n",
       "    }\n",
       "</style>\n",
       "<table border=\"1\" class=\"dataframe\">\n",
       "  <thead>\n",
       "    <tr style=\"text-align: right;\">\n",
       "      <th></th>\n",
       "      <th>Hospital_code</th>\n",
       "      <th>Hospital_type</th>\n",
       "      <th>City_Code_Hospital</th>\n",
       "      <th>Hospital_region</th>\n",
       "      <th>Extra_Rooms</th>\n",
       "      <th>Department</th>\n",
       "      <th>Ward</th>\n",
       "      <th>Ward_Facility</th>\n",
       "      <th>Bed_Grade</th>\n",
       "      <th>patientid</th>\n",
       "      <th>City_Code_Patient</th>\n",
       "      <th>Admission_Type</th>\n",
       "      <th>Severity</th>\n",
       "      <th>Visitors</th>\n",
       "      <th>Age</th>\n",
       "      <th>Deposit</th>\n",
       "      <th>Stay</th>\n",
       "    </tr>\n",
       "  </thead>\n",
       "  <tbody>\n",
       "    <tr>\n",
       "      <th>0</th>\n",
       "      <td>8</td>\n",
       "      <td>c</td>\n",
       "      <td>3</td>\n",
       "      <td>Z</td>\n",
       "      <td>3</td>\n",
       "      <td>radiotherapy</td>\n",
       "      <td>R</td>\n",
       "      <td>F</td>\n",
       "      <td>2.0</td>\n",
       "      <td>31397</td>\n",
       "      <td>7.0</td>\n",
       "      <td>Emergency</td>\n",
       "      <td>Extreme</td>\n",
       "      <td>2</td>\n",
       "      <td>51-60</td>\n",
       "      <td>4911.0</td>\n",
       "      <td>0-10</td>\n",
       "    </tr>\n",
       "    <tr>\n",
       "      <th>1</th>\n",
       "      <td>2</td>\n",
       "      <td>c</td>\n",
       "      <td>5</td>\n",
       "      <td>Z</td>\n",
       "      <td>2</td>\n",
       "      <td>radiotherapy</td>\n",
       "      <td>S</td>\n",
       "      <td>F</td>\n",
       "      <td>2.0</td>\n",
       "      <td>31397</td>\n",
       "      <td>7.0</td>\n",
       "      <td>Trauma</td>\n",
       "      <td>Extreme</td>\n",
       "      <td>2</td>\n",
       "      <td>51-60</td>\n",
       "      <td>5954.0</td>\n",
       "      <td>41-50</td>\n",
       "    </tr>\n",
       "    <tr>\n",
       "      <th>2</th>\n",
       "      <td>10</td>\n",
       "      <td>e</td>\n",
       "      <td>1</td>\n",
       "      <td>X</td>\n",
       "      <td>2</td>\n",
       "      <td>anesthesia</td>\n",
       "      <td>S</td>\n",
       "      <td>E</td>\n",
       "      <td>2.0</td>\n",
       "      <td>31397</td>\n",
       "      <td>7.0</td>\n",
       "      <td>Trauma</td>\n",
       "      <td>Extreme</td>\n",
       "      <td>2</td>\n",
       "      <td>51-60</td>\n",
       "      <td>4745.0</td>\n",
       "      <td>31-40</td>\n",
       "    </tr>\n",
       "    <tr>\n",
       "      <th>3</th>\n",
       "      <td>26</td>\n",
       "      <td>b</td>\n",
       "      <td>2</td>\n",
       "      <td>Y</td>\n",
       "      <td>2</td>\n",
       "      <td>radiotherapy</td>\n",
       "      <td>R</td>\n",
       "      <td>D</td>\n",
       "      <td>2.0</td>\n",
       "      <td>31397</td>\n",
       "      <td>7.0</td>\n",
       "      <td>Trauma</td>\n",
       "      <td>Extreme</td>\n",
       "      <td>2</td>\n",
       "      <td>51-60</td>\n",
       "      <td>7272.0</td>\n",
       "      <td>41-50</td>\n",
       "    </tr>\n",
       "    <tr>\n",
       "      <th>4</th>\n",
       "      <td>26</td>\n",
       "      <td>b</td>\n",
       "      <td>2</td>\n",
       "      <td>Y</td>\n",
       "      <td>2</td>\n",
       "      <td>radiotherapy</td>\n",
       "      <td>S</td>\n",
       "      <td>D</td>\n",
       "      <td>2.0</td>\n",
       "      <td>31397</td>\n",
       "      <td>7.0</td>\n",
       "      <td>Trauma</td>\n",
       "      <td>Extreme</td>\n",
       "      <td>2</td>\n",
       "      <td>51-60</td>\n",
       "      <td>5558.0</td>\n",
       "      <td>41-50</td>\n",
       "    </tr>\n",
       "  </tbody>\n",
       "</table>\n",
       "</div>"
      ],
      "text/plain": [
       "   Hospital_code Hospital_type  City_Code_Hospital Hospital_region  \\\n",
       "0              8             c                   3               Z   \n",
       "1              2             c                   5               Z   \n",
       "2             10             e                   1               X   \n",
       "3             26             b                   2               Y   \n",
       "4             26             b                   2               Y   \n",
       "\n",
       "   Extra_Rooms    Department Ward Ward_Facility  Bed_Grade  patientid  \\\n",
       "0            3  radiotherapy    R             F        2.0      31397   \n",
       "1            2  radiotherapy    S             F        2.0      31397   \n",
       "2            2    anesthesia    S             E        2.0      31397   \n",
       "3            2  radiotherapy    R             D        2.0      31397   \n",
       "4            2  radiotherapy    S             D        2.0      31397   \n",
       "\n",
       "   City_Code_Patient Admission_Type Severity  Visitors    Age  Deposit   Stay  \n",
       "0                7.0      Emergency  Extreme         2  51-60   4911.0   0-10  \n",
       "1                7.0         Trauma  Extreme         2  51-60   5954.0  41-50  \n",
       "2                7.0         Trauma  Extreme         2  51-60   4745.0  31-40  \n",
       "3                7.0         Trauma  Extreme         2  51-60   7272.0  41-50  \n",
       "4                7.0         Trauma  Extreme         2  51-60   5558.0  41-50  "
      ]
     },
     "execution_count": 1215,
     "metadata": {},
     "output_type": "execute_result"
    }
   ],
   "source": [
    "train.head()"
   ]
  },
  {
   "cell_type": "code",
   "execution_count": 1216,
   "metadata": {},
   "outputs": [
    {
     "data": {
      "text/html": [
       "<div>\n",
       "<style scoped>\n",
       "    .dataframe tbody tr th:only-of-type {\n",
       "        vertical-align: middle;\n",
       "    }\n",
       "\n",
       "    .dataframe tbody tr th {\n",
       "        vertical-align: top;\n",
       "    }\n",
       "\n",
       "    .dataframe thead th {\n",
       "        text-align: right;\n",
       "    }\n",
       "</style>\n",
       "<table border=\"1\" class=\"dataframe\">\n",
       "  <thead>\n",
       "    <tr style=\"text-align: right;\">\n",
       "      <th></th>\n",
       "      <th>Hospital_code</th>\n",
       "      <th>Hospital_type</th>\n",
       "      <th>City_Code_Hospital</th>\n",
       "      <th>Hospital_region</th>\n",
       "      <th>Extra_Rooms</th>\n",
       "      <th>Department</th>\n",
       "      <th>Ward</th>\n",
       "      <th>Ward_Facility</th>\n",
       "      <th>Bed_Grade</th>\n",
       "      <th>patientid</th>\n",
       "      <th>City_Code_Patient</th>\n",
       "      <th>Admission_Type</th>\n",
       "      <th>Severity</th>\n",
       "      <th>Visitors</th>\n",
       "      <th>Age</th>\n",
       "      <th>Deposit</th>\n",
       "    </tr>\n",
       "  </thead>\n",
       "  <tbody>\n",
       "    <tr>\n",
       "      <th>0</th>\n",
       "      <td>21</td>\n",
       "      <td>c</td>\n",
       "      <td>3</td>\n",
       "      <td>Z</td>\n",
       "      <td>3</td>\n",
       "      <td>gynecology</td>\n",
       "      <td>S</td>\n",
       "      <td>A</td>\n",
       "      <td>2.0</td>\n",
       "      <td>17006</td>\n",
       "      <td>2.0</td>\n",
       "      <td>Emergency</td>\n",
       "      <td>Moderate</td>\n",
       "      <td>2</td>\n",
       "      <td>71-80</td>\n",
       "      <td>3095.0</td>\n",
       "    </tr>\n",
       "    <tr>\n",
       "      <th>1</th>\n",
       "      <td>29</td>\n",
       "      <td>a</td>\n",
       "      <td>4</td>\n",
       "      <td>X</td>\n",
       "      <td>2</td>\n",
       "      <td>gynecology</td>\n",
       "      <td>S</td>\n",
       "      <td>F</td>\n",
       "      <td>2.0</td>\n",
       "      <td>17006</td>\n",
       "      <td>2.0</td>\n",
       "      <td>Trauma</td>\n",
       "      <td>Moderate</td>\n",
       "      <td>4</td>\n",
       "      <td>71-80</td>\n",
       "      <td>4018.0</td>\n",
       "    </tr>\n",
       "    <tr>\n",
       "      <th>2</th>\n",
       "      <td>26</td>\n",
       "      <td>b</td>\n",
       "      <td>2</td>\n",
       "      <td>Y</td>\n",
       "      <td>3</td>\n",
       "      <td>gynecology</td>\n",
       "      <td>Q</td>\n",
       "      <td>D</td>\n",
       "      <td>4.0</td>\n",
       "      <td>17006</td>\n",
       "      <td>2.0</td>\n",
       "      <td>Emergency</td>\n",
       "      <td>Moderate</td>\n",
       "      <td>3</td>\n",
       "      <td>71-80</td>\n",
       "      <td>4492.0</td>\n",
       "    </tr>\n",
       "    <tr>\n",
       "      <th>3</th>\n",
       "      <td>6</td>\n",
       "      <td>a</td>\n",
       "      <td>6</td>\n",
       "      <td>X</td>\n",
       "      <td>3</td>\n",
       "      <td>gynecology</td>\n",
       "      <td>Q</td>\n",
       "      <td>F</td>\n",
       "      <td>2.0</td>\n",
       "      <td>17006</td>\n",
       "      <td>2.0</td>\n",
       "      <td>Trauma</td>\n",
       "      <td>Moderate</td>\n",
       "      <td>3</td>\n",
       "      <td>71-80</td>\n",
       "      <td>4173.0</td>\n",
       "    </tr>\n",
       "    <tr>\n",
       "      <th>4</th>\n",
       "      <td>28</td>\n",
       "      <td>b</td>\n",
       "      <td>11</td>\n",
       "      <td>X</td>\n",
       "      <td>2</td>\n",
       "      <td>gynecology</td>\n",
       "      <td>R</td>\n",
       "      <td>F</td>\n",
       "      <td>2.0</td>\n",
       "      <td>17006</td>\n",
       "      <td>2.0</td>\n",
       "      <td>Trauma</td>\n",
       "      <td>Moderate</td>\n",
       "      <td>4</td>\n",
       "      <td>71-80</td>\n",
       "      <td>4161.0</td>\n",
       "    </tr>\n",
       "  </tbody>\n",
       "</table>\n",
       "</div>"
      ],
      "text/plain": [
       "   Hospital_code Hospital_type  City_Code_Hospital Hospital_region  \\\n",
       "0             21             c                   3               Z   \n",
       "1             29             a                   4               X   \n",
       "2             26             b                   2               Y   \n",
       "3              6             a                   6               X   \n",
       "4             28             b                  11               X   \n",
       "\n",
       "   Extra_Rooms  Department Ward Ward_Facility  Bed_Grade  patientid  \\\n",
       "0            3  gynecology    S             A        2.0      17006   \n",
       "1            2  gynecology    S             F        2.0      17006   \n",
       "2            3  gynecology    Q             D        4.0      17006   \n",
       "3            3  gynecology    Q             F        2.0      17006   \n",
       "4            2  gynecology    R             F        2.0      17006   \n",
       "\n",
       "   City_Code_Patient Admission_Type  Severity  Visitors    Age  Deposit  \n",
       "0                2.0      Emergency  Moderate         2  71-80   3095.0  \n",
       "1                2.0         Trauma  Moderate         4  71-80   4018.0  \n",
       "2                2.0      Emergency  Moderate         3  71-80   4492.0  \n",
       "3                2.0         Trauma  Moderate         3  71-80   4173.0  \n",
       "4                2.0         Trauma  Moderate         4  71-80   4161.0  "
      ]
     },
     "execution_count": 1216,
     "metadata": {},
     "output_type": "execute_result"
    }
   ],
   "source": [
    "test.head()"
   ]
  },
  {
   "cell_type": "code",
   "execution_count": null,
   "metadata": {},
   "outputs": [],
   "source": []
  },
  {
   "cell_type": "markdown",
   "metadata": {},
   "source": [
    "### Exploratory Data Analysis"
   ]
  },
  {
   "cell_type": "markdown",
   "metadata": {},
   "source": [
    "#### Dependent Variable"
   ]
  },
  {
   "cell_type": "code",
   "execution_count": 1217,
   "metadata": {},
   "outputs": [
    {
     "data": {
      "text/plain": [
       "61-70                  2744\n",
       "91-100                 2765\n",
       "81-90                  4838\n",
       "More than 100 Days     6683\n",
       "71-80                 10254\n",
       "41-50                 11743\n",
       "0-10                  23604\n",
       "51-60                 35018\n",
       "31-40                 55159\n",
       "11-20                 78139\n",
       "21-30                 87491\n",
       "Name: Stay, dtype: int64"
      ]
     },
     "execution_count": 1217,
     "metadata": {},
     "output_type": "execute_result"
    }
   ],
   "source": [
    "train['Stay'].value_counts().sort_values()"
   ]
  },
  {
   "cell_type": "code",
   "execution_count": 1218,
   "metadata": {},
   "outputs": [
    {
     "data": {
      "image/png": "[encoded data removed]",
      "text/plain": [
       "<Figure size 1152x288 with 1 Axes>"
      ]
     },
     "metadata": {},
     "output_type": "display_data"
    }
   ],
   "source": [
    "plt.figure(figsize=(16,4));\n",
    "sns.countplot(x=\"Stay\",data=train, order=train['Stay'].value_counts().sort_values().index);\n",
    "plt.title(\"Count Plot of the Dependent Variable\");"
   ]
  },
  {
   "cell_type": "markdown",
   "metadata": {},
   "source": [
    "1. We can see that the highest number of patients are from the Age range 21-30, followed by age ranges 11-20 and 3-40.\n",
    "2. We can also see that the minimum number of patients are from the Age range 61-70.\n",
    "3. We can also see that there are good number of patients who stay for more than 100 days. "
   ]
  },
  {
   "cell_type": "markdown",
   "metadata": {},
   "source": [
    "#### Independent Variables"
   ]
  },
  {
   "cell_type": "code",
   "execution_count": 1219,
   "metadata": {},
   "outputs": [
    {
     "data": {
      "text/plain": [
       "32"
      ]
     },
     "execution_count": 1219,
     "metadata": {},
     "output_type": "execute_result"
    }
   ],
   "source": [
    "train['Hospital_code'].nunique()"
   ]
  },
  {
   "cell_type": "code",
   "execution_count": 1220,
   "metadata": {
    "scrolled": true
   },
   "outputs": [
    {
     "data": {
      "image/png": "[encoded data removed]",
      "text/plain": [
       "<Figure size 1152x288 with 1 Axes>"
      ]
     },
     "metadata": {},
     "output_type": "display_data"
    }
   ],
   "source": [
    "plt.figure(figsize=(16,4));\n",
    "sns.countplot(x=\"Hospital_code\",data=train, order=train['Hospital_code'].value_counts().sort_values().index);\n",
    "plt.title(\"Count Plot of the Hospital_code Variable\");"
   ]
  },
  {
   "cell_type": "code",
   "execution_count": 1221,
   "metadata": {},
   "outputs": [],
   "source": [
    "# We can see that almost 10% of the patients are admitted to the hospital with code 26 followed by hospital with code 23.\n",
    "# Hospital codes 4,7 and 20 constitute the least number of patients admitted."
   ]
  },
  {
   "cell_type": "code",
   "execution_count": 1222,
   "metadata": {},
   "outputs": [
    {
     "data": {
      "text/plain": [
       "7"
      ]
     },
     "execution_count": 1222,
     "metadata": {},
     "output_type": "execute_result"
    }
   ],
   "source": [
    "train['Hospital_type'].nunique()"
   ]
  },
  {
   "cell_type": "code",
   "execution_count": 1223,
   "metadata": {},
   "outputs": [
    {
     "data": {
      "image/png": "[encoded data removed]",
      "text/plain": [
       "<Figure size 576x288 with 1 Axes>"
      ]
     },
     "metadata": {},
     "output_type": "display_data"
    }
   ],
   "source": [
    "plt.figure(figsize=(8,4));\n",
    "sns.countplot(x=\"Hospital_type\",data=train, order=train['Hospital_type'].value_counts().sort_values().index);\n",
    "plt.title(\"Count Plot of the Hospital_type Variable\");"
   ]
  },
  {
   "cell_type": "code",
   "execution_count": 1224,
   "metadata": {},
   "outputs": [],
   "source": [
    "# Hospital_Type a seems to be the most common one with Hospital_Type g being the least common. "
   ]
  },
  {
   "cell_type": "code",
   "execution_count": 1225,
   "metadata": {},
   "outputs": [
    {
     "data": {
      "text/plain": [
       "11"
      ]
     },
     "execution_count": 1225,
     "metadata": {},
     "output_type": "execute_result"
    }
   ],
   "source": [
    "train['City_Code_Hospital'].nunique()"
   ]
  },
  {
   "cell_type": "code",
   "execution_count": 1226,
   "metadata": {},
   "outputs": [
    {
     "data": {
      "image/png": "[encoded data removed]",
      "text/plain": [
       "<Figure size 576x288 with 1 Axes>"
      ]
     },
     "metadata": {},
     "output_type": "display_data"
    }
   ],
   "source": [
    "plt.figure(figsize=(8,4));\n",
    "sns.countplot(x=\"City_Code_Hospital\",data=train, order=train['City_Code_Hospital'].value_counts().sort_values().index);\n",
    "plt.title(\"Count Plot of the City_Code_Hospital Variable\");"
   ]
  },
  {
   "cell_type": "code",
   "execution_count": null,
   "metadata": {},
   "outputs": [],
   "source": []
  },
  {
   "cell_type": "code",
   "execution_count": 1227,
   "metadata": {},
   "outputs": [
    {
     "data": {
      "text/plain": [
       "3"
      ]
     },
     "execution_count": 1227,
     "metadata": {},
     "output_type": "execute_result"
    }
   ],
   "source": [
    "train['Hospital_region'].nunique()"
   ]
  },
  {
   "cell_type": "code",
   "execution_count": 1228,
   "metadata": {},
   "outputs": [
    {
     "data": {
      "image/png": "[encoded data removed]",
      "text/plain": [
       "<Figure size 432x288 with 1 Axes>"
      ]
     },
     "metadata": {},
     "output_type": "display_data"
    }
   ],
   "source": [
    "sns.countplot(x=\"Hospital_region\",data=train, order=train['Hospital_region'].value_counts().sort_values().index);\n",
    "plt.title(\"Count Plot of the Hospital_region Variable\");"
   ]
  },
  {
   "cell_type": "code",
   "execution_count": 1229,
   "metadata": {},
   "outputs": [],
   "source": [
    "# Most of the cases belong to hospitals in region X followed by hospitals in region Y with least numbers from Z region."
   ]
  },
  {
   "cell_type": "code",
   "execution_count": null,
   "metadata": {},
   "outputs": [],
   "source": []
  },
  {
   "cell_type": "code",
   "execution_count": 1230,
   "metadata": {},
   "outputs": [
    {
     "data": {
      "text/plain": [
       "24        1\n",
       "14        1\n",
       "20        2\n",
       "13        2\n",
       "21        3\n",
       "12       13\n",
       "0        15\n",
       "11       17\n",
       "10       67\n",
       "9       218\n",
       "8      1027\n",
       "7      2876\n",
       "1      5582\n",
       "6      7786\n",
       "5     19288\n",
       "3     91520\n",
       "4     91709\n",
       "2     98311\n",
       "Name: Extra_Rooms, dtype: int64"
      ]
     },
     "execution_count": 1230,
     "metadata": {},
     "output_type": "execute_result"
    }
   ],
   "source": [
    "train['Extra_Rooms'].value_counts(dropna=False).sort_values()"
   ]
  },
  {
   "cell_type": "markdown",
   "metadata": {},
   "source": [
    "1. Majority of the hospitals have 2,3, or 4 extra rooms. \n",
    "2. Some hospitals do not have any extra rooms."
   ]
  },
  {
   "cell_type": "code",
   "execution_count": null,
   "metadata": {},
   "outputs": [],
   "source": []
  },
  {
   "cell_type": "code",
   "execution_count": 1231,
   "metadata": {},
   "outputs": [
    {
     "data": {
      "text/plain": [
       "5"
      ]
     },
     "execution_count": 1231,
     "metadata": {},
     "output_type": "execute_result"
    }
   ],
   "source": [
    "train['Department'].nunique()"
   ]
  },
  {
   "cell_type": "code",
   "execution_count": 1232,
   "metadata": {},
   "outputs": [
    {
     "data": {
      "image/png": "[encoded data removed]",
      "text/plain": [
       "<Figure size 576x288 with 1 Axes>"
      ]
     },
     "metadata": {},
     "output_type": "display_data"
    }
   ],
   "source": [
    "plt.figure(figsize=(8,4));\n",
    "sns.countplot(x=\"Department\",data=train, order=train['Department'].value_counts().sort_values().index);\n",
    "plt.title(\"Count Plot of the Department Variable\");"
   ]
  },
  {
   "cell_type": "markdown",
   "metadata": {},
   "source": [
    "1. Majority of the cases are in Gynecology department followed by Anesthesia and Radiotherapy departments.\n",
    "2. Surgery has least number of cases."
   ]
  },
  {
   "cell_type": "code",
   "execution_count": null,
   "metadata": {},
   "outputs": [],
   "source": []
  },
  {
   "cell_type": "code",
   "execution_count": 1233,
   "metadata": {},
   "outputs": [
    {
     "data": {
      "text/plain": [
       "6"
      ]
     },
     "execution_count": 1233,
     "metadata": {},
     "output_type": "execute_result"
    }
   ],
   "source": [
    "train['Ward'].nunique()"
   ]
  },
  {
   "cell_type": "code",
   "execution_count": 1234,
   "metadata": {},
   "outputs": [
    {
     "data": {
      "image/png": "[encoded data removed]",
      "text/plain": [
       "<Figure size 576x288 with 1 Axes>"
      ]
     },
     "metadata": {},
     "output_type": "display_data"
    }
   ],
   "source": [
    "plt.figure(figsize=(8,4));\n",
    "sns.countplot(x=\"Ward\",data=train, order=train['Ward'].value_counts().sort_values().index);\n",
    "plt.title(\"Count Plot of the Ward_Type Variable\");"
   ]
  },
  {
   "cell_type": "markdown",
   "metadata": {},
   "source": [
    "1. Majority of the cases are in R ward type followed by Q and S. U has the least number of cases."
   ]
  },
  {
   "cell_type": "code",
   "execution_count": null,
   "metadata": {},
   "outputs": [],
   "source": []
  },
  {
   "cell_type": "code",
   "execution_count": 1235,
   "metadata": {},
   "outputs": [
    {
     "data": {
      "text/plain": [
       "6"
      ]
     },
     "execution_count": 1235,
     "metadata": {},
     "output_type": "execute_result"
    }
   ],
   "source": [
    "train['Ward_Facility'].nunique()"
   ]
  },
  {
   "cell_type": "code",
   "execution_count": 1236,
   "metadata": {},
   "outputs": [
    {
     "data": {
      "image/png": "[encoded data removed]",
      "text/plain": [
       "<Figure size 576x288 with 1 Axes>"
      ]
     },
     "metadata": {},
     "output_type": "display_data"
    }
   ],
   "source": [
    "plt.figure(figsize=(8,4));\n",
    "sns.countplot(x=\"Ward_Facility\",data=train, order=train['Ward_Facility'].value_counts().sort_values().index);\n",
    "plt.title(\"Count Plot of the Ward_Facility_Code Variable\");"
   ]
  },
  {
   "cell_type": "code",
   "execution_count": null,
   "metadata": {},
   "outputs": [],
   "source": []
  },
  {
   "cell_type": "code",
   "execution_count": 1237,
   "metadata": {},
   "outputs": [
    {
     "data": {
      "text/plain": [
       "4"
      ]
     },
     "execution_count": 1237,
     "metadata": {},
     "output_type": "execute_result"
    }
   ],
   "source": [
    "train['Bed_Grade'].nunique()"
   ]
  },
  {
   "cell_type": "code",
   "execution_count": 1238,
   "metadata": {},
   "outputs": [
    {
     "data": {
      "image/png": "[encoded data removed]",
      "text/plain": [
       "<Figure size 576x288 with 1 Axes>"
      ]
     },
     "metadata": {},
     "output_type": "display_data"
    }
   ],
   "source": [
    "plt.figure(figsize=(8,4));\n",
    "sns.countplot(x=\"Bed_Grade\",data=train, order=train['Bed_Grade'].value_counts(dropna=False).sort_values().index);\n",
    "plt.title(\"Count Plot of the Bed_Grade Variable\");"
   ]
  },
  {
   "cell_type": "code",
   "execution_count": 1239,
   "metadata": {},
   "outputs": [],
   "source": [
    "# Most of the cases are admitted to Bed Grade 2 and 3 with least number admitted to Bed Grade 1.\n",
    "# There are missing values here."
   ]
  },
  {
   "cell_type": "code",
   "execution_count": null,
   "metadata": {},
   "outputs": [],
   "source": []
  },
  {
   "cell_type": "code",
   "execution_count": 1240,
   "metadata": {},
   "outputs": [
    {
     "data": {
      "text/plain": [
       "37"
      ]
     },
     "execution_count": 1240,
     "metadata": {},
     "output_type": "execute_result"
    }
   ],
   "source": [
    "train['City_Code_Patient'].nunique()"
   ]
  },
  {
   "cell_type": "code",
   "execution_count": 1241,
   "metadata": {},
   "outputs": [
    {
     "data": {
      "text/plain": [
       "array([ 7.,  8.,  2.,  5.,  6.,  3.,  4.,  1.,  9., 14., nan, 25., 15.,\n",
       "       12., 10., 28., 24., 23., 20., 11., 13., 21., 18., 16., 26., 27.,\n",
       "       22., 19., 31., 34., 32., 30., 29., 37., 33., 35., 36., 38.])"
      ]
     },
     "execution_count": 1241,
     "metadata": {},
     "output_type": "execute_result"
    }
   ],
   "source": [
    "train['City_Code_Patient'].unique()"
   ]
  },
  {
   "cell_type": "code",
   "execution_count": 1242,
   "metadata": {},
   "outputs": [],
   "source": [
    "# There are missing values in this variable."
   ]
  },
  {
   "cell_type": "code",
   "execution_count": null,
   "metadata": {},
   "outputs": [],
   "source": []
  },
  {
   "cell_type": "code",
   "execution_count": 1243,
   "metadata": {},
   "outputs": [
    {
     "data": {
      "text/plain": [
       "3"
      ]
     },
     "execution_count": 1243,
     "metadata": {},
     "output_type": "execute_result"
    }
   ],
   "source": [
    "train['Admission_Type'].nunique()"
   ]
  },
  {
   "cell_type": "code",
   "execution_count": 1244,
   "metadata": {},
   "outputs": [
    {
     "data": {
      "image/png": "[encoded data removed]",
      "text/plain": [
       "<Figure size 576x288 with 1 Axes>"
      ]
     },
     "metadata": {},
     "output_type": "display_data"
    }
   ],
   "source": [
    "plt.figure(figsize=(8,4));\n",
    "sns.countplot(x=\"Admission_Type\",data=train, order=train['Admission_Type'].value_counts(dropna=False).sort_values().index);\n",
    "plt.title(\"Count Plot of the Admission_Type Variable\");"
   ]
  },
  {
   "cell_type": "markdown",
   "metadata": {},
   "source": [
    "1. Most of the cases are admitted in the state of Trauma followed by Emergency followed by Urgent admission type."
   ]
  },
  {
   "cell_type": "code",
   "execution_count": null,
   "metadata": {},
   "outputs": [],
   "source": []
  },
  {
   "cell_type": "code",
   "execution_count": 1245,
   "metadata": {},
   "outputs": [
    {
     "data": {
      "text/plain": [
       "3"
      ]
     },
     "execution_count": 1245,
     "metadata": {},
     "output_type": "execute_result"
    }
   ],
   "source": [
    "train['Severity'].nunique()"
   ]
  },
  {
   "cell_type": "code",
   "execution_count": 1246,
   "metadata": {},
   "outputs": [
    {
     "data": {
      "image/png": "[encoded data removed]",
      "text/plain": [
       "<Figure size 576x288 with 1 Axes>"
      ]
     },
     "metadata": {},
     "output_type": "display_data"
    }
   ],
   "source": [
    "plt.figure(figsize=(8,4));\n",
    "sns.countplot(x=\"Severity\",data=train, order=train['Severity'].value_counts(dropna=False).sort_values().index);\n",
    "plt.title(\"Count Plot of the Severity Variable\");"
   ]
  },
  {
   "cell_type": "markdown",
   "metadata": {},
   "source": [
    "1. Majority of the people admitted show moderate severity with more than 10% cases showing extreme severity.\n",
    "2. There are good proportion of people showing Minor severity."
   ]
  },
  {
   "cell_type": "code",
   "execution_count": null,
   "metadata": {},
   "outputs": [],
   "source": []
  },
  {
   "cell_type": "code",
   "execution_count": 1247,
   "metadata": {},
   "outputs": [
    {
     "data": {
      "text/plain": [
       "28"
      ]
     },
     "execution_count": 1247,
     "metadata": {},
     "output_type": "execute_result"
    }
   ],
   "source": [
    "train['Visitors'].nunique()"
   ]
  },
  {
   "cell_type": "code",
   "execution_count": 1248,
   "metadata": {},
   "outputs": [
    {
     "data": {
      "text/plain": [
       "array([ 2,  4,  3,  8,  6,  7, 13,  5,  1, 10, 15, 11, 12,  9, 24, 16, 14,\n",
       "       20,  0, 19, 18, 17, 23, 21, 32, 30, 22, 25], dtype=uint8)"
      ]
     },
     "execution_count": 1248,
     "metadata": {},
     "output_type": "execute_result"
    }
   ],
   "source": [
    "train['Visitors'].unique()"
   ]
  },
  {
   "cell_type": "code",
   "execution_count": 1249,
   "metadata": {},
   "outputs": [],
   "source": [
    "# Visitors accompanying the patient are variety in number as you can see above.\n",
    "# Most of the patients have 2 visitors accompanying them, some have as high as 32."
   ]
  },
  {
   "cell_type": "code",
   "execution_count": 1250,
   "metadata": {},
   "outputs": [
    {
     "data": {
      "text/plain": [
       "32         9\n",
       "30         9\n",
       "23        10\n",
       "21        11\n",
       "25        12\n",
       "19        12\n",
       "22        19\n",
       "17        20\n",
       "0         22\n",
       "18        61\n",
       "20        62\n",
       "24        78\n",
       "13       106\n",
       "15       194\n",
       "14       207\n",
       "16       286\n",
       "11       327\n",
       "12       968\n",
       "10      1183\n",
       "1       1207\n",
       "9       1358\n",
       "7       2504\n",
       "8       4872\n",
       "5       9219\n",
       "6      18860\n",
       "3      59180\n",
       "4      79225\n",
       "2     138417\n",
       "Name: Visitors, dtype: int64"
      ]
     },
     "execution_count": 1250,
     "metadata": {},
     "output_type": "execute_result"
    }
   ],
   "source": [
    "train['Visitors'].value_counts(dropna=False).sort_values()"
   ]
  },
  {
   "cell_type": "code",
   "execution_count": null,
   "metadata": {},
   "outputs": [],
   "source": []
  },
  {
   "cell_type": "code",
   "execution_count": 1251,
   "metadata": {},
   "outputs": [
    {
     "data": {
      "text/plain": [
       "10"
      ]
     },
     "execution_count": 1251,
     "metadata": {},
     "output_type": "execute_result"
    }
   ],
   "source": [
    "train['Age'].nunique()"
   ]
  },
  {
   "cell_type": "code",
   "execution_count": 1252,
   "metadata": {},
   "outputs": [
    {
     "data": {
      "image/png": "[encoded data removed]",
      "text/plain": [
       "<Figure size 1152x288 with 1 Axes>"
      ]
     },
     "metadata": {},
     "output_type": "display_data"
    }
   ],
   "source": [
    "plt.figure(figsize=(16,4));\n",
    "sns.countplot(x=\"Age\",data=train, order=train['Age'].value_counts().sort_values().index);\n",
    "plt.title(\"Count Plot of the Age Variable\");"
   ]
  },
  {
   "cell_type": "markdown",
   "metadata": {},
   "source": [
    "1. There seems to be almost equal number of patients in the Age Group of 41-50 and 31-40 with majority of them from 41-50 group.\n",
    "2. Very few patients in the age group of 91-100, followed by 0-10 group. "
   ]
  },
  {
   "cell_type": "code",
   "execution_count": null,
   "metadata": {},
   "outputs": [],
   "source": []
  },
  {
   "cell_type": "code",
   "execution_count": 1253,
   "metadata": {},
   "outputs": [
    {
     "data": {
      "text/plain": [
       "count    318438.000000\n",
       "mean       4880.779297\n",
       "std        1086.713135\n",
       "min        1800.000000\n",
       "25%        4186.000000\n",
       "50%        4741.000000\n",
       "75%        5409.000000\n",
       "max       11008.000000\n",
       "Name: Deposit, dtype: float64"
      ]
     },
     "execution_count": 1253,
     "metadata": {},
     "output_type": "execute_result"
    }
   ],
   "source": [
    "train['Deposit'].describe()"
   ]
  },
  {
   "cell_type": "code",
   "execution_count": 1254,
   "metadata": {},
   "outputs": [
    {
     "data": {
      "image/png": "[encoded data removed]",
      "text/plain": [
       "<Figure size 432x288 with 1 Axes>"
      ]
     },
     "metadata": {},
     "output_type": "display_data"
    }
   ],
   "source": [
    "sns.boxplot(train['Deposit']);\n",
    "plt.title(\"Box Plot of the Deposit Variable\");"
   ]
  },
  {
   "cell_type": "code",
   "execution_count": 1255,
   "metadata": {},
   "outputs": [
    {
     "name": "stdout",
     "output_type": "stream",
     "text": [
      "7243.5 2351.5\n"
     ]
    }
   ],
   "source": [
    "IQR = train['Deposit'].quantile(0.75)-train['Deposit'].quantile(0.25)\n",
    "Upper_Range = train['Deposit'].quantile(0.75)+1.5*IQR\n",
    "Lower_Range = train['Deposit'].quantile(0.25)-1.5*IQR\n",
    "print (Upper_Range,Lower_Range)"
   ]
  },
  {
   "cell_type": "code",
   "execution_count": 1256,
   "metadata": {},
   "outputs": [
    {
     "data": {
      "image/png": "[encoded data removed]",
      "text/plain": [
       "<Figure size 432x288 with 1 Axes>"
      ]
     },
     "metadata": {},
     "output_type": "display_data"
    }
   ],
   "source": [
    "sns.distplot(train['Deposit']);\n",
    "plt.title(\"Distribution of the Deposit Variable\");"
   ]
  },
  {
   "cell_type": "markdown",
   "metadata": {},
   "source": [
    "1. Looks like there are no outliers from the plots above. \n",
    "2. The distribution looks almost normal.\n",
    "3. The minimum deposit at the time of admission is 1800 and maximum is 11008 with the average amount being 4880."
   ]
  },
  {
   "cell_type": "code",
   "execution_count": null,
   "metadata": {},
   "outputs": [],
   "source": []
  },
  {
   "cell_type": "markdown",
   "metadata": {},
   "source": [
    "#### Bi-Variate Analysis"
   ]
  },
  {
   "cell_type": "code",
   "execution_count": 1257,
   "metadata": {},
   "outputs": [],
   "source": [
    "# Let's check the cross tab of the Dependent variable with the Age variable"
   ]
  },
  {
   "cell_type": "code",
   "execution_count": 1258,
   "metadata": {},
   "outputs": [
    {
     "data": {
      "text/html": [
       "<style  type=\"text/css\" >\n",
       "    #T_dc55ce6e_f01a_11ea_8729_ccb0da3466acrow0_col0 {\n",
       "            background-color:  #fee3d6;\n",
       "            color:  #000000;\n",
       "        }    #T_dc55ce6e_f01a_11ea_8729_ccb0da3466acrow0_col1 {\n",
       "            background-color:  #fee3d6;\n",
       "            color:  #000000;\n",
       "        }    #T_dc55ce6e_f01a_11ea_8729_ccb0da3466acrow0_col2 {\n",
       "            background-color:  #feeae1;\n",
       "            color:  #000000;\n",
       "        }    #T_dc55ce6e_f01a_11ea_8729_ccb0da3466acrow0_col3 {\n",
       "            background-color:  #fee9df;\n",
       "            color:  #000000;\n",
       "        }    #T_dc55ce6e_f01a_11ea_8729_ccb0da3466acrow0_col4 {\n",
       "            background-color:  #ffede5;\n",
       "            color:  #000000;\n",
       "        }    #T_dc55ce6e_f01a_11ea_8729_ccb0da3466acrow0_col5 {\n",
       "            background-color:  #ffece3;\n",
       "            color:  #000000;\n",
       "        }    #T_dc55ce6e_f01a_11ea_8729_ccb0da3466acrow0_col6 {\n",
       "            background-color:  #fff5f0;\n",
       "            color:  #000000;\n",
       "        }    #T_dc55ce6e_f01a_11ea_8729_ccb0da3466acrow0_col7 {\n",
       "            background-color:  #ffeee6;\n",
       "            color:  #000000;\n",
       "        }    #T_dc55ce6e_f01a_11ea_8729_ccb0da3466acrow0_col8 {\n",
       "            background-color:  #feeae1;\n",
       "            color:  #000000;\n",
       "        }    #T_dc55ce6e_f01a_11ea_8729_ccb0da3466acrow0_col9 {\n",
       "            background-color:  #fff0e9;\n",
       "            color:  #000000;\n",
       "        }    #T_dc55ce6e_f01a_11ea_8729_ccb0da3466acrow0_col10 {\n",
       "            background-color:  #ffefe8;\n",
       "            color:  #000000;\n",
       "        }    #T_dc55ce6e_f01a_11ea_8729_ccb0da3466acrow1_col0 {\n",
       "            background-color:  #fcaa8d;\n",
       "            color:  #000000;\n",
       "        }    #T_dc55ce6e_f01a_11ea_8729_ccb0da3466acrow1_col1 {\n",
       "            background-color:  #fca285;\n",
       "            color:  #000000;\n",
       "        }    #T_dc55ce6e_f01a_11ea_8729_ccb0da3466acrow1_col2 {\n",
       "            background-color:  #fcc4ad;\n",
       "            color:  #000000;\n",
       "        }    #T_dc55ce6e_f01a_11ea_8729_ccb0da3466acrow1_col3 {\n",
       "            background-color:  #fcc2aa;\n",
       "            color:  #000000;\n",
       "        }    #T_dc55ce6e_f01a_11ea_8729_ccb0da3466acrow1_col4 {\n",
       "            background-color:  #fdd0bc;\n",
       "            color:  #000000;\n",
       "        }    #T_dc55ce6e_f01a_11ea_8729_ccb0da3466acrow1_col5 {\n",
       "            background-color:  #fdd1be;\n",
       "            color:  #000000;\n",
       "        }    #T_dc55ce6e_f01a_11ea_8729_ccb0da3466acrow1_col6 {\n",
       "            background-color:  #fee1d4;\n",
       "            color:  #000000;\n",
       "        }    #T_dc55ce6e_f01a_11ea_8729_ccb0da3466acrow1_col7 {\n",
       "            background-color:  #fedccd;\n",
       "            color:  #000000;\n",
       "        }    #T_dc55ce6e_f01a_11ea_8729_ccb0da3466acrow1_col8 {\n",
       "            background-color:  #fcc2aa;\n",
       "            color:  #000000;\n",
       "        }    #T_dc55ce6e_f01a_11ea_8729_ccb0da3466acrow1_col9 {\n",
       "            background-color:  #fee6da;\n",
       "            color:  #000000;\n",
       "        }    #T_dc55ce6e_f01a_11ea_8729_ccb0da3466acrow1_col10 {\n",
       "            background-color:  #fee2d5;\n",
       "            color:  #000000;\n",
       "        }    #T_dc55ce6e_f01a_11ea_8729_ccb0da3466acrow2_col0 {\n",
       "            background-color:  #d92523;\n",
       "            color:  #f1f1f1;\n",
       "        }    #T_dc55ce6e_f01a_11ea_8729_ccb0da3466acrow2_col1 {\n",
       "            background-color:  #d72322;\n",
       "            color:  #f1f1f1;\n",
       "        }    #T_dc55ce6e_f01a_11ea_8729_ccb0da3466acrow2_col2 {\n",
       "            background-color:  #f14130;\n",
       "            color:  #f1f1f1;\n",
       "        }    #T_dc55ce6e_f01a_11ea_8729_ccb0da3466acrow2_col3 {\n",
       "            background-color:  #ef3c2c;\n",
       "            color:  #f1f1f1;\n",
       "        }    #T_dc55ce6e_f01a_11ea_8729_ccb0da3466acrow2_col4 {\n",
       "            background-color:  #f7593f;\n",
       "            color:  #000000;\n",
       "        }    #T_dc55ce6e_f01a_11ea_8729_ccb0da3466acrow2_col5 {\n",
       "            background-color:  #f96346;\n",
       "            color:  #000000;\n",
       "        }    #T_dc55ce6e_f01a_11ea_8729_ccb0da3466acrow2_col6 {\n",
       "            background-color:  #fb7c5c;\n",
       "            color:  #000000;\n",
       "        }    #T_dc55ce6e_f01a_11ea_8729_ccb0da3466acrow2_col7 {\n",
       "            background-color:  #fb7656;\n",
       "            color:  #000000;\n",
       "        }    #T_dc55ce6e_f01a_11ea_8729_ccb0da3466acrow2_col8 {\n",
       "            background-color:  #f14331;\n",
       "            color:  #f1f1f1;\n",
       "        }    #T_dc55ce6e_f01a_11ea_8729_ccb0da3466acrow2_col9 {\n",
       "            background-color:  #fc9070;\n",
       "            color:  #000000;\n",
       "        }    #T_dc55ce6e_f01a_11ea_8729_ccb0da3466acrow2_col10 {\n",
       "            background-color:  #fc8f6f;\n",
       "            color:  #000000;\n",
       "        }    #T_dc55ce6e_f01a_11ea_8729_ccb0da3466acrow3_col0 {\n",
       "            background-color:  #67000d;\n",
       "            color:  #f1f1f1;\n",
       "        }    #T_dc55ce6e_f01a_11ea_8729_ccb0da3466acrow3_col1 {\n",
       "            background-color:  #67000d;\n",
       "            color:  #f1f1f1;\n",
       "        }    #T_dc55ce6e_f01a_11ea_8729_ccb0da3466acrow3_col2 {\n",
       "            background-color:  #67000d;\n",
       "            color:  #f1f1f1;\n",
       "        }    #T_dc55ce6e_f01a_11ea_8729_ccb0da3466acrow3_col3 {\n",
       "            background-color:  #69000d;\n",
       "            color:  #f1f1f1;\n",
       "        }    #T_dc55ce6e_f01a_11ea_8729_ccb0da3466acrow3_col4 {\n",
       "            background-color:  #820711;\n",
       "            color:  #f1f1f1;\n",
       "        }    #T_dc55ce6e_f01a_11ea_8729_ccb0da3466acrow3_col5 {\n",
       "            background-color:  #960b13;\n",
       "            color:  #f1f1f1;\n",
       "        }    #T_dc55ce6e_f01a_11ea_8729_ccb0da3466acrow3_col6 {\n",
       "            background-color:  #980c13;\n",
       "            color:  #f1f1f1;\n",
       "        }    #T_dc55ce6e_f01a_11ea_8729_ccb0da3466acrow3_col7 {\n",
       "            background-color:  #b01217;\n",
       "            color:  #f1f1f1;\n",
       "        }    #T_dc55ce6e_f01a_11ea_8729_ccb0da3466acrow3_col8 {\n",
       "            background-color:  #980c13;\n",
       "            color:  #f1f1f1;\n",
       "        }    #T_dc55ce6e_f01a_11ea_8729_ccb0da3466acrow3_col9 {\n",
       "            background-color:  #b21218;\n",
       "            color:  #f1f1f1;\n",
       "        }    #T_dc55ce6e_f01a_11ea_8729_ccb0da3466acrow3_col10 {\n",
       "            background-color:  #cf1c1f;\n",
       "            color:  #f1f1f1;\n",
       "        }    #T_dc55ce6e_f01a_11ea_8729_ccb0da3466acrow4_col0 {\n",
       "            background-color:  #7a0510;\n",
       "            color:  #f1f1f1;\n",
       "        }    #T_dc55ce6e_f01a_11ea_8729_ccb0da3466acrow4_col1 {\n",
       "            background-color:  #800610;\n",
       "            color:  #f1f1f1;\n",
       "        }    #T_dc55ce6e_f01a_11ea_8729_ccb0da3466acrow4_col2 {\n",
       "            background-color:  #79040f;\n",
       "            color:  #f1f1f1;\n",
       "        }    #T_dc55ce6e_f01a_11ea_8729_ccb0da3466acrow4_col3 {\n",
       "            background-color:  #67000d;\n",
       "            color:  #f1f1f1;\n",
       "        }    #T_dc55ce6e_f01a_11ea_8729_ccb0da3466acrow4_col4 {\n",
       "            background-color:  #67000d;\n",
       "            color:  #f1f1f1;\n",
       "        }    #T_dc55ce6e_f01a_11ea_8729_ccb0da3466acrow4_col5 {\n",
       "            background-color:  #67000d;\n",
       "            color:  #f1f1f1;\n",
       "        }    #T_dc55ce6e_f01a_11ea_8729_ccb0da3466acrow4_col6 {\n",
       "            background-color:  #67000d;\n",
       "            color:  #f1f1f1;\n",
       "        }    #T_dc55ce6e_f01a_11ea_8729_ccb0da3466acrow4_col7 {\n",
       "            background-color:  #67000d;\n",
       "            color:  #f1f1f1;\n",
       "        }    #T_dc55ce6e_f01a_11ea_8729_ccb0da3466acrow4_col8 {\n",
       "            background-color:  #67000d;\n",
       "            color:  #f1f1f1;\n",
       "        }    #T_dc55ce6e_f01a_11ea_8729_ccb0da3466acrow4_col9 {\n",
       "            background-color:  #67000d;\n",
       "            color:  #f1f1f1;\n",
       "        }    #T_dc55ce6e_f01a_11ea_8729_ccb0da3466acrow4_col10 {\n",
       "            background-color:  #67000d;\n",
       "            color:  #f1f1f1;\n",
       "        }    #T_dc55ce6e_f01a_11ea_8729_ccb0da3466acrow5_col0 {\n",
       "            background-color:  #db2824;\n",
       "            color:  #f1f1f1;\n",
       "        }    #T_dc55ce6e_f01a_11ea_8729_ccb0da3466acrow5_col1 {\n",
       "            background-color:  #d52221;\n",
       "            color:  #f1f1f1;\n",
       "        }    #T_dc55ce6e_f01a_11ea_8729_ccb0da3466acrow5_col2 {\n",
       "            background-color:  #da2723;\n",
       "            color:  #f1f1f1;\n",
       "        }    #T_dc55ce6e_f01a_11ea_8729_ccb0da3466acrow5_col3 {\n",
       "            background-color:  #c3161b;\n",
       "            color:  #f1f1f1;\n",
       "        }    #T_dc55ce6e_f01a_11ea_8729_ccb0da3466acrow5_col4 {\n",
       "            background-color:  #dd2a25;\n",
       "            color:  #f1f1f1;\n",
       "        }    #T_dc55ce6e_f01a_11ea_8729_ccb0da3466acrow5_col5 {\n",
       "            background-color:  #bd151a;\n",
       "            color:  #f1f1f1;\n",
       "        }    #T_dc55ce6e_f01a_11ea_8729_ccb0da3466acrow5_col6 {\n",
       "            background-color:  #bf151b;\n",
       "            color:  #f1f1f1;\n",
       "        }    #T_dc55ce6e_f01a_11ea_8729_ccb0da3466acrow5_col7 {\n",
       "            background-color:  #be151a;\n",
       "            color:  #f1f1f1;\n",
       "        }    #T_dc55ce6e_f01a_11ea_8729_ccb0da3466acrow5_col8 {\n",
       "            background-color:  #a10e15;\n",
       "            color:  #f1f1f1;\n",
       "        }    #T_dc55ce6e_f01a_11ea_8729_ccb0da3466acrow5_col9 {\n",
       "            background-color:  #aa1016;\n",
       "            color:  #f1f1f1;\n",
       "        }    #T_dc55ce6e_f01a_11ea_8729_ccb0da3466acrow5_col10 {\n",
       "            background-color:  #920a13;\n",
       "            color:  #f1f1f1;\n",
       "        }    #T_dc55ce6e_f01a_11ea_8729_ccb0da3466acrow6_col0 {\n",
       "            background-color:  #fc7f5f;\n",
       "            color:  #000000;\n",
       "        }    #T_dc55ce6e_f01a_11ea_8729_ccb0da3466acrow6_col1 {\n",
       "            background-color:  #fb6d4d;\n",
       "            color:  #000000;\n",
       "        }    #T_dc55ce6e_f01a_11ea_8729_ccb0da3466acrow6_col2 {\n",
       "            background-color:  #fb7151;\n",
       "            color:  #000000;\n",
       "        }    #T_dc55ce6e_f01a_11ea_8729_ccb0da3466acrow6_col3 {\n",
       "            background-color:  #f85f43;\n",
       "            color:  #000000;\n",
       "        }    #T_dc55ce6e_f01a_11ea_8729_ccb0da3466acrow6_col4 {\n",
       "            background-color:  #fb7555;\n",
       "            color:  #000000;\n",
       "        }    #T_dc55ce6e_f01a_11ea_8729_ccb0da3466acrow6_col5 {\n",
       "            background-color:  #f6553c;\n",
       "            color:  #000000;\n",
       "        }    #T_dc55ce6e_f01a_11ea_8729_ccb0da3466acrow6_col6 {\n",
       "            background-color:  #f6553c;\n",
       "            color:  #000000;\n",
       "        }    #T_dc55ce6e_f01a_11ea_8729_ccb0da3466acrow6_col7 {\n",
       "            background-color:  #f5533b;\n",
       "            color:  #000000;\n",
       "        }    #T_dc55ce6e_f01a_11ea_8729_ccb0da3466acrow6_col8 {\n",
       "            background-color:  #e32f27;\n",
       "            color:  #f1f1f1;\n",
       "        }    #T_dc55ce6e_f01a_11ea_8729_ccb0da3466acrow6_col9 {\n",
       "            background-color:  #f6553c;\n",
       "            color:  #000000;\n",
       "        }    #T_dc55ce6e_f01a_11ea_8729_ccb0da3466acrow6_col10 {\n",
       "            background-color:  #e43027;\n",
       "            color:  #f1f1f1;\n",
       "        }    #T_dc55ce6e_f01a_11ea_8729_ccb0da3466acrow7_col0 {\n",
       "            background-color:  #fb7d5d;\n",
       "            color:  #000000;\n",
       "        }    #T_dc55ce6e_f01a_11ea_8729_ccb0da3466acrow7_col1 {\n",
       "            background-color:  #fb6c4c;\n",
       "            color:  #000000;\n",
       "        }    #T_dc55ce6e_f01a_11ea_8729_ccb0da3466acrow7_col2 {\n",
       "            background-color:  #fa6849;\n",
       "            color:  #000000;\n",
       "        }    #T_dc55ce6e_f01a_11ea_8729_ccb0da3466acrow7_col3 {\n",
       "            background-color:  #f44d38;\n",
       "            color:  #000000;\n",
       "        }    #T_dc55ce6e_f01a_11ea_8729_ccb0da3466acrow7_col4 {\n",
       "            background-color:  #f75b40;\n",
       "            color:  #000000;\n",
       "        }    #T_dc55ce6e_f01a_11ea_8729_ccb0da3466acrow7_col5 {\n",
       "            background-color:  #f14130;\n",
       "            color:  #f1f1f1;\n",
       "        }    #T_dc55ce6e_f01a_11ea_8729_ccb0da3466acrow7_col6 {\n",
       "            background-color:  #e53228;\n",
       "            color:  #f1f1f1;\n",
       "        }    #T_dc55ce6e_f01a_11ea_8729_ccb0da3466acrow7_col7 {\n",
       "            background-color:  #ee3a2c;\n",
       "            color:  #f1f1f1;\n",
       "        }    #T_dc55ce6e_f01a_11ea_8729_ccb0da3466acrow7_col8 {\n",
       "            background-color:  #cb181d;\n",
       "            color:  #f1f1f1;\n",
       "        }    #T_dc55ce6e_f01a_11ea_8729_ccb0da3466acrow7_col9 {\n",
       "            background-color:  #e53228;\n",
       "            color:  #f1f1f1;\n",
       "        }    #T_dc55ce6e_f01a_11ea_8729_ccb0da3466acrow7_col10 {\n",
       "            background-color:  #bb141a;\n",
       "            color:  #f1f1f1;\n",
       "        }    #T_dc55ce6e_f01a_11ea_8729_ccb0da3466acrow8_col0 {\n",
       "            background-color:  #feeae0;\n",
       "            color:  #000000;\n",
       "        }    #T_dc55ce6e_f01a_11ea_8729_ccb0da3466acrow8_col1 {\n",
       "            background-color:  #fee9df;\n",
       "            color:  #000000;\n",
       "        }    #T_dc55ce6e_f01a_11ea_8729_ccb0da3466acrow8_col2 {\n",
       "            background-color:  #fee7db;\n",
       "            color:  #000000;\n",
       "        }    #T_dc55ce6e_f01a_11ea_8729_ccb0da3466acrow8_col3 {\n",
       "            background-color:  #fee1d4;\n",
       "            color:  #000000;\n",
       "        }    #T_dc55ce6e_f01a_11ea_8729_ccb0da3466acrow8_col4 {\n",
       "            background-color:  #fee0d2;\n",
       "            color:  #000000;\n",
       "        }    #T_dc55ce6e_f01a_11ea_8729_ccb0da3466acrow8_col5 {\n",
       "            background-color:  #fedfd0;\n",
       "            color:  #000000;\n",
       "        }    #T_dc55ce6e_f01a_11ea_8729_ccb0da3466acrow8_col6 {\n",
       "            background-color:  #fdd4c2;\n",
       "            color:  #000000;\n",
       "        }    #T_dc55ce6e_f01a_11ea_8729_ccb0da3466acrow8_col7 {\n",
       "            background-color:  #fdd5c4;\n",
       "            color:  #000000;\n",
       "        }    #T_dc55ce6e_f01a_11ea_8729_ccb0da3466acrow8_col8 {\n",
       "            background-color:  #fdc5ae;\n",
       "            color:  #000000;\n",
       "        }    #T_dc55ce6e_f01a_11ea_8729_ccb0da3466acrow8_col9 {\n",
       "            background-color:  #fdcab5;\n",
       "            color:  #000000;\n",
       "        }    #T_dc55ce6e_f01a_11ea_8729_ccb0da3466acrow8_col10 {\n",
       "            background-color:  #fdc6b0;\n",
       "            color:  #000000;\n",
       "        }    #T_dc55ce6e_f01a_11ea_8729_ccb0da3466acrow9_col0 {\n",
       "            background-color:  #fff5f0;\n",
       "            color:  #000000;\n",
       "        }    #T_dc55ce6e_f01a_11ea_8729_ccb0da3466acrow9_col1 {\n",
       "            background-color:  #fff5f0;\n",
       "            color:  #000000;\n",
       "        }    #T_dc55ce6e_f01a_11ea_8729_ccb0da3466acrow9_col2 {\n",
       "            background-color:  #fff5f0;\n",
       "            color:  #000000;\n",
       "        }    #T_dc55ce6e_f01a_11ea_8729_ccb0da3466acrow9_col3 {\n",
       "            background-color:  #fff5f0;\n",
       "            color:  #000000;\n",
       "        }    #T_dc55ce6e_f01a_11ea_8729_ccb0da3466acrow9_col4 {\n",
       "            background-color:  #fff5f0;\n",
       "            color:  #000000;\n",
       "        }    #T_dc55ce6e_f01a_11ea_8729_ccb0da3466acrow9_col5 {\n",
       "            background-color:  #fff5f0;\n",
       "            color:  #000000;\n",
       "        }    #T_dc55ce6e_f01a_11ea_8729_ccb0da3466acrow9_col6 {\n",
       "            background-color:  #fff4ef;\n",
       "            color:  #000000;\n",
       "        }    #T_dc55ce6e_f01a_11ea_8729_ccb0da3466acrow9_col7 {\n",
       "            background-color:  #fff5f0;\n",
       "            color:  #000000;\n",
       "        }    #T_dc55ce6e_f01a_11ea_8729_ccb0da3466acrow9_col8 {\n",
       "            background-color:  #fff5f0;\n",
       "            color:  #000000;\n",
       "        }    #T_dc55ce6e_f01a_11ea_8729_ccb0da3466acrow9_col9 {\n",
       "            background-color:  #fff5f0;\n",
       "            color:  #000000;\n",
       "        }    #T_dc55ce6e_f01a_11ea_8729_ccb0da3466acrow9_col10 {\n",
       "            background-color:  #fff5f0;\n",
       "            color:  #000000;\n",
       "        }</style><table id=\"T_dc55ce6e_f01a_11ea_8729_ccb0da3466ac\" ><thead>    <tr>        <th class=\"index_name level0\" >Stay</th>        <th class=\"col_heading level0 col0\" >0-10</th>        <th class=\"col_heading level0 col1\" >11-20</th>        <th class=\"col_heading level0 col2\" >21-30</th>        <th class=\"col_heading level0 col3\" >31-40</th>        <th class=\"col_heading level0 col4\" >41-50</th>        <th class=\"col_heading level0 col5\" >51-60</th>        <th class=\"col_heading level0 col6\" >61-70</th>        <th class=\"col_heading level0 col7\" >71-80</th>        <th class=\"col_heading level0 col8\" >81-90</th>        <th class=\"col_heading level0 col9\" >91-100</th>        <th class=\"col_heading level0 col10\" >More than 100 Days</th>    </tr>    <tr>        <th class=\"index_name level0\" >Age</th>        <th class=\"blank\" ></th>        <th class=\"blank\" ></th>        <th class=\"blank\" ></th>        <th class=\"blank\" ></th>        <th class=\"blank\" ></th>        <th class=\"blank\" ></th>        <th class=\"blank\" ></th>        <th class=\"blank\" ></th>        <th class=\"blank\" ></th>        <th class=\"blank\" ></th>        <th class=\"blank\" ></th>    </tr></thead><tbody>\n",
       "                <tr>\n",
       "                        <th id=\"T_dc55ce6e_f01a_11ea_8729_ccb0da3466aclevel0_row0\" class=\"row_heading level0 row0\" >0-10</th>\n",
       "                        <td id=\"T_dc55ce6e_f01a_11ea_8729_ccb0da3466acrow0_col0\" class=\"data row0 col0\" >615</td>\n",
       "                        <td id=\"T_dc55ce6e_f01a_11ea_8729_ccb0da3466acrow0_col1\" class=\"data row0 col1\" >1959</td>\n",
       "                        <td id=\"T_dc55ce6e_f01a_11ea_8729_ccb0da3466acrow0_col2\" class=\"data row0 col2\" >1489</td>\n",
       "                        <td id=\"T_dc55ce6e_f01a_11ea_8729_ccb0da3466acrow0_col3\" class=\"data row0 col3\" >1014</td>\n",
       "                        <td id=\"T_dc55ce6e_f01a_11ea_8729_ccb0da3466acrow0_col4\" class=\"data row0 col4\" >187</td>\n",
       "                        <td id=\"T_dc55ce6e_f01a_11ea_8729_ccb0da3466acrow0_col5\" class=\"data row0 col5\" >582</td>\n",
       "                        <td id=\"T_dc55ce6e_f01a_11ea_8729_ccb0da3466acrow0_col6\" class=\"data row0 col6\" >26</td>\n",
       "                        <td id=\"T_dc55ce6e_f01a_11ea_8729_ccb0da3466acrow0_col7\" class=\"data row0 col7\" >153</td>\n",
       "                        <td id=\"T_dc55ce6e_f01a_11ea_8729_ccb0da3466acrow0_col8\" class=\"data row0 col8\" >84</td>\n",
       "                        <td id=\"T_dc55ce6e_f01a_11ea_8729_ccb0da3466acrow0_col9\" class=\"data row0 col9\" >35</td>\n",
       "                        <td id=\"T_dc55ce6e_f01a_11ea_8729_ccb0da3466acrow0_col10\" class=\"data row0 col10\" >110</td>\n",
       "            </tr>\n",
       "            <tr>\n",
       "                        <th id=\"T_dc55ce6e_f01a_11ea_8729_ccb0da3466aclevel0_row1\" class=\"row_heading level0 row1\" >11-20</th>\n",
       "                        <td id=\"T_dc55ce6e_f01a_11ea_8729_ccb0da3466acrow1_col0\" class=\"data row1 col0\" >1552</td>\n",
       "                        <td id=\"T_dc55ce6e_f01a_11ea_8729_ccb0da3466acrow1_col1\" class=\"data row1 col1\" >5343</td>\n",
       "                        <td id=\"T_dc55ce6e_f01a_11ea_8729_ccb0da3466acrow1_col2\" class=\"data row1 col2\" >4312</td>\n",
       "                        <td id=\"T_dc55ce6e_f01a_11ea_8729_ccb0da3466acrow1_col3\" class=\"data row1 col3\" >2681</td>\n",
       "                        <td id=\"T_dc55ce6e_f01a_11ea_8729_ccb0da3466acrow1_col4\" class=\"data row1 col4\" >510</td>\n",
       "                        <td id=\"T_dc55ce6e_f01a_11ea_8729_ccb0da3466acrow1_col5\" class=\"data row1 col5\" >1429</td>\n",
       "                        <td id=\"T_dc55ce6e_f01a_11ea_8729_ccb0da3466acrow1_col6\" class=\"data row1 col6\" >89</td>\n",
       "                        <td id=\"T_dc55ce6e_f01a_11ea_8729_ccb0da3466acrow1_col7\" class=\"data row1 col7\" >350</td>\n",
       "                        <td id=\"T_dc55ce6e_f01a_11ea_8729_ccb0da3466acrow1_col8\" class=\"data row1 col8\" >223</td>\n",
       "                        <td id=\"T_dc55ce6e_f01a_11ea_8729_ccb0da3466acrow1_col9\" class=\"data row1 col9\" >71</td>\n",
       "                        <td id=\"T_dc55ce6e_f01a_11ea_8729_ccb0da3466acrow1_col10\" class=\"data row1 col10\" >208</td>\n",
       "            </tr>\n",
       "            <tr>\n",
       "                        <th id=\"T_dc55ce6e_f01a_11ea_8729_ccb0da3466aclevel0_row2\" class=\"row_heading level0 row2\" >21-30</th>\n",
       "                        <td id=\"T_dc55ce6e_f01a_11ea_8729_ccb0da3466acrow2_col0\" class=\"data row2 col0\" >3467</td>\n",
       "                        <td id=\"T_dc55ce6e_f01a_11ea_8729_ccb0da3466acrow2_col1\" class=\"data row2 col1\" >11272</td>\n",
       "                        <td id=\"T_dc55ce6e_f01a_11ea_8729_ccb0da3466acrow2_col2\" class=\"data row2 col2\" >11394</td>\n",
       "                        <td id=\"T_dc55ce6e_f01a_11ea_8729_ccb0da3466acrow2_col3\" class=\"data row2 col3\" >6912</td>\n",
       "                        <td id=\"T_dc55ce6e_f01a_11ea_8729_ccb0da3466acrow2_col4\" class=\"data row2 col4\" >1398</td>\n",
       "                        <td id=\"T_dc55ce6e_f01a_11ea_8729_ccb0da3466acrow2_col5\" class=\"data row2 col5\" >3793</td>\n",
       "                        <td id=\"T_dc55ce6e_f01a_11ea_8729_ccb0da3466acrow2_col6\" class=\"data row2 col6\" >263</td>\n",
       "                        <td id=\"T_dc55ce6e_f01a_11ea_8729_ccb0da3466acrow2_col7\" class=\"data row2 col7\" >1026</td>\n",
       "                        <td id=\"T_dc55ce6e_f01a_11ea_8729_ccb0da3466acrow2_col8\" class=\"data row2 col8\" >546</td>\n",
       "                        <td id=\"T_dc55ce6e_f01a_11ea_8729_ccb0da3466acrow2_col9\" class=\"data row2 col9\" >231</td>\n",
       "                        <td id=\"T_dc55ce6e_f01a_11ea_8729_ccb0da3466acrow2_col10\" class=\"data row2 col10\" >541</td>\n",
       "            </tr>\n",
       "            <tr>\n",
       "                        <th id=\"T_dc55ce6e_f01a_11ea_8729_ccb0da3466aclevel0_row3\" class=\"row_heading level0 row3\" >31-40</th>\n",
       "                        <td id=\"T_dc55ce6e_f01a_11ea_8729_ccb0da3466acrow3_col0\" class=\"data row3 col0\" >4916</td>\n",
       "                        <td id=\"T_dc55ce6e_f01a_11ea_8729_ccb0da3466acrow3_col1\" class=\"data row3 col1\" >15792</td>\n",
       "                        <td id=\"T_dc55ce6e_f01a_11ea_8729_ccb0da3466acrow3_col2\" class=\"data row3 col2\" >18550</td>\n",
       "                        <td id=\"T_dc55ce6e_f01a_11ea_8729_ccb0da3466acrow3_col3\" class=\"data row3 col3\" >10912</td>\n",
       "                        <td id=\"T_dc55ce6e_f01a_11ea_8729_ccb0da3466acrow3_col4\" class=\"data row3 col4\" >2373</td>\n",
       "                        <td id=\"T_dc55ce6e_f01a_11ea_8729_ccb0da3466acrow3_col5\" class=\"data row3 col5\" >6517</td>\n",
       "                        <td id=\"T_dc55ce6e_f01a_11ea_8729_ccb0da3466acrow3_col6\" class=\"data row3 col6\" >509</td>\n",
       "                        <td id=\"T_dc55ce6e_f01a_11ea_8729_ccb0da3466acrow3_col7\" class=\"data row3 col7\" >1807</td>\n",
       "                        <td id=\"T_dc55ce6e_f01a_11ea_8729_ccb0da3466acrow3_col8\" class=\"data row3 col8\" >801</td>\n",
       "                        <td id=\"T_dc55ce6e_f01a_11ea_8729_ccb0da3466acrow3_col9\" class=\"data row3 col9\" >484</td>\n",
       "                        <td id=\"T_dc55ce6e_f01a_11ea_8729_ccb0da3466acrow3_col10\" class=\"data row3 col10\" >978</td>\n",
       "            </tr>\n",
       "            <tr>\n",
       "                        <th id=\"T_dc55ce6e_f01a_11ea_8729_ccb0da3466aclevel0_row4\" class=\"row_heading level0 row4\" >41-50</th>\n",
       "                        <td id=\"T_dc55ce6e_f01a_11ea_8729_ccb0da3466acrow4_col0\" class=\"data row4 col0\" >4727</td>\n",
       "                        <td id=\"T_dc55ce6e_f01a_11ea_8729_ccb0da3466acrow4_col1\" class=\"data row4 col1\" >14959</td>\n",
       "                        <td id=\"T_dc55ce6e_f01a_11ea_8729_ccb0da3466acrow4_col2\" class=\"data row4 col2\" >17906</td>\n",
       "                        <td id=\"T_dc55ce6e_f01a_11ea_8729_ccb0da3466acrow4_col3\" class=\"data row4 col3\" >10983</td>\n",
       "                        <td id=\"T_dc55ce6e_f01a_11ea_8729_ccb0da3466acrow4_col4\" class=\"data row4 col4\" >2507</td>\n",
       "                        <td id=\"T_dc55ce6e_f01a_11ea_8729_ccb0da3466acrow4_col5\" class=\"data row4 col5\" >7189</td>\n",
       "                        <td id=\"T_dc55ce6e_f01a_11ea_8729_ccb0da3466acrow4_col6\" class=\"data row4 col6\" >562</td>\n",
       "                        <td id=\"T_dc55ce6e_f01a_11ea_8729_ccb0da3466acrow4_col7\" class=\"data row4 col7\" >2146</td>\n",
       "                        <td id=\"T_dc55ce6e_f01a_11ea_8729_ccb0da3466acrow4_col8\" class=\"data row4 col8\" >885</td>\n",
       "                        <td id=\"T_dc55ce6e_f01a_11ea_8729_ccb0da3466acrow4_col9\" class=\"data row4 col9\" >578</td>\n",
       "                        <td id=\"T_dc55ce6e_f01a_11ea_8729_ccb0da3466acrow4_col10\" class=\"data row4 col10\" >1307</td>\n",
       "            </tr>\n",
       "            <tr>\n",
       "                        <th id=\"T_dc55ce6e_f01a_11ea_8729_ccb0da3466aclevel0_row5\" class=\"row_heading level0 row5\" >51-60</th>\n",
       "                        <td id=\"T_dc55ce6e_f01a_11ea_8729_ccb0da3466acrow5_col0\" class=\"data row5 col0\" >3427</td>\n",
       "                        <td id=\"T_dc55ce6e_f01a_11ea_8729_ccb0da3466acrow5_col1\" class=\"data row5 col1\" >11346</td>\n",
       "                        <td id=\"T_dc55ce6e_f01a_11ea_8729_ccb0da3466acrow5_col2\" class=\"data row5 col2\" >13058</td>\n",
       "                        <td id=\"T_dc55ce6e_f01a_11ea_8729_ccb0da3466acrow5_col3\" class=\"data row5 col3\" >8569</td>\n",
       "                        <td id=\"T_dc55ce6e_f01a_11ea_8729_ccb0da3466acrow5_col4\" class=\"data row5 col4\" >1735</td>\n",
       "                        <td id=\"T_dc55ce6e_f01a_11ea_8729_ccb0da3466acrow5_col5\" class=\"data row5 col5\" >5739</td>\n",
       "                        <td id=\"T_dc55ce6e_f01a_11ea_8729_ccb0da3466acrow5_col6\" class=\"data row5 col6\" >448</td>\n",
       "                        <td id=\"T_dc55ce6e_f01a_11ea_8729_ccb0da3466acrow5_col7\" class=\"data row5 col7\" >1710</td>\n",
       "                        <td id=\"T_dc55ce6e_f01a_11ea_8729_ccb0da3466acrow5_col8\" class=\"data row5 col8\" >784</td>\n",
       "                        <td id=\"T_dc55ce6e_f01a_11ea_8729_ccb0da3466acrow5_col9\" class=\"data row5 col9\" >499</td>\n",
       "                        <td id=\"T_dc55ce6e_f01a_11ea_8729_ccb0da3466acrow5_col10\" class=\"data row5 col10\" >1199</td>\n",
       "            </tr>\n",
       "            <tr>\n",
       "                        <th id=\"T_dc55ce6e_f01a_11ea_8729_ccb0da3466aclevel0_row6\" class=\"row_heading level0 row6\" >61-70</th>\n",
       "                        <td id=\"T_dc55ce6e_f01a_11ea_8729_ccb0da3466acrow6_col0\" class=\"data row6 col0\" >2194</td>\n",
       "                        <td id=\"T_dc55ce6e_f01a_11ea_8729_ccb0da3466acrow6_col1\" class=\"data row6 col1\" >7870</td>\n",
       "                        <td id=\"T_dc55ce6e_f01a_11ea_8729_ccb0da3466acrow6_col2\" class=\"data row6 col2\" >9033</td>\n",
       "                        <td id=\"T_dc55ce6e_f01a_11ea_8729_ccb0da3466acrow6_col3\" class=\"data row6 col3\" >5930</td>\n",
       "                        <td id=\"T_dc55ce6e_f01a_11ea_8729_ccb0da3466acrow6_col4\" class=\"data row6 col4\" >1205</td>\n",
       "                        <td id=\"T_dc55ce6e_f01a_11ea_8729_ccb0da3466acrow6_col5\" class=\"data row6 col5\" >4081</td>\n",
       "                        <td id=\"T_dc55ce6e_f01a_11ea_8729_ccb0da3466acrow6_col6\" class=\"data row6 col6\" >325</td>\n",
       "                        <td id=\"T_dc55ce6e_f01a_11ea_8729_ccb0da3466acrow6_col7\" class=\"data row6 col7\" >1230</td>\n",
       "                        <td id=\"T_dc55ce6e_f01a_11ea_8729_ccb0da3466acrow6_col8\" class=\"data row6 col8\" >600</td>\n",
       "                        <td id=\"T_dc55ce6e_f01a_11ea_8729_ccb0da3466acrow6_col9\" class=\"data row6 col9\" >330</td>\n",
       "                        <td id=\"T_dc55ce6e_f01a_11ea_8729_ccb0da3466acrow6_col10\" class=\"data row6 col10\" >889</td>\n",
       "            </tr>\n",
       "            <tr>\n",
       "                        <th id=\"T_dc55ce6e_f01a_11ea_8729_ccb0da3466aclevel0_row7\" class=\"row_heading level0 row7\" >71-80</th>\n",
       "                        <td id=\"T_dc55ce6e_f01a_11ea_8729_ccb0da3466acrow7_col0\" class=\"data row7 col0\" >2201</td>\n",
       "                        <td id=\"T_dc55ce6e_f01a_11ea_8729_ccb0da3466acrow7_col1\" class=\"data row7 col1\" >7958</td>\n",
       "                        <td id=\"T_dc55ce6e_f01a_11ea_8729_ccb0da3466acrow7_col2\" class=\"data row7 col2\" >9534</td>\n",
       "                        <td id=\"T_dc55ce6e_f01a_11ea_8729_ccb0da3466acrow7_col3\" class=\"data row7 col3\" >6420</td>\n",
       "                        <td id=\"T_dc55ce6e_f01a_11ea_8729_ccb0da3466acrow7_col4\" class=\"data row7 col4\" >1383</td>\n",
       "                        <td id=\"T_dc55ce6e_f01a_11ea_8729_ccb0da3466acrow7_col5\" class=\"data row7 col5\" >4433</td>\n",
       "                        <td id=\"T_dc55ce6e_f01a_11ea_8729_ccb0da3466acrow7_col6\" class=\"data row7 col6\" >378</td>\n",
       "                        <td id=\"T_dc55ce6e_f01a_11ea_8729_ccb0da3466acrow7_col7\" class=\"data row7 col7\" >1367</td>\n",
       "                        <td id=\"T_dc55ce6e_f01a_11ea_8729_ccb0da3466acrow7_col8\" class=\"data row7 col8\" >670</td>\n",
       "                        <td id=\"T_dc55ce6e_f01a_11ea_8729_ccb0da3466acrow7_col9\" class=\"data row7 col9\" >386</td>\n",
       "                        <td id=\"T_dc55ce6e_f01a_11ea_8729_ccb0da3466acrow7_col10\" class=\"data row7 col10\" >1062</td>\n",
       "            </tr>\n",
       "            <tr>\n",
       "                        <th id=\"T_dc55ce6e_f01a_11ea_8729_ccb0da3466aclevel0_row8\" class=\"row_heading level0 row8\" >81-90</th>\n",
       "                        <td id=\"T_dc55ce6e_f01a_11ea_8729_ccb0da3466acrow8_col0\" class=\"data row8 col0\" >422</td>\n",
       "                        <td id=\"T_dc55ce6e_f01a_11ea_8729_ccb0da3466acrow8_col1\" class=\"data row8 col1\" >1392</td>\n",
       "                        <td id=\"T_dc55ce6e_f01a_11ea_8729_ccb0da3466acrow8_col2\" class=\"data row8 col2\" >1920</td>\n",
       "                        <td id=\"T_dc55ce6e_f01a_11ea_8729_ccb0da3466acrow8_col3\" class=\"data row8 col3\" >1504</td>\n",
       "                        <td id=\"T_dc55ce6e_f01a_11ea_8729_ccb0da3466acrow8_col4\" class=\"data row8 col4\" >379</td>\n",
       "                        <td id=\"T_dc55ce6e_f01a_11ea_8729_ccb0da3466acrow8_col5\" class=\"data row8 col5\" >1082</td>\n",
       "                        <td id=\"T_dc55ce6e_f01a_11ea_8729_ccb0da3466acrow8_col6\" class=\"data row8 col6\" >115</td>\n",
       "                        <td id=\"T_dc55ce6e_f01a_11ea_8729_ccb0da3466acrow8_col7\" class=\"data row8 col7\" >402</td>\n",
       "                        <td id=\"T_dc55ce6e_f01a_11ea_8729_ccb0da3466acrow8_col8\" class=\"data row8 col8\" >216</td>\n",
       "                        <td id=\"T_dc55ce6e_f01a_11ea_8729_ccb0da3466acrow8_col9\" class=\"data row8 col9\" >132</td>\n",
       "                        <td id=\"T_dc55ce6e_f01a_11ea_8729_ccb0da3466acrow8_col10\" class=\"data row8 col10\" >326</td>\n",
       "            </tr>\n",
       "            <tr>\n",
       "                        <th id=\"T_dc55ce6e_f01a_11ea_8729_ccb0da3466aclevel0_row9\" class=\"row_heading level0 row9\" >91-100</th>\n",
       "                        <td id=\"T_dc55ce6e_f01a_11ea_8729_ccb0da3466acrow9_col0\" class=\"data row9 col0\" >83</td>\n",
       "                        <td id=\"T_dc55ce6e_f01a_11ea_8729_ccb0da3466acrow9_col1\" class=\"data row9 col1\" >248</td>\n",
       "                        <td id=\"T_dc55ce6e_f01a_11ea_8729_ccb0da3466acrow9_col2\" class=\"data row9 col2\" >295</td>\n",
       "                        <td id=\"T_dc55ce6e_f01a_11ea_8729_ccb0da3466acrow9_col3\" class=\"data row9 col3\" >234</td>\n",
       "                        <td id=\"T_dc55ce6e_f01a_11ea_8729_ccb0da3466acrow9_col4\" class=\"data row9 col4\" >66</td>\n",
       "                        <td id=\"T_dc55ce6e_f01a_11ea_8729_ccb0da3466acrow9_col5\" class=\"data row9 col5\" >173</td>\n",
       "                        <td id=\"T_dc55ce6e_f01a_11ea_8729_ccb0da3466acrow9_col6\" class=\"data row9 col6\" >29</td>\n",
       "                        <td id=\"T_dc55ce6e_f01a_11ea_8729_ccb0da3466acrow9_col7\" class=\"data row9 col7\" >63</td>\n",
       "                        <td id=\"T_dc55ce6e_f01a_11ea_8729_ccb0da3466acrow9_col8\" class=\"data row9 col8\" >29</td>\n",
       "                        <td id=\"T_dc55ce6e_f01a_11ea_8729_ccb0da3466acrow9_col9\" class=\"data row9 col9\" >19</td>\n",
       "                        <td id=\"T_dc55ce6e_f01a_11ea_8729_ccb0da3466acrow9_col10\" class=\"data row9 col10\" >63</td>\n",
       "            </tr>\n",
       "    </tbody></table>"
      ],
      "text/plain": [
       "<pandas.io.formats.style.Styler at 0x1e3a47e4c48>"
      ]
     },
     "execution_count": 1258,
     "metadata": {},
     "output_type": "execute_result"
    }
   ],
   "source": [
    "df = pd.crosstab(index=train['Age'],columns=train['Stay'])\n",
    "df.style.background_gradient(cmap='Reds')"
   ]
  },
  {
   "cell_type": "code",
   "execution_count": 1259,
   "metadata": {},
   "outputs": [],
   "source": [
    "# Majority of the patients admitted for more than 100 days are from the age group 41-50 closely followed by 51-60 and 71-80.\n",
    "# Age groups 31-40 and 41-50 form the majority of patients admitted for 31-40 days.\n",
    "# 31-40 for the majority group in 21-30 days at the hospital. "
   ]
  },
  {
   "cell_type": "code",
   "execution_count": 1260,
   "metadata": {},
   "outputs": [],
   "source": [
    "# Let's check the cross tab of the Dependent variable with the Severity variable"
   ]
  },
  {
   "cell_type": "code",
   "execution_count": 1261,
   "metadata": {},
   "outputs": [
    {
     "data": {
      "text/html": [
       "<style  type=\"text/css\" >\n",
       "    #T_dca3a968_f01a_11ea_bc8b_ccb0da3466acrow0_col0 {\n",
       "            background-color:  #fff5f0;\n",
       "            color:  #000000;\n",
       "        }    #T_dca3a968_f01a_11ea_bc8b_ccb0da3466acrow0_col1 {\n",
       "            background-color:  #fff5f0;\n",
       "            color:  #000000;\n",
       "        }    #T_dca3a968_f01a_11ea_bc8b_ccb0da3466acrow0_col2 {\n",
       "            background-color:  #fff5f0;\n",
       "            color:  #000000;\n",
       "        }    #T_dca3a968_f01a_11ea_bc8b_ccb0da3466acrow0_col3 {\n",
       "            background-color:  #fff5f0;\n",
       "            color:  #000000;\n",
       "        }    #T_dca3a968_f01a_11ea_bc8b_ccb0da3466acrow0_col4 {\n",
       "            background-color:  #fff5f0;\n",
       "            color:  #000000;\n",
       "        }    #T_dca3a968_f01a_11ea_bc8b_ccb0da3466acrow0_col5 {\n",
       "            background-color:  #ffede5;\n",
       "            color:  #000000;\n",
       "        }    #T_dca3a968_f01a_11ea_bc8b_ccb0da3466acrow0_col6 {\n",
       "            background-color:  #fee1d4;\n",
       "            color:  #000000;\n",
       "        }    #T_dca3a968_f01a_11ea_bc8b_ccb0da3466acrow0_col7 {\n",
       "            background-color:  #fdd3c1;\n",
       "            color:  #000000;\n",
       "        }    #T_dca3a968_f01a_11ea_bc8b_ccb0da3466acrow0_col8 {\n",
       "            background-color:  #fee9df;\n",
       "            color:  #000000;\n",
       "        }    #T_dca3a968_f01a_11ea_bc8b_ccb0da3466acrow0_col9 {\n",
       "            background-color:  #fc9d7f;\n",
       "            color:  #000000;\n",
       "        }    #T_dca3a968_f01a_11ea_bc8b_ccb0da3466acrow0_col10 {\n",
       "            background-color:  #fc997a;\n",
       "            color:  #000000;\n",
       "        }    #T_dca3a968_f01a_11ea_bc8b_ccb0da3466acrow1_col0 {\n",
       "            background-color:  #fb6b4b;\n",
       "            color:  #000000;\n",
       "        }    #T_dca3a968_f01a_11ea_bc8b_ccb0da3466acrow1_col1 {\n",
       "            background-color:  #f6563d;\n",
       "            color:  #000000;\n",
       "        }    #T_dca3a968_f01a_11ea_bc8b_ccb0da3466acrow1_col2 {\n",
       "            background-color:  #fdd2bf;\n",
       "            color:  #000000;\n",
       "        }    #T_dca3a968_f01a_11ea_bc8b_ccb0da3466acrow1_col3 {\n",
       "            background-color:  #fdc6b0;\n",
       "            color:  #000000;\n",
       "        }    #T_dca3a968_f01a_11ea_bc8b_ccb0da3466acrow1_col4 {\n",
       "            background-color:  #fdd5c4;\n",
       "            color:  #000000;\n",
       "        }    #T_dca3a968_f01a_11ea_bc8b_ccb0da3466acrow1_col5 {\n",
       "            background-color:  #fff5f0;\n",
       "            color:  #000000;\n",
       "        }    #T_dca3a968_f01a_11ea_bc8b_ccb0da3466acrow1_col6 {\n",
       "            background-color:  #fff5f0;\n",
       "            color:  #000000;\n",
       "        }    #T_dca3a968_f01a_11ea_bc8b_ccb0da3466acrow1_col7 {\n",
       "            background-color:  #fff5f0;\n",
       "            color:  #000000;\n",
       "        }    #T_dca3a968_f01a_11ea_bc8b_ccb0da3466acrow1_col8 {\n",
       "            background-color:  #fff5f0;\n",
       "            color:  #000000;\n",
       "        }    #T_dca3a968_f01a_11ea_bc8b_ccb0da3466acrow1_col9 {\n",
       "            background-color:  #fff5f0;\n",
       "            color:  #000000;\n",
       "        }    #T_dca3a968_f01a_11ea_bc8b_ccb0da3466acrow1_col10 {\n",
       "            background-color:  #fff5f0;\n",
       "            color:  #000000;\n",
       "        }    #T_dca3a968_f01a_11ea_bc8b_ccb0da3466acrow2_col0 {\n",
       "            background-color:  #67000d;\n",
       "            color:  #f1f1f1;\n",
       "        }    #T_dca3a968_f01a_11ea_bc8b_ccb0da3466acrow2_col1 {\n",
       "            background-color:  #67000d;\n",
       "            color:  #f1f1f1;\n",
       "        }    #T_dca3a968_f01a_11ea_bc8b_ccb0da3466acrow2_col2 {\n",
       "            background-color:  #67000d;\n",
       "            color:  #f1f1f1;\n",
       "        }    #T_dca3a968_f01a_11ea_bc8b_ccb0da3466acrow2_col3 {\n",
       "            background-color:  #67000d;\n",
       "            color:  #f1f1f1;\n",
       "        }    #T_dca3a968_f01a_11ea_bc8b_ccb0da3466acrow2_col4 {\n",
       "            background-color:  #67000d;\n",
       "            color:  #f1f1f1;\n",
       "        }    #T_dca3a968_f01a_11ea_bc8b_ccb0da3466acrow2_col5 {\n",
       "            background-color:  #67000d;\n",
       "            color:  #f1f1f1;\n",
       "        }    #T_dca3a968_f01a_11ea_bc8b_ccb0da3466acrow2_col6 {\n",
       "            background-color:  #67000d;\n",
       "            color:  #f1f1f1;\n",
       "        }    #T_dca3a968_f01a_11ea_bc8b_ccb0da3466acrow2_col7 {\n",
       "            background-color:  #67000d;\n",
       "            color:  #f1f1f1;\n",
       "        }    #T_dca3a968_f01a_11ea_bc8b_ccb0da3466acrow2_col8 {\n",
       "            background-color:  #67000d;\n",
       "            color:  #f1f1f1;\n",
       "        }    #T_dca3a968_f01a_11ea_bc8b_ccb0da3466acrow2_col9 {\n",
       "            background-color:  #67000d;\n",
       "            color:  #f1f1f1;\n",
       "        }    #T_dca3a968_f01a_11ea_bc8b_ccb0da3466acrow2_col10 {\n",
       "            background-color:  #67000d;\n",
       "            color:  #f1f1f1;\n",
       "        }</style><table id=\"T_dca3a968_f01a_11ea_bc8b_ccb0da3466ac\" ><thead>    <tr>        <th class=\"index_name level0\" >Stay</th>        <th class=\"col_heading level0 col0\" >0-10</th>        <th class=\"col_heading level0 col1\" >11-20</th>        <th class=\"col_heading level0 col2\" >21-30</th>        <th class=\"col_heading level0 col3\" >31-40</th>        <th class=\"col_heading level0 col4\" >41-50</th>        <th class=\"col_heading level0 col5\" >51-60</th>        <th class=\"col_heading level0 col6\" >61-70</th>        <th class=\"col_heading level0 col7\" >71-80</th>        <th class=\"col_heading level0 col8\" >81-90</th>        <th class=\"col_heading level0 col9\" >91-100</th>        <th class=\"col_heading level0 col10\" >More than 100 Days</th>    </tr>    <tr>        <th class=\"index_name level0\" >Severity</th>        <th class=\"blank\" ></th>        <th class=\"blank\" ></th>        <th class=\"blank\" ></th>        <th class=\"blank\" ></th>        <th class=\"blank\" ></th>        <th class=\"blank\" ></th>        <th class=\"blank\" ></th>        <th class=\"blank\" ></th>        <th class=\"blank\" ></th>        <th class=\"blank\" ></th>        <th class=\"blank\" ></th>    </tr></thead><tbody>\n",
       "                <tr>\n",
       "                        <th id=\"T_dca3a968_f01a_11ea_bc8b_ccb0da3466aclevel0_row0\" class=\"row_heading level0 row0\" >Extreme</th>\n",
       "                        <td id=\"T_dca3a968_f01a_11ea_bc8b_ccb0da3466acrow0_col0\" class=\"data row0 col0\" >3399</td>\n",
       "                        <td id=\"T_dca3a968_f01a_11ea_bc8b_ccb0da3466acrow0_col1\" class=\"data row0 col1\" >10518</td>\n",
       "                        <td id=\"T_dca3a968_f01a_11ea_bc8b_ccb0da3466acrow0_col2\" class=\"data row0 col2\" >15502</td>\n",
       "                        <td id=\"T_dca3a968_f01a_11ea_bc8b_ccb0da3466acrow0_col3\" class=\"data row0 col3\" >10086</td>\n",
       "                        <td id=\"T_dca3a968_f01a_11ea_bc8b_ccb0da3466acrow0_col4\" class=\"data row0 col4\" >2351</td>\n",
       "                        <td id=\"T_dca3a968_f01a_11ea_bc8b_ccb0da3466acrow0_col5\" class=\"data row0 col5\" >7777</td>\n",
       "                        <td id=\"T_dca3a968_f01a_11ea_bc8b_ccb0da3466acrow0_col6\" class=\"data row0 col6\" >647</td>\n",
       "                        <td id=\"T_dca3a968_f01a_11ea_bc8b_ccb0da3466acrow0_col7\" class=\"data row0 col7\" >2575</td>\n",
       "                        <td id=\"T_dca3a968_f01a_11ea_bc8b_ccb0da3466acrow0_col8\" class=\"data row0 col8\" >1113</td>\n",
       "                        <td id=\"T_dca3a968_f01a_11ea_bc8b_ccb0da3466acrow0_col9\" class=\"data row0 col9\" >805</td>\n",
       "                        <td id=\"T_dca3a968_f01a_11ea_bc8b_ccb0da3466acrow0_col10\" class=\"data row0 col10\" >1950</td>\n",
       "            </tr>\n",
       "            <tr>\n",
       "                        <th id=\"T_dca3a968_f01a_11ea_bc8b_ccb0da3466aclevel0_row1\" class=\"row_heading level0 row1\" >Minor</th>\n",
       "                        <td id=\"T_dca3a968_f01a_11ea_bc8b_ccb0da3466acrow1_col0\" class=\"data row1 col0\" >7866</td>\n",
       "                        <td id=\"T_dca3a968_f01a_11ea_bc8b_ccb0da3466acrow1_col1\" class=\"data row1 col1\" >27081</td>\n",
       "                        <td id=\"T_dca3a968_f01a_11ea_bc8b_ccb0da3466acrow1_col2\" class=\"data row1 col2\" >21535</td>\n",
       "                        <td id=\"T_dca3a968_f01a_11ea_bc8b_ccb0da3466acrow1_col3\" class=\"data row1 col3\" >14447</td>\n",
       "                        <td id=\"T_dca3a968_f01a_11ea_bc8b_ccb0da3466acrow1_col4\" class=\"data row1 col4\" >3000</td>\n",
       "                        <td id=\"T_dca3a968_f01a_11ea_bc8b_ccb0da3466acrow1_col5\" class=\"data row1 col5\" >7128</td>\n",
       "                        <td id=\"T_dca3a968_f01a_11ea_bc8b_ccb0da3466acrow1_col6\" class=\"data row1 col6\" >519</td>\n",
       "                        <td id=\"T_dca3a968_f01a_11ea_bc8b_ccb0da3466acrow1_col7\" class=\"data row1 col7\" >1928</td>\n",
       "                        <td id=\"T_dca3a968_f01a_11ea_bc8b_ccb0da3466acrow1_col8\" class=\"data row1 col8\" >985</td>\n",
       "                        <td id=\"T_dca3a968_f01a_11ea_bc8b_ccb0da3466acrow1_col9\" class=\"data row1 col9\" >425</td>\n",
       "                        <td id=\"T_dca3a968_f01a_11ea_bc8b_ccb0da3466acrow1_col10\" class=\"data row1 col10\" >958</td>\n",
       "            </tr>\n",
       "            <tr>\n",
       "                        <th id=\"T_dca3a968_f01a_11ea_bc8b_ccb0da3466aclevel0_row2\" class=\"row_heading level0 row2\" >Moderate</th>\n",
       "                        <td id=\"T_dca3a968_f01a_11ea_bc8b_ccb0da3466acrow2_col0\" class=\"data row2 col0\" >12339</td>\n",
       "                        <td id=\"T_dca3a968_f01a_11ea_bc8b_ccb0da3466acrow2_col1\" class=\"data row2 col1\" >40540</td>\n",
       "                        <td id=\"T_dca3a968_f01a_11ea_bc8b_ccb0da3466acrow2_col2\" class=\"data row2 col2\" >50454</td>\n",
       "                        <td id=\"T_dca3a968_f01a_11ea_bc8b_ccb0da3466acrow2_col3\" class=\"data row2 col3\" >30626</td>\n",
       "                        <td id=\"T_dca3a968_f01a_11ea_bc8b_ccb0da3466acrow2_col4\" class=\"data row2 col4\" >6392</td>\n",
       "                        <td id=\"T_dca3a968_f01a_11ea_bc8b_ccb0da3466acrow2_col5\" class=\"data row2 col5\" >20113</td>\n",
       "                        <td id=\"T_dca3a968_f01a_11ea_bc8b_ccb0da3466acrow2_col6\" class=\"data row2 col6\" >1578</td>\n",
       "                        <td id=\"T_dca3a968_f01a_11ea_bc8b_ccb0da3466acrow2_col7\" class=\"data row2 col7\" >5751</td>\n",
       "                        <td id=\"T_dca3a968_f01a_11ea_bc8b_ccb0da3466acrow2_col8\" class=\"data row2 col8\" >2740</td>\n",
       "                        <td id=\"T_dca3a968_f01a_11ea_bc8b_ccb0da3466acrow2_col9\" class=\"data row2 col9\" >1535</td>\n",
       "                        <td id=\"T_dca3a968_f01a_11ea_bc8b_ccb0da3466acrow2_col10\" class=\"data row2 col10\" >3775</td>\n",
       "            </tr>\n",
       "    </tbody></table>"
      ],
      "text/plain": [
       "<pandas.io.formats.style.Styler at 0x1e3e9429548>"
      ]
     },
     "execution_count": 1261,
     "metadata": {},
     "output_type": "execute_result"
    }
   ],
   "source": [
    "df = pd.crosstab(index=train['Severity'],columns=train['Stay'])\n",
    "df.style.background_gradient(cmap='Reds')"
   ]
  },
  {
   "cell_type": "markdown",
   "metadata": {},
   "source": [
    "1. We can see that those who are admitted for more than 100 days have moderate severity which is not what we expect.\n",
    "2. In almost all the stay brackets, majority of the patients are admitted with Moderate severity."
   ]
  },
  {
   "cell_type": "code",
   "execution_count": 1262,
   "metadata": {},
   "outputs": [],
   "source": [
    "# Let's check the cross tab of the Dependent variable with the Admission_Type variable"
   ]
  },
  {
   "cell_type": "code",
   "execution_count": 1263,
   "metadata": {},
   "outputs": [
    {
     "data": {
      "image/png": "[encoded data removed]",
      "text/plain": [
       "<Figure size 720x288 with 1 Axes>"
      ]
     },
     "metadata": {},
     "output_type": "display_data"
    }
   ],
   "source": [
    "train.groupby(\"Stay\")['Admission_Type'].value_counts().unstack().plot.bar(figsize=(10,4));\n",
    "plt.ylabel(\"Count\");\n",
    "plt.xticks(rotation=45);"
   ]
  },
  {
   "cell_type": "markdown",
   "metadata": {},
   "source": [
    "1. We can see that those who are admitted for a duration of 21-30 days are mostly Trauma patients.\n",
    "2. In the 0-10 bracket, majority of the cases seem to be of Emergency Admission Type."
   ]
  },
  {
   "cell_type": "code",
   "execution_count": 1264,
   "metadata": {},
   "outputs": [],
   "source": [
    "# Let's check the cross tab of the Dependent variable with the Department variable"
   ]
  },
  {
   "cell_type": "code",
   "execution_count": 1265,
   "metadata": {},
   "outputs": [
    {
     "data": {
      "image/png": "[encoded data removed]",
      "text/plain": [
       "<Figure size 864x432 with 1 Axes>"
      ]
     },
     "metadata": {},
     "output_type": "display_data"
    }
   ],
   "source": [
    "train.groupby(\"Department\")['Stay'].value_counts().unstack().plot.bar(figsize=(12,6));\n",
    "plt.xticks(rotation=360);\n",
    "plt.ylabel(\"Count\");"
   ]
  },
  {
   "cell_type": "markdown",
   "metadata": {},
   "source": [
    "1. We can see that most of the cases admitted to the Gynecology departments stay for a duration of 21-30 days followed by 11-20 days.\n",
    "2. Not much we can see in the Surgery department."
   ]
  },
  {
   "cell_type": "code",
   "execution_count": 1266,
   "metadata": {},
   "outputs": [],
   "source": [
    "# Let's see how Admission_Type and Seerity are related."
   ]
  },
  {
   "cell_type": "code",
   "execution_count": 1267,
   "metadata": {},
   "outputs": [
    {
     "data": {
      "text/html": [
       "<style  type=\"text/css\" >\n",
       "    #T_de21bd7e_f01a_11ea_ade3_ccb0da3466acrow0_col0 {\n",
       "            background-color:  #fff5f0;\n",
       "            color:  #000000;\n",
       "        }    #T_de21bd7e_f01a_11ea_ade3_ccb0da3466acrow0_col1 {\n",
       "            background-color:  #fff5f0;\n",
       "            color:  #000000;\n",
       "        }    #T_de21bd7e_f01a_11ea_ade3_ccb0da3466acrow0_col2 {\n",
       "            background-color:  #fff5f0;\n",
       "            color:  #000000;\n",
       "        }    #T_de21bd7e_f01a_11ea_ade3_ccb0da3466acrow1_col0 {\n",
       "            background-color:  #fc9576;\n",
       "            color:  #000000;\n",
       "        }    #T_de21bd7e_f01a_11ea_ade3_ccb0da3466acrow1_col1 {\n",
       "            background-color:  #fedccd;\n",
       "            color:  #000000;\n",
       "        }    #T_de21bd7e_f01a_11ea_ade3_ccb0da3466acrow1_col2 {\n",
       "            background-color:  #fcaa8d;\n",
       "            color:  #000000;\n",
       "        }    #T_de21bd7e_f01a_11ea_ade3_ccb0da3466acrow2_col0 {\n",
       "            background-color:  #67000d;\n",
       "            color:  #f1f1f1;\n",
       "        }    #T_de21bd7e_f01a_11ea_ade3_ccb0da3466acrow2_col1 {\n",
       "            background-color:  #67000d;\n",
       "            color:  #f1f1f1;\n",
       "        }    #T_de21bd7e_f01a_11ea_ade3_ccb0da3466acrow2_col2 {\n",
       "            background-color:  #67000d;\n",
       "            color:  #f1f1f1;\n",
       "        }</style><table id=\"T_de21bd7e_f01a_11ea_ade3_ccb0da3466ac\" ><thead>    <tr>        <th class=\"index_name level0\" >Admission_Type</th>        <th class=\"col_heading level0 col0\" >Emergency</th>        <th class=\"col_heading level0 col1\" >Trauma</th>        <th class=\"col_heading level0 col2\" >Urgent</th>    </tr>    <tr>        <th class=\"index_name level0\" >Severity</th>        <th class=\"blank\" ></th>        <th class=\"blank\" ></th>        <th class=\"blank\" ></th>    </tr></thead><tbody>\n",
       "                <tr>\n",
       "                        <th id=\"T_de21bd7e_f01a_11ea_ade3_ccb0da3466aclevel0_row0\" class=\"row_heading level0 row0\" >Extreme</th>\n",
       "                        <td id=\"T_de21bd7e_f01a_11ea_ade3_ccb0da3466acrow0_col0\" class=\"data row0 col0\" >19844</td>\n",
       "                        <td id=\"T_de21bd7e_f01a_11ea_ade3_ccb0da3466acrow0_col1\" class=\"data row0 col1\" >28837</td>\n",
       "                        <td id=\"T_de21bd7e_f01a_11ea_ade3_ccb0da3466acrow0_col2\" class=\"data row0 col2\" >8042</td>\n",
       "            </tr>\n",
       "            <tr>\n",
       "                        <th id=\"T_de21bd7e_f01a_11ea_ade3_ccb0da3466aclevel0_row1\" class=\"row_heading level0 row1\" >Minor</th>\n",
       "                        <td id=\"T_de21bd7e_f01a_11ea_ade3_ccb0da3466acrow1_col0\" class=\"data row1 col0\" >35356</td>\n",
       "                        <td id=\"T_de21bd7e_f01a_11ea_ade3_ccb0da3466acrow1_col1\" class=\"data row1 col1\" >36800</td>\n",
       "                        <td id=\"T_de21bd7e_f01a_11ea_ade3_ccb0da3466acrow1_col2\" class=\"data row1 col2\" >13716</td>\n",
       "            </tr>\n",
       "            <tr>\n",
       "                        <th id=\"T_de21bd7e_f01a_11ea_ade3_ccb0da3466aclevel0_row2\" class=\"row_heading level0 row2\" >Moderate</th>\n",
       "                        <td id=\"T_de21bd7e_f01a_11ea_ade3_ccb0da3466acrow2_col0\" class=\"data row2 col0\" >62476</td>\n",
       "                        <td id=\"T_de21bd7e_f01a_11ea_ade3_ccb0da3466acrow2_col1\" class=\"data row2 col1\" >86624</td>\n",
       "                        <td id=\"T_de21bd7e_f01a_11ea_ade3_ccb0da3466acrow2_col2\" class=\"data row2 col2\" >26743</td>\n",
       "            </tr>\n",
       "    </tbody></table>"
      ],
      "text/plain": [
       "<pandas.io.formats.style.Styler at 0x1e391feb5c8>"
      ]
     },
     "execution_count": 1267,
     "metadata": {},
     "output_type": "execute_result"
    }
   ],
   "source": [
    "df = pd.crosstab(index=train['Severity'],columns=train['Admission_Type'])\n",
    "df.style.background_gradient(cmap='Reds')"
   ]
  },
  {
   "cell_type": "markdown",
   "metadata": {},
   "source": [
    "1. We can see that even Minor severity patients are admitted to Emergency ward / Trauma section which is strange.\n",
    "2. Also there are patients with Moderate severity being admitted to Emergency / Trauma wards."
   ]
  },
  {
   "cell_type": "code",
   "execution_count": 1268,
   "metadata": {},
   "outputs": [
    {
     "data": {
      "text/html": [
       "<style  type=\"text/css\" >\n",
       "    #T_de45a580_f01a_11ea_90a6_ccb0da3466acrow0_col0 {\n",
       "            background-color:  #fdcdb9;\n",
       "            color:  #000000;\n",
       "        }    #T_de45a580_f01a_11ea_90a6_ccb0da3466acrow0_col1 {\n",
       "            background-color:  #ffede5;\n",
       "            color:  #000000;\n",
       "        }    #T_de45a580_f01a_11ea_90a6_ccb0da3466acrow0_col2 {\n",
       "            background-color:  #feeae0;\n",
       "            color:  #000000;\n",
       "        }    #T_de45a580_f01a_11ea_90a6_ccb0da3466acrow0_col3 {\n",
       "            background-color:  #fee2d5;\n",
       "            color:  #000000;\n",
       "        }    #T_de45a580_f01a_11ea_90a6_ccb0da3466acrow0_col4 {\n",
       "            background-color:  #fb7b5b;\n",
       "            color:  #000000;\n",
       "        }    #T_de45a580_f01a_11ea_90a6_ccb0da3466acrow1_col0 {\n",
       "            background-color:  #fc9879;\n",
       "            color:  #000000;\n",
       "        }    #T_de45a580_f01a_11ea_90a6_ccb0da3466acrow1_col1 {\n",
       "            background-color:  #fdc9b3;\n",
       "            color:  #000000;\n",
       "        }    #T_de45a580_f01a_11ea_90a6_ccb0da3466acrow1_col2 {\n",
       "            background-color:  #fcc1a8;\n",
       "            color:  #000000;\n",
       "        }    #T_de45a580_f01a_11ea_90a6_ccb0da3466acrow1_col3 {\n",
       "            background-color:  #fcbca2;\n",
       "            color:  #000000;\n",
       "        }    #T_de45a580_f01a_11ea_90a6_ccb0da3466acrow1_col4 {\n",
       "            background-color:  #fdd4c2;\n",
       "            color:  #000000;\n",
       "        }    #T_de45a580_f01a_11ea_90a6_ccb0da3466acrow2_col0 {\n",
       "            background-color:  #e53228;\n",
       "            color:  #f1f1f1;\n",
       "        }    #T_de45a580_f01a_11ea_90a6_ccb0da3466acrow2_col1 {\n",
       "            background-color:  #f44d38;\n",
       "            color:  #000000;\n",
       "        }    #T_de45a580_f01a_11ea_90a6_ccb0da3466acrow2_col2 {\n",
       "            background-color:  #ef3c2c;\n",
       "            color:  #f1f1f1;\n",
       "        }    #T_de45a580_f01a_11ea_90a6_ccb0da3466acrow2_col3 {\n",
       "            background-color:  #fb7d5d;\n",
       "            color:  #000000;\n",
       "        }    #T_de45a580_f01a_11ea_90a6_ccb0da3466acrow2_col4 {\n",
       "            background-color:  #fc9c7d;\n",
       "            color:  #000000;\n",
       "        }    #T_de45a580_f01a_11ea_90a6_ccb0da3466acrow3_col0 {\n",
       "            background-color:  #b01217;\n",
       "            color:  #f1f1f1;\n",
       "        }    #T_de45a580_f01a_11ea_90a6_ccb0da3466acrow3_col1 {\n",
       "            background-color:  #9c0d14;\n",
       "            color:  #f1f1f1;\n",
       "        }    #T_de45a580_f01a_11ea_90a6_ccb0da3466acrow3_col2 {\n",
       "            background-color:  #67000d;\n",
       "            color:  #f1f1f1;\n",
       "        }    #T_de45a580_f01a_11ea_90a6_ccb0da3466acrow3_col3 {\n",
       "            background-color:  #f24734;\n",
       "            color:  #000000;\n",
       "        }    #T_de45a580_f01a_11ea_90a6_ccb0da3466acrow3_col4 {\n",
       "            background-color:  #f34a36;\n",
       "            color:  #000000;\n",
       "        }    #T_de45a580_f01a_11ea_90a6_ccb0da3466acrow4_col0 {\n",
       "            background-color:  #8c0912;\n",
       "            color:  #f1f1f1;\n",
       "        }    #T_de45a580_f01a_11ea_90a6_ccb0da3466acrow4_col1 {\n",
       "            background-color:  #67000d;\n",
       "            color:  #f1f1f1;\n",
       "        }    #T_de45a580_f01a_11ea_90a6_ccb0da3466acrow4_col2 {\n",
       "            background-color:  #71020e;\n",
       "            color:  #f1f1f1;\n",
       "        }    #T_de45a580_f01a_11ea_90a6_ccb0da3466acrow4_col3 {\n",
       "            background-color:  #e32f27;\n",
       "            color:  #f1f1f1;\n",
       "        }    #T_de45a580_f01a_11ea_90a6_ccb0da3466acrow4_col4 {\n",
       "            background-color:  #a10e15;\n",
       "            color:  #f1f1f1;\n",
       "        }    #T_de45a580_f01a_11ea_90a6_ccb0da3466acrow5_col0 {\n",
       "            background-color:  #67000d;\n",
       "            color:  #f1f1f1;\n",
       "        }    #T_de45a580_f01a_11ea_90a6_ccb0da3466acrow5_col1 {\n",
       "            background-color:  #a81016;\n",
       "            color:  #f1f1f1;\n",
       "        }    #T_de45a580_f01a_11ea_90a6_ccb0da3466acrow5_col2 {\n",
       "            background-color:  #d82422;\n",
       "            color:  #f1f1f1;\n",
       "        }    #T_de45a580_f01a_11ea_90a6_ccb0da3466acrow5_col3 {\n",
       "            background-color:  #f03d2d;\n",
       "            color:  #f1f1f1;\n",
       "        }    #T_de45a580_f01a_11ea_90a6_ccb0da3466acrow5_col4 {\n",
       "            background-color:  #67000d;\n",
       "            color:  #f1f1f1;\n",
       "        }    #T_de45a580_f01a_11ea_90a6_ccb0da3466acrow6_col0 {\n",
       "            background-color:  #da2723;\n",
       "            color:  #f1f1f1;\n",
       "        }    #T_de45a580_f01a_11ea_90a6_ccb0da3466acrow6_col1 {\n",
       "            background-color:  #e02c26;\n",
       "            color:  #f1f1f1;\n",
       "        }    #T_de45a580_f01a_11ea_90a6_ccb0da3466acrow6_col2 {\n",
       "            background-color:  #fb7a5a;\n",
       "            color:  #000000;\n",
       "        }    #T_de45a580_f01a_11ea_90a6_ccb0da3466acrow6_col3 {\n",
       "            background-color:  #ec382b;\n",
       "            color:  #f1f1f1;\n",
       "        }    #T_de45a580_f01a_11ea_90a6_ccb0da3466acrow6_col4 {\n",
       "            background-color:  #7c0510;\n",
       "            color:  #f1f1f1;\n",
       "        }    #T_de45a580_f01a_11ea_90a6_ccb0da3466acrow7_col0 {\n",
       "            background-color:  #fc9576;\n",
       "            color:  #000000;\n",
       "        }    #T_de45a580_f01a_11ea_90a6_ccb0da3466acrow7_col1 {\n",
       "            background-color:  #d52221;\n",
       "            color:  #f1f1f1;\n",
       "        }    #T_de45a580_f01a_11ea_90a6_ccb0da3466acrow7_col2 {\n",
       "            background-color:  #fb7757;\n",
       "            color:  #000000;\n",
       "        }    #T_de45a580_f01a_11ea_90a6_ccb0da3466acrow7_col3 {\n",
       "            background-color:  #67000d;\n",
       "            color:  #f1f1f1;\n",
       "        }    #T_de45a580_f01a_11ea_90a6_ccb0da3466acrow7_col4 {\n",
       "            background-color:  #75030f;\n",
       "            color:  #f1f1f1;\n",
       "        }    #T_de45a580_f01a_11ea_90a6_ccb0da3466acrow8_col0 {\n",
       "            background-color:  #fff2ec;\n",
       "            color:  #000000;\n",
       "        }    #T_de45a580_f01a_11ea_90a6_ccb0da3466acrow8_col1 {\n",
       "            background-color:  #fedfd0;\n",
       "            color:  #000000;\n",
       "        }    #T_de45a580_f01a_11ea_90a6_ccb0da3466acrow8_col2 {\n",
       "            background-color:  #fee7dc;\n",
       "            color:  #000000;\n",
       "        }    #T_de45a580_f01a_11ea_90a6_ccb0da3466acrow8_col3 {\n",
       "            background-color:  #fcc1a8;\n",
       "            color:  #000000;\n",
       "        }    #T_de45a580_f01a_11ea_90a6_ccb0da3466acrow8_col4 {\n",
       "            background-color:  #fcaf93;\n",
       "            color:  #000000;\n",
       "        }    #T_de45a580_f01a_11ea_90a6_ccb0da3466acrow9_col0 {\n",
       "            background-color:  #fff5f0;\n",
       "            color:  #000000;\n",
       "        }    #T_de45a580_f01a_11ea_90a6_ccb0da3466acrow9_col1 {\n",
       "            background-color:  #fff5f0;\n",
       "            color:  #000000;\n",
       "        }    #T_de45a580_f01a_11ea_90a6_ccb0da3466acrow9_col2 {\n",
       "            background-color:  #fff5f0;\n",
       "            color:  #000000;\n",
       "        }    #T_de45a580_f01a_11ea_90a6_ccb0da3466acrow9_col3 {\n",
       "            background-color:  #fff5f0;\n",
       "            color:  #000000;\n",
       "        }    #T_de45a580_f01a_11ea_90a6_ccb0da3466acrow9_col4 {\n",
       "            background-color:  #fff5f0;\n",
       "            color:  #000000;\n",
       "        }</style><table id=\"T_de45a580_f01a_11ea_90a6_ccb0da3466ac\" ><thead>    <tr>        <th class=\"index_name level0\" >Department</th>        <th class=\"col_heading level0 col0\" >TB & Chest disease</th>        <th class=\"col_heading level0 col1\" >anesthesia</th>        <th class=\"col_heading level0 col2\" >gynecology</th>        <th class=\"col_heading level0 col3\" >radiotherapy</th>        <th class=\"col_heading level0 col4\" >surgery</th>    </tr>    <tr>        <th class=\"index_name level0\" >Age</th>        <th class=\"blank\" ></th>        <th class=\"blank\" ></th>        <th class=\"blank\" ></th>        <th class=\"blank\" ></th>        <th class=\"blank\" ></th>    </tr></thead><tbody>\n",
       "                <tr>\n",
       "                        <th id=\"T_de45a580_f01a_11ea_90a6_ccb0da3466aclevel0_row0\" class=\"row_heading level0 row0\" >0-10</th>\n",
       "                        <td id=\"T_de45a580_f01a_11ea_90a6_ccb0da3466acrow0_col0\" class=\"data row0 col0\" >387</td>\n",
       "                        <td id=\"T_de45a580_f01a_11ea_90a6_ccb0da3466acrow0_col1\" class=\"data row0 col1\" >464</td>\n",
       "                        <td id=\"T_de45a580_f01a_11ea_90a6_ccb0da3466acrow0_col2\" class=\"data row0 col2\" >4362</td>\n",
       "                        <td id=\"T_de45a580_f01a_11ea_90a6_ccb0da3466acrow0_col3\" class=\"data row0 col3\" >943</td>\n",
       "                        <td id=\"T_de45a580_f01a_11ea_90a6_ccb0da3466acrow0_col4\" class=\"data row0 col4\" >98</td>\n",
       "            </tr>\n",
       "            <tr>\n",
       "                        <th id=\"T_de45a580_f01a_11ea_90a6_ccb0da3466aclevel0_row1\" class=\"row_heading level0 row1\" >11-20</th>\n",
       "                        <td id=\"T_de45a580_f01a_11ea_90a6_ccb0da3466acrow1_col0\" class=\"data row1 col0\" >694</td>\n",
       "                        <td id=\"T_de45a580_f01a_11ea_90a6_ccb0da3466acrow1_col1\" class=\"data row1 col1\" >1315</td>\n",
       "                        <td id=\"T_de45a580_f01a_11ea_90a6_ccb0da3466acrow1_col2\" class=\"data row1 col2\" >13021</td>\n",
       "                        <td id=\"T_de45a580_f01a_11ea_90a6_ccb0da3466acrow1_col3\" class=\"data row1 col3\" >1694</td>\n",
       "                        <td id=\"T_de45a580_f01a_11ea_90a6_ccb0da3466acrow1_col4\" class=\"data row1 col4\" >44</td>\n",
       "            </tr>\n",
       "            <tr>\n",
       "                        <th id=\"T_de45a580_f01a_11ea_90a6_ccb0da3466aclevel0_row2\" class=\"row_heading level0 row2\" >21-30</th>\n",
       "                        <td id=\"T_de45a580_f01a_11ea_90a6_ccb0da3466acrow2_col0\" class=\"data row2 col0\" >1237</td>\n",
       "                        <td id=\"T_de45a580_f01a_11ea_90a6_ccb0da3466acrow2_col1\" class=\"data row2 col1\" >3320</td>\n",
       "                        <td id=\"T_de45a580_f01a_11ea_90a6_ccb0da3466acrow2_col2\" class=\"data row2 col2\" >33437</td>\n",
       "                        <td id=\"T_de45a580_f01a_11ea_90a6_ccb0da3466acrow2_col3\" class=\"data row2 col3\" >2771</td>\n",
       "                        <td id=\"T_de45a580_f01a_11ea_90a6_ccb0da3466acrow2_col4\" class=\"data row2 col4\" >78</td>\n",
       "            </tr>\n",
       "            <tr>\n",
       "                        <th id=\"T_de45a580_f01a_11ea_90a6_ccb0da3466aclevel0_row3\" class=\"row_heading level0 row3\" >31-40</th>\n",
       "                        <td id=\"T_de45a580_f01a_11ea_90a6_ccb0da3466acrow3_col0\" class=\"data row3 col0\" >1563</td>\n",
       "                        <td id=\"T_de45a580_f01a_11ea_90a6_ccb0da3466acrow3_col1\" class=\"data row3 col1\" >5030</td>\n",
       "                        <td id=\"T_de45a580_f01a_11ea_90a6_ccb0da3466acrow3_col2\" class=\"data row3 col2\" >53296</td>\n",
       "                        <td id=\"T_de45a580_f01a_11ea_90a6_ccb0da3466acrow3_col3\" class=\"data row3 col3\" >3626</td>\n",
       "                        <td id=\"T_de45a580_f01a_11ea_90a6_ccb0da3466acrow3_col4\" class=\"data row3 col4\" >124</td>\n",
       "            </tr>\n",
       "            <tr>\n",
       "                        <th id=\"T_de45a580_f01a_11ea_90a6_ccb0da3466aclevel0_row4\" class=\"row_heading level0 row4\" >41-50</th>\n",
       "                        <td id=\"T_de45a580_f01a_11ea_90a6_ccb0da3466acrow4_col0\" class=\"data row4 col0\" >1717</td>\n",
       "                        <td id=\"T_de45a580_f01a_11ea_90a6_ccb0da3466acrow4_col1\" class=\"data row4 col1\" >5608</td>\n",
       "                        <td id=\"T_de45a580_f01a_11ea_90a6_ccb0da3466acrow4_col2\" class=\"data row4 col2\" >52212</td>\n",
       "                        <td id=\"T_de45a580_f01a_11ea_90a6_ccb0da3466acrow4_col3\" class=\"data row4 col3\" >4031</td>\n",
       "                        <td id=\"T_de45a580_f01a_11ea_90a6_ccb0da3466acrow4_col4\" class=\"data row4 col4\" >181</td>\n",
       "            </tr>\n",
       "            <tr>\n",
       "                        <th id=\"T_de45a580_f01a_11ea_90a6_ccb0da3466aclevel0_row5\" class=\"row_heading level0 row5\" >51-60</th>\n",
       "                        <td id=\"T_de45a580_f01a_11ea_90a6_ccb0da3466acrow5_col0\" class=\"data row5 col0\" >1858</td>\n",
       "                        <td id=\"T_de45a580_f01a_11ea_90a6_ccb0da3466acrow5_col1\" class=\"data row5 col1\" >4875</td>\n",
       "                        <td id=\"T_de45a580_f01a_11ea_90a6_ccb0da3466acrow5_col2\" class=\"data row5 col2\" >37798</td>\n",
       "                        <td id=\"T_de45a580_f01a_11ea_90a6_ccb0da3466acrow5_col3\" class=\"data row5 col3\" >3779</td>\n",
       "                        <td id=\"T_de45a580_f01a_11ea_90a6_ccb0da3466acrow5_col4\" class=\"data row5 col4\" >204</td>\n",
       "            </tr>\n",
       "            <tr>\n",
       "                        <th id=\"T_de45a580_f01a_11ea_90a6_ccb0da3466aclevel0_row6\" class=\"row_heading level0 row6\" >61-70</th>\n",
       "                        <td id=\"T_de45a580_f01a_11ea_90a6_ccb0da3466acrow6_col0\" class=\"data row6 col0\" >1308</td>\n",
       "                        <td id=\"T_de45a580_f01a_11ea_90a6_ccb0da3466acrow6_col1\" class=\"data row6 col1\" >3860</td>\n",
       "                        <td id=\"T_de45a580_f01a_11ea_90a6_ccb0da3466acrow6_col2\" class=\"data row6 col2\" >24460</td>\n",
       "                        <td id=\"T_de45a580_f01a_11ea_90a6_ccb0da3466acrow6_col3\" class=\"data row6 col3\" >3864</td>\n",
       "                        <td id=\"T_de45a580_f01a_11ea_90a6_ccb0da3466acrow6_col4\" class=\"data row6 col4\" >195</td>\n",
       "            </tr>\n",
       "            <tr>\n",
       "                        <th id=\"T_de45a580_f01a_11ea_90a6_ccb0da3466aclevel0_row7\" class=\"row_heading level0 row7\" >71-80</th>\n",
       "                        <td id=\"T_de45a580_f01a_11ea_90a6_ccb0da3466acrow7_col0\" class=\"data row7 col0\" >704</td>\n",
       "                        <td id=\"T_de45a580_f01a_11ea_90a6_ccb0da3466acrow7_col1\" class=\"data row7 col1\" >4062</td>\n",
       "                        <td id=\"T_de45a580_f01a_11ea_90a6_ccb0da3466acrow7_col2\" class=\"data row7 col2\" >24925</td>\n",
       "                        <td id=\"T_de45a580_f01a_11ea_90a6_ccb0da3466acrow7_col3\" class=\"data row7 col3\" >5903</td>\n",
       "                        <td id=\"T_de45a580_f01a_11ea_90a6_ccb0da3466acrow7_col4\" class=\"data row7 col4\" >198</td>\n",
       "            </tr>\n",
       "            <tr>\n",
       "                        <th id=\"T_de45a580_f01a_11ea_90a6_ccb0da3466aclevel0_row8\" class=\"row_heading level0 row8\" >81-90</th>\n",
       "                        <td id=\"T_de45a580_f01a_11ea_90a6_ccb0da3466acrow8_col0\" class=\"data row8 col0\" >76</td>\n",
       "                        <td id=\"T_de45a580_f01a_11ea_90a6_ccb0da3466acrow8_col1\" class=\"data row8 col1\" >913</td>\n",
       "                        <td id=\"T_de45a580_f01a_11ea_90a6_ccb0da3466acrow8_col2\" class=\"data row8 col2\" >5236</td>\n",
       "                        <td id=\"T_de45a580_f01a_11ea_90a6_ccb0da3466acrow8_col3\" class=\"data row8 col3\" >1598</td>\n",
       "                        <td id=\"T_de45a580_f01a_11ea_90a6_ccb0da3466acrow8_col4\" class=\"data row8 col4\" >67</td>\n",
       "            </tr>\n",
       "            <tr>\n",
       "                        <th id=\"T_de45a580_f01a_11ea_90a6_ccb0da3466aclevel0_row9\" class=\"row_heading level0 row9\" >91-100</th>\n",
       "                        <td id=\"T_de45a580_f01a_11ea_90a6_ccb0da3466acrow9_col0\" class=\"data row9 col0\" >42</td>\n",
       "                        <td id=\"T_de45a580_f01a_11ea_90a6_ccb0da3466acrow9_col1\" class=\"data row9 col1\" >202</td>\n",
       "                        <td id=\"T_de45a580_f01a_11ea_90a6_ccb0da3466acrow9_col2\" class=\"data row9 col2\" >739</td>\n",
       "                        <td id=\"T_de45a580_f01a_11ea_90a6_ccb0da3466acrow9_col3\" class=\"data row9 col3\" >307</td>\n",
       "                        <td id=\"T_de45a580_f01a_11ea_90a6_ccb0da3466acrow9_col4\" class=\"data row9 col4\" >12</td>\n",
       "            </tr>\n",
       "    </tbody></table>"
      ],
      "text/plain": [
       "<pandas.io.formats.style.Styler at 0x1e3a8d9ff08>"
      ]
     },
     "execution_count": 1268,
     "metadata": {},
     "output_type": "execute_result"
    }
   ],
   "source": [
    "df = pd.crosstab(index=train['Age'],columns=train['Department'])\n",
    "df.style.background_gradient(cmap='Reds')"
   ]
  },
  {
   "cell_type": "markdown",
   "metadata": {},
   "source": [
    "1. We can see that majority of patients admitted to Gynecology departmentare aged between 30 and 50.\n",
    "2. There are very few people admitted to Surgery department. \n",
    "3. We can see that majority of patients admitted between ages 0-10 are in Gynecology department (which is kind of strange, may be they are new borns?)."
   ]
  },
  {
   "cell_type": "code",
   "execution_count": 1269,
   "metadata": {},
   "outputs": [
    {
     "data": {
      "text/html": [
       "<div>\n",
       "<style scoped>\n",
       "    .dataframe tbody tr th:only-of-type {\n",
       "        vertical-align: middle;\n",
       "    }\n",
       "\n",
       "    .dataframe tbody tr th {\n",
       "        vertical-align: top;\n",
       "    }\n",
       "\n",
       "    .dataframe thead th {\n",
       "        text-align: right;\n",
       "    }\n",
       "</style>\n",
       "<table border=\"1\" class=\"dataframe\">\n",
       "  <thead>\n",
       "    <tr style=\"text-align: right;\">\n",
       "      <th></th>\n",
       "      <th>count</th>\n",
       "      <th>min</th>\n",
       "      <th>max</th>\n",
       "      <th>mean</th>\n",
       "      <th>median</th>\n",
       "    </tr>\n",
       "    <tr>\n",
       "      <th>Department</th>\n",
       "      <th></th>\n",
       "      <th></th>\n",
       "      <th></th>\n",
       "      <th></th>\n",
       "      <th></th>\n",
       "    </tr>\n",
       "  </thead>\n",
       "  <tbody>\n",
       "    <tr>\n",
       "      <th>TB &amp; Chest disease</th>\n",
       "      <td>9586</td>\n",
       "      <td>1848.0</td>\n",
       "      <td>11008.0</td>\n",
       "      <td>5144.285645</td>\n",
       "      <td>4985.0</td>\n",
       "    </tr>\n",
       "    <tr>\n",
       "      <th>anesthesia</th>\n",
       "      <td>29649</td>\n",
       "      <td>1800.0</td>\n",
       "      <td>10999.0</td>\n",
       "      <td>5297.121582</td>\n",
       "      <td>5115.0</td>\n",
       "    </tr>\n",
       "    <tr>\n",
       "      <th>gynecology</th>\n",
       "      <td>249486</td>\n",
       "      <td>1801.0</td>\n",
       "      <td>11008.0</td>\n",
       "      <td>4814.569336</td>\n",
       "      <td>4689.0</td>\n",
       "    </tr>\n",
       "    <tr>\n",
       "      <th>radiotherapy</th>\n",
       "      <td>28516</td>\n",
       "      <td>1816.0</td>\n",
       "      <td>11008.0</td>\n",
       "      <td>4935.689453</td>\n",
       "      <td>4807.0</td>\n",
       "    </tr>\n",
       "    <tr>\n",
       "      <th>surgery</th>\n",
       "      <td>1201</td>\n",
       "      <td>2005.0</td>\n",
       "      <td>10670.0</td>\n",
       "      <td>4941.565430</td>\n",
       "      <td>4749.0</td>\n",
       "    </tr>\n",
       "  </tbody>\n",
       "</table>\n",
       "</div>"
      ],
      "text/plain": [
       "                     count     min      max         mean  median\n",
       "Department                                                      \n",
       "TB & Chest disease    9586  1848.0  11008.0  5144.285645  4985.0\n",
       "anesthesia           29649  1800.0  10999.0  5297.121582  5115.0\n",
       "gynecology          249486  1801.0  11008.0  4814.569336  4689.0\n",
       "radiotherapy         28516  1816.0  11008.0  4935.689453  4807.0\n",
       "surgery               1201  2005.0  10670.0  4941.565430  4749.0"
      ]
     },
     "execution_count": 1269,
     "metadata": {},
     "output_type": "execute_result"
    }
   ],
   "source": [
    "train.groupby(\"Department\")['Deposit'].agg(['count','min','max','mean','median'])\n",
    "# We can see higher mean deposit amount for TB and Anesthesia departments, although the count is low.\n",
    "# Mean deposit amount is the least for Gynecology department. "
   ]
  },
  {
   "cell_type": "code",
   "execution_count": 1270,
   "metadata": {},
   "outputs": [
    {
     "data": {
      "text/html": [
       "<div>\n",
       "<style scoped>\n",
       "    .dataframe tbody tr th:only-of-type {\n",
       "        vertical-align: middle;\n",
       "    }\n",
       "\n",
       "    .dataframe tbody tr th {\n",
       "        vertical-align: top;\n",
       "    }\n",
       "\n",
       "    .dataframe thead th {\n",
       "        text-align: right;\n",
       "    }\n",
       "</style>\n",
       "<table border=\"1\" class=\"dataframe\">\n",
       "  <thead>\n",
       "    <tr style=\"text-align: right;\">\n",
       "      <th></th>\n",
       "      <th>count</th>\n",
       "      <th>min</th>\n",
       "      <th>max</th>\n",
       "      <th>mean</th>\n",
       "      <th>median</th>\n",
       "    </tr>\n",
       "    <tr>\n",
       "      <th>Ward</th>\n",
       "      <th></th>\n",
       "      <th></th>\n",
       "      <th></th>\n",
       "      <th></th>\n",
       "      <th></th>\n",
       "    </tr>\n",
       "  </thead>\n",
       "  <tbody>\n",
       "    <tr>\n",
       "      <th>P</th>\n",
       "      <td>5046</td>\n",
       "      <td>1801.0</td>\n",
       "      <td>10553.0</td>\n",
       "      <td>4733.466797</td>\n",
       "      <td>4557.5</td>\n",
       "    </tr>\n",
       "    <tr>\n",
       "      <th>Q</th>\n",
       "      <td>106165</td>\n",
       "      <td>1802.0</td>\n",
       "      <td>11008.0</td>\n",
       "      <td>4785.998047</td>\n",
       "      <td>4638.0</td>\n",
       "    </tr>\n",
       "    <tr>\n",
       "      <th>R</th>\n",
       "      <td>127947</td>\n",
       "      <td>1800.0</td>\n",
       "      <td>11008.0</td>\n",
       "      <td>4942.327637</td>\n",
       "      <td>4810.0</td>\n",
       "    </tr>\n",
       "    <tr>\n",
       "      <th>S</th>\n",
       "      <td>77794</td>\n",
       "      <td>1811.0</td>\n",
       "      <td>11008.0</td>\n",
       "      <td>4922.343262</td>\n",
       "      <td>4784.0</td>\n",
       "    </tr>\n",
       "    <tr>\n",
       "      <th>T</th>\n",
       "      <td>1477</td>\n",
       "      <td>1934.0</td>\n",
       "      <td>9994.0</td>\n",
       "      <td>4672.391113</td>\n",
       "      <td>4581.0</td>\n",
       "    </tr>\n",
       "    <tr>\n",
       "      <th>U</th>\n",
       "      <td>9</td>\n",
       "      <td>3420.0</td>\n",
       "      <td>5171.0</td>\n",
       "      <td>4404.888672</td>\n",
       "      <td>4399.0</td>\n",
       "    </tr>\n",
       "  </tbody>\n",
       "</table>\n",
       "</div>"
      ],
      "text/plain": [
       "       count     min      max         mean  median\n",
       "Ward                                              \n",
       "P       5046  1801.0  10553.0  4733.466797  4557.5\n",
       "Q     106165  1802.0  11008.0  4785.998047  4638.0\n",
       "R     127947  1800.0  11008.0  4942.327637  4810.0\n",
       "S      77794  1811.0  11008.0  4922.343262  4784.0\n",
       "T       1477  1934.0   9994.0  4672.391113  4581.0\n",
       "U          9  3420.0   5171.0  4404.888672  4399.0"
      ]
     },
     "execution_count": 1270,
     "metadata": {},
     "output_type": "execute_result"
    }
   ],
   "source": [
    "train.groupby(\"Ward\")['Deposit'].agg(['count','min','max','mean','median'])\n",
    "# we can see the mean deposit amount for all the wards is approximately same , except for Ward U."
   ]
  },
  {
   "cell_type": "code",
   "execution_count": 1271,
   "metadata": {},
   "outputs": [
    {
     "data": {
      "text/html": [
       "<div>\n",
       "<style scoped>\n",
       "    .dataframe tbody tr th:only-of-type {\n",
       "        vertical-align: middle;\n",
       "    }\n",
       "\n",
       "    .dataframe tbody tr th {\n",
       "        vertical-align: top;\n",
       "    }\n",
       "\n",
       "    .dataframe thead th {\n",
       "        text-align: right;\n",
       "    }\n",
       "</style>\n",
       "<table border=\"1\" class=\"dataframe\">\n",
       "  <thead>\n",
       "    <tr style=\"text-align: right;\">\n",
       "      <th></th>\n",
       "      <th>count</th>\n",
       "      <th>min</th>\n",
       "      <th>max</th>\n",
       "      <th>mean</th>\n",
       "      <th>median</th>\n",
       "    </tr>\n",
       "    <tr>\n",
       "      <th>Admission_Type</th>\n",
       "      <th></th>\n",
       "      <th></th>\n",
       "      <th></th>\n",
       "      <th></th>\n",
       "      <th></th>\n",
       "    </tr>\n",
       "  </thead>\n",
       "  <tbody>\n",
       "    <tr>\n",
       "      <th>Emergency</th>\n",
       "      <td>117676</td>\n",
       "      <td>1800.0</td>\n",
       "      <td>10785.0</td>\n",
       "      <td>4768.320801</td>\n",
       "      <td>4649.0</td>\n",
       "    </tr>\n",
       "    <tr>\n",
       "      <th>Trauma</th>\n",
       "      <td>152261</td>\n",
       "      <td>1801.0</td>\n",
       "      <td>11008.0</td>\n",
       "      <td>4986.646484</td>\n",
       "      <td>4834.0</td>\n",
       "    </tr>\n",
       "    <tr>\n",
       "      <th>Urgent</th>\n",
       "      <td>48501</td>\n",
       "      <td>1809.0</td>\n",
       "      <td>11008.0</td>\n",
       "      <td>4821.084473</td>\n",
       "      <td>4655.0</td>\n",
       "    </tr>\n",
       "  </tbody>\n",
       "</table>\n",
       "</div>"
      ],
      "text/plain": [
       "                 count     min      max         mean  median\n",
       "Admission_Type                                              \n",
       "Emergency       117676  1800.0  10785.0  4768.320801  4649.0\n",
       "Trauma          152261  1801.0  11008.0  4986.646484  4834.0\n",
       "Urgent           48501  1809.0  11008.0  4821.084473  4655.0"
      ]
     },
     "execution_count": 1271,
     "metadata": {},
     "output_type": "execute_result"
    }
   ],
   "source": [
    "train.groupby(\"Admission_Type\")['Deposit'].agg(['count','min','max','mean','median'])\n",
    "# The mean deposit amount is highest for Trauma admission type."
   ]
  },
  {
   "cell_type": "code",
   "execution_count": 1272,
   "metadata": {},
   "outputs": [
    {
     "data": {
      "text/html": [
       "<div>\n",
       "<style scoped>\n",
       "    .dataframe tbody tr th:only-of-type {\n",
       "        vertical-align: middle;\n",
       "    }\n",
       "\n",
       "    .dataframe tbody tr th {\n",
       "        vertical-align: top;\n",
       "    }\n",
       "\n",
       "    .dataframe thead th {\n",
       "        text-align: right;\n",
       "    }\n",
       "</style>\n",
       "<table border=\"1\" class=\"dataframe\">\n",
       "  <thead>\n",
       "    <tr style=\"text-align: right;\">\n",
       "      <th></th>\n",
       "      <th>count</th>\n",
       "      <th>min</th>\n",
       "      <th>max</th>\n",
       "      <th>mean</th>\n",
       "      <th>median</th>\n",
       "    </tr>\n",
       "    <tr>\n",
       "      <th>Severity</th>\n",
       "      <th></th>\n",
       "      <th></th>\n",
       "      <th></th>\n",
       "      <th></th>\n",
       "      <th></th>\n",
       "    </tr>\n",
       "  </thead>\n",
       "  <tbody>\n",
       "    <tr>\n",
       "      <th>Extreme</th>\n",
       "      <td>56723</td>\n",
       "      <td>1800.0</td>\n",
       "      <td>11008.0</td>\n",
       "      <td>4747.688477</td>\n",
       "      <td>4614.0</td>\n",
       "    </tr>\n",
       "    <tr>\n",
       "      <th>Minor</th>\n",
       "      <td>85872</td>\n",
       "      <td>1810.0</td>\n",
       "      <td>10841.0</td>\n",
       "      <td>4982.241211</td>\n",
       "      <td>4845.0</td>\n",
       "    </tr>\n",
       "    <tr>\n",
       "      <th>Moderate</th>\n",
       "      <td>175843</td>\n",
       "      <td>1801.0</td>\n",
       "      <td>11008.0</td>\n",
       "      <td>4874.108887</td>\n",
       "      <td>4728.0</td>\n",
       "    </tr>\n",
       "  </tbody>\n",
       "</table>\n",
       "</div>"
      ],
      "text/plain": [
       "           count     min      max         mean  median\n",
       "Severity                                              \n",
       "Extreme    56723  1800.0  11008.0  4747.688477  4614.0\n",
       "Minor      85872  1810.0  10841.0  4982.241211  4845.0\n",
       "Moderate  175843  1801.0  11008.0  4874.108887  4728.0"
      ]
     },
     "execution_count": 1272,
     "metadata": {},
     "output_type": "execute_result"
    }
   ],
   "source": [
    "train.groupby(\"Severity\")['Deposit'].agg(['count','min','max','mean','median'])\n",
    "# The average deposit amount is highest for Minor severity patients  which is kind of strange. "
   ]
  },
  {
   "cell_type": "markdown",
   "metadata": {},
   "source": [
    "#### Missing Value Treatment and Feature Engineering"
   ]
  },
  {
   "cell_type": "code",
   "execution_count": 1273,
   "metadata": {},
   "outputs": [],
   "source": [
    "# Generating additional features\n",
    "hospitals_visited_count_train = train.groupby('patientid')['Hospital_code'].nunique().to_dict()\n",
    "train['hospitals_visited_by_patient'] = train['patientid'].map(hospitals_visited_count_train)\n",
    "hospitals_visited_count_test = test.groupby('patientid')['Hospital_code'].nunique().to_dict()\n",
    "test['hospitals_visited_by_patient'] = test['patientid'].map(hospitals_visited_count_test)\n",
    "\n",
    "\n",
    "patient_admitted_count_train = train['patientid'].value_counts().to_dict()\n",
    "train['patient_count'] = train['patientid'].map(patient_admitted_count_train)\n",
    "patient_admitted_count_test = test['patientid'].value_counts().to_dict()\n",
    "test['patient_count'] = test['patientid'].map(patient_admitted_count_test)\n",
    "\n",
    "\n",
    "no_departments_visited_by_a_patient_train = train.groupby('patientid')['Department'].nunique().to_dict()\n",
    "train['departments_visited'] = train['patientid'].map(no_departments_visited_by_a_patient_train)\n",
    "no_departments_visited_by_a_patient_test = test.groupby('patientid')['Department'].nunique().to_dict()\n",
    "test['departments_visited'] = test['patientid'].map(no_departments_visited_by_a_patient_test)\n",
    "\n",
    "\n",
    "types_of_hospitals_visited_by_a_patient_train = train.groupby('patientid')['Hospital_type'].nunique().to_dict()\n",
    "train['hospital_types_visited'] = train['patientid'].map(types_of_hospitals_visited_by_a_patient_train)\n",
    "types_of_hospitals_visited_by_a_patient_test = test.groupby('patientid')['Hospital_type'].nunique().to_dict()\n",
    "test['hospital_types_visited'] = test['patientid'].map(types_of_hospitals_visited_by_a_patient_test)\n",
    "\n",
    "\n",
    "hospital_regions_visited_by_a_patient_train = train.groupby('patientid')['Hospital_region'].nunique().to_dict()\n",
    "train['hospital_regions_visited'] = train['patientid'].map(hospital_regions_visited_by_a_patient_train)\n",
    "hospital_regions_visited_by_a_patient_test = test.groupby('patientid')['Hospital_region'].nunique().to_dict()\n",
    "test['hospital_regions_visited'] = test['patientid'].map(hospital_regions_visited_by_a_patient_test)\n",
    "\n",
    "\n",
    "admission_types_train = train.groupby('patientid')['Admission_Type'].nunique().to_dict()\n",
    "train['no_of_admission_types'] = train['patientid'].map(admission_types_train)\n",
    "admission_types_test = test.groupby('patientid')['Admission_Type'].nunique().to_dict()\n",
    "test['no_of_admission_types'] = test['patientid'].map(admission_types_test)\n",
    "\n",
    "\n",
    "city_codes_visited_by_a_patient_train = train.groupby('patientid')['City_Code_Hospital'].nunique().to_dict()\n",
    "train['city_codes_visited'] = train['patientid'].map(city_codes_visited_by_a_patient_train)\n",
    "city_codes_visited_by_a_patient_test = test.groupby('patientid')['City_Code_Hospital'].nunique().to_dict()\n",
    "test['city_codes_visited'] = test['patientid'].map(city_codes_visited_by_a_patient_test)\n",
    "\n",
    "\n",
    "# creating an indicator variable to indicate if there is a change in the department admitted to for a patient\n",
    "def change_in_department(x):\n",
    "    if x > 1:\n",
    "        return True\n",
    "    else:\n",
    "        return False\n",
    "train['Change_In_Department'] = train['departments_visited'].apply(change_in_department)\n",
    "test['Change_In_Department'] = test['departments_visited'].apply(change_in_department)"
   ]
  },
  {
   "cell_type": "code",
   "execution_count": 1274,
   "metadata": {},
   "outputs": [
    {
     "data": {
      "text/plain": [
       "\"unique_wards_by_hospital_code_train = train.groupby('Hospital_code')['Ward'].nunique().to_dict()\\ntrain['unique_wards_by_hospital_code'] = train['Hospital_code'].map(unique_wards_by_hospital_code_train)\\nunique_wards_by_hospital_code_test = test.groupby('Hospital_code')['Ward'].nunique().to_dict()\\ntest['unique_wards_by_hospital_code'] = test['Hospital_code'].map(unique_wards_by_hospital_code_test)\""
      ]
     },
     "execution_count": 1274,
     "metadata": {},
     "output_type": "execute_result"
    }
   ],
   "source": [
    "agg_func = {\n",
    "    'Deposit': ['mean','std','sum','median']    \n",
    "}\n",
    "agg_func = train.groupby('Hospital_code').agg(agg_func)\n",
    "agg_func.columns = [ 'Hospital_code_' + ('_'.join(col).strip()) for col in agg_func.columns.values]\n",
    "agg_func.reset_index(inplace=True)\n",
    "train = train.merge(agg_func, on=['Hospital_code'], how='left')\n",
    "\n",
    "\n",
    "agg_func = {\n",
    "    'Deposit': ['mean','std','sum','median']    \n",
    "}\n",
    "agg_func = test.groupby('Hospital_code').agg(agg_func)\n",
    "agg_func.columns = [ 'Hospital_code_' + ('_'.join(col).strip()) for col in agg_func.columns.values]\n",
    "agg_func.reset_index(inplace=True)\n",
    "test = test.merge(agg_func, on=['Hospital_code'], how='left')\n",
    "\n",
    "\n",
    "unique_patients_by_hospital_code_train = train.groupby('Hospital_code')['patientid'].nunique().to_dict()\n",
    "train['unique_patients_by_hospital_code'] = train['Hospital_code'].map(unique_patients_by_hospital_code_train)\n",
    "unique_patients_by_hospital_code_test = test.groupby('Hospital_code')['patientid'].nunique().to_dict()\n",
    "test['unique_patients_by_hospital_code'] = test['Hospital_code'].map(unique_patients_by_hospital_code_test)\n",
    "\n",
    "scaler = MinMaxScaler()\n",
    "for df in [train,test]:\n",
    "    df[['Visitors']] = scaler.fit_transform(df[['Visitors']])\n",
    "    df[['unique_patients_by_hospital_code']] = scaler.fit_transform(df[['unique_patients_by_hospital_code']])\n",
    "    df[['Hospital_code_Deposit_median']] = scaler.fit_transform(df[['Hospital_code_Deposit_median']])\n",
    "    df[['Hospital_code_Deposit_mean']] = scaler.fit_transform(df[['Hospital_code_Deposit_mean']])\n",
    "    df[['Hospital_code_Deposit_std']] = scaler.fit_transform(df[['Hospital_code_Deposit_std']])\n",
    "    df[['Hospital_code_Deposit_sum']] = scaler.fit_transform(df[['Hospital_code_Deposit_sum']])\n",
    "\n",
    "\"\"\"unique_wards_by_hospital_code_train = train.groupby('Hospital_code')['Ward'].nunique().to_dict()\n",
    "train['unique_wards_by_hospital_code'] = train['Hospital_code'].map(unique_wards_by_hospital_code_train)\n",
    "unique_wards_by_hospital_code_test = test.groupby('Hospital_code')['Ward'].nunique().to_dict()\n",
    "test['unique_wards_by_hospital_code'] = test['Hospital_code'].map(unique_wards_by_hospital_code_test)\"\"\""
   ]
  },
  {
   "cell_type": "code",
   "execution_count": 1275,
   "metadata": {},
   "outputs": [],
   "source": [
    "# creating interaction features\n",
    "for df in [train,test]:\n",
    "    df['Dep_Adm'] = df['Department']+\"_\"+df['Admission_Type']\n",
    "    df['Dep_Sev'] = df['Department']+\"_\"+df['Severity']\n",
    "    df['Adm_Sev'] = df['Admission_Type']+\"_\"+df['Severity']"
   ]
  },
  {
   "cell_type": "code",
   "execution_count": 1276,
   "metadata": {},
   "outputs": [],
   "source": [
    "# Filling missing values with 0 and feature engineering\n",
    "for df in [train,test]:\n",
    "    df['Bed_Grade'].fillna(df['Bed_Grade'].value_counts().index[0],inplace=True)\n",
    "    df['Bed_Grade'] = df['Bed_Grade'].astype(\"uint8\")\n",
    "    df['City_Code_Patient'].fillna(df['City_Code_Patient'].value_counts().index[0],inplace=True)\n",
    "    df['City_Code_Patient'] = df['City_Code_Patient'].astype(\"uint8\")\n",
    "    \n",
    "    # dropping the patientid variable\n",
    "    df.drop(\"patientid\",axis=1,inplace=True)\n",
    "    \n",
    "    # normalizing the deposit amount feature\n",
    "    df['Deposit'] = np.log1p(df['Deposit'])\n",
    "    df['Deposit'] = df['Deposit'].astype(\"float16\")"
   ]
  },
  {
   "cell_type": "code",
   "execution_count": 1277,
   "metadata": {},
   "outputs": [],
   "source": [
    "# Replacing the categories in the target variable.\n",
    "train['Stay'].replace({\"0-10\":1,\"11-20\":2,\"21-30\":3,\"31-40\":4,\"41-50\":5,\"51-60\":6,\"61-70\":7,\"71-80\":8,\"81-90\":9,\"91-100\":10,\"More than 100 Days\":11},inplace=True)\n",
    "train['Stay'] = train['Stay'].astype('uint8')"
   ]
  },
  {
   "cell_type": "code",
   "execution_count": 1278,
   "metadata": {},
   "outputs": [],
   "source": [
    "# label encoding the numerical variables that are categorical in nature.\n",
    "le = LabelEncoder()\n",
    "cat_cols = ['Hospital_code','Hospital_type','City_Code_Hospital','Hospital_region','Extra_Rooms','Department','Ward',\n",
    "            'Ward_Facility','Bed_Grade','City_Code_Patient','Admission_Type','Severity','Age','Dep_Adm','Dep_Sev','Adm_Sev']\n",
    "for col in cat_cols:\n",
    "    train[col] = le.fit_transform(train[col])\n",
    "    test[col] = le.fit_transform(test[col])"
   ]
  },
  {
   "cell_type": "code",
   "execution_count": 1279,
   "metadata": {},
   "outputs": [
    {
     "data": {
      "text/html": [
       "<div>\n",
       "<style scoped>\n",
       "    .dataframe tbody tr th:only-of-type {\n",
       "        vertical-align: middle;\n",
       "    }\n",
       "\n",
       "    .dataframe tbody tr th {\n",
       "        vertical-align: top;\n",
       "    }\n",
       "\n",
       "    .dataframe thead th {\n",
       "        text-align: right;\n",
       "    }\n",
       "</style>\n",
       "<table border=\"1\" class=\"dataframe\">\n",
       "  <thead>\n",
       "    <tr style=\"text-align: right;\">\n",
       "      <th></th>\n",
       "      <th>Hospital_code</th>\n",
       "      <th>Hospital_type</th>\n",
       "      <th>City_Code_Hospital</th>\n",
       "      <th>Hospital_region</th>\n",
       "      <th>Extra_Rooms</th>\n",
       "      <th>Department</th>\n",
       "      <th>Ward</th>\n",
       "      <th>Ward_Facility</th>\n",
       "      <th>Bed_Grade</th>\n",
       "      <th>City_Code_Patient</th>\n",
       "      <th>Admission_Type</th>\n",
       "      <th>Severity</th>\n",
       "      <th>Visitors</th>\n",
       "      <th>Age</th>\n",
       "      <th>Deposit</th>\n",
       "      <th>Stay</th>\n",
       "      <th>hospitals_visited_by_patient</th>\n",
       "      <th>patient_count</th>\n",
       "      <th>departments_visited</th>\n",
       "      <th>hospital_types_visited</th>\n",
       "      <th>hospital_regions_visited</th>\n",
       "      <th>no_of_admission_types</th>\n",
       "      <th>city_codes_visited</th>\n",
       "      <th>Change_In_Department</th>\n",
       "      <th>Hospital_code_Deposit_mean</th>\n",
       "      <th>Hospital_code_Deposit_std</th>\n",
       "      <th>Hospital_code_Deposit_sum</th>\n",
       "      <th>Hospital_code_Deposit_median</th>\n",
       "      <th>unique_patients_by_hospital_code</th>\n",
       "      <th>Dep_Adm</th>\n",
       "      <th>Dep_Sev</th>\n",
       "      <th>Adm_Sev</th>\n",
       "    </tr>\n",
       "  </thead>\n",
       "  <tbody>\n",
       "    <tr>\n",
       "      <th>0</th>\n",
       "      <td>7</td>\n",
       "      <td>2</td>\n",
       "      <td>2</td>\n",
       "      <td>2</td>\n",
       "      <td>3</td>\n",
       "      <td>3</td>\n",
       "      <td>2</td>\n",
       "      <td>5</td>\n",
       "      <td>1</td>\n",
       "      <td>6</td>\n",
       "      <td>0</td>\n",
       "      <td>0</td>\n",
       "      <td>0.0625</td>\n",
       "      <td>5</td>\n",
       "      <td>8.500000</td>\n",
       "      <td>1</td>\n",
       "      <td>10</td>\n",
       "      <td>14</td>\n",
       "      <td>3</td>\n",
       "      <td>7</td>\n",
       "      <td>3</td>\n",
       "      <td>3</td>\n",
       "      <td>7</td>\n",
       "      <td>True</td>\n",
       "      <td>0.395032</td>\n",
       "      <td>0.203087</td>\n",
       "      <td>0.072530</td>\n",
       "      <td>0.426070</td>\n",
       "      <td>0.096110</td>\n",
       "      <td>9</td>\n",
       "      <td>9</td>\n",
       "      <td>0</td>\n",
       "    </tr>\n",
       "    <tr>\n",
       "      <th>1</th>\n",
       "      <td>1</td>\n",
       "      <td>2</td>\n",
       "      <td>4</td>\n",
       "      <td>2</td>\n",
       "      <td>2</td>\n",
       "      <td>3</td>\n",
       "      <td>3</td>\n",
       "      <td>5</td>\n",
       "      <td>1</td>\n",
       "      <td>6</td>\n",
       "      <td>1</td>\n",
       "      <td>0</td>\n",
       "      <td>0.0625</td>\n",
       "      <td>5</td>\n",
       "      <td>8.695312</td>\n",
       "      <td>5</td>\n",
       "      <td>10</td>\n",
       "      <td>14</td>\n",
       "      <td>3</td>\n",
       "      <td>7</td>\n",
       "      <td>3</td>\n",
       "      <td>3</td>\n",
       "      <td>7</td>\n",
       "      <td>True</td>\n",
       "      <td>0.454953</td>\n",
       "      <td>0.400267</td>\n",
       "      <td>0.120476</td>\n",
       "      <td>0.417315</td>\n",
       "      <td>0.126614</td>\n",
       "      <td>10</td>\n",
       "      <td>9</td>\n",
       "      <td>3</td>\n",
       "    </tr>\n",
       "    <tr>\n",
       "      <th>2</th>\n",
       "      <td>9</td>\n",
       "      <td>4</td>\n",
       "      <td>0</td>\n",
       "      <td>0</td>\n",
       "      <td>2</td>\n",
       "      <td>1</td>\n",
       "      <td>3</td>\n",
       "      <td>4</td>\n",
       "      <td>1</td>\n",
       "      <td>6</td>\n",
       "      <td>1</td>\n",
       "      <td>0</td>\n",
       "      <td>0.0625</td>\n",
       "      <td>5</td>\n",
       "      <td>8.468750</td>\n",
       "      <td>4</td>\n",
       "      <td>10</td>\n",
       "      <td>14</td>\n",
       "      <td>3</td>\n",
       "      <td>7</td>\n",
       "      <td>3</td>\n",
       "      <td>3</td>\n",
       "      <td>7</td>\n",
       "      <td>True</td>\n",
       "      <td>0.056855</td>\n",
       "      <td>0.207195</td>\n",
       "      <td>0.233082</td>\n",
       "      <td>0.056420</td>\n",
       "      <td>0.314760</td>\n",
       "      <td>4</td>\n",
       "      <td>3</td>\n",
       "      <td>3</td>\n",
       "    </tr>\n",
       "    <tr>\n",
       "      <th>3</th>\n",
       "      <td>25</td>\n",
       "      <td>1</td>\n",
       "      <td>1</td>\n",
       "      <td>1</td>\n",
       "      <td>2</td>\n",
       "      <td>3</td>\n",
       "      <td>2</td>\n",
       "      <td>3</td>\n",
       "      <td>1</td>\n",
       "      <td>6</td>\n",
       "      <td>1</td>\n",
       "      <td>0</td>\n",
       "      <td>0.0625</td>\n",
       "      <td>5</td>\n",
       "      <td>8.890625</td>\n",
       "      <td>5</td>\n",
       "      <td>10</td>\n",
       "      <td>14</td>\n",
       "      <td>3</td>\n",
       "      <td>7</td>\n",
       "      <td>3</td>\n",
       "      <td>3</td>\n",
       "      <td>7</td>\n",
       "      <td>True</td>\n",
       "      <td>0.363093</td>\n",
       "      <td>0.507588</td>\n",
       "      <td>1.000000</td>\n",
       "      <td>0.340953</td>\n",
       "      <td>1.000000</td>\n",
       "      <td>10</td>\n",
       "      <td>9</td>\n",
       "      <td>3</td>\n",
       "    </tr>\n",
       "    <tr>\n",
       "      <th>4</th>\n",
       "      <td>25</td>\n",
       "      <td>1</td>\n",
       "      <td>1</td>\n",
       "      <td>1</td>\n",
       "      <td>2</td>\n",
       "      <td>3</td>\n",
       "      <td>3</td>\n",
       "      <td>3</td>\n",
       "      <td>1</td>\n",
       "      <td>6</td>\n",
       "      <td>1</td>\n",
       "      <td>0</td>\n",
       "      <td>0.0625</td>\n",
       "      <td>5</td>\n",
       "      <td>8.625000</td>\n",
       "      <td>5</td>\n",
       "      <td>10</td>\n",
       "      <td>14</td>\n",
       "      <td>3</td>\n",
       "      <td>7</td>\n",
       "      <td>3</td>\n",
       "      <td>3</td>\n",
       "      <td>7</td>\n",
       "      <td>True</td>\n",
       "      <td>0.363093</td>\n",
       "      <td>0.507588</td>\n",
       "      <td>1.000000</td>\n",
       "      <td>0.340953</td>\n",
       "      <td>1.000000</td>\n",
       "      <td>10</td>\n",
       "      <td>9</td>\n",
       "      <td>3</td>\n",
       "    </tr>\n",
       "  </tbody>\n",
       "</table>\n",
       "</div>"
      ],
      "text/plain": [
       "   Hospital_code  Hospital_type  City_Code_Hospital  Hospital_region  \\\n",
       "0              7              2                   2                2   \n",
       "1              1              2                   4                2   \n",
       "2              9              4                   0                0   \n",
       "3             25              1                   1                1   \n",
       "4             25              1                   1                1   \n",
       "\n",
       "   Extra_Rooms  Department  Ward  Ward_Facility  Bed_Grade  City_Code_Patient  \\\n",
       "0            3           3     2              5          1                  6   \n",
       "1            2           3     3              5          1                  6   \n",
       "2            2           1     3              4          1                  6   \n",
       "3            2           3     2              3          1                  6   \n",
       "4            2           3     3              3          1                  6   \n",
       "\n",
       "   Admission_Type  Severity  Visitors  Age   Deposit  Stay  \\\n",
       "0               0         0    0.0625    5  8.500000     1   \n",
       "1               1         0    0.0625    5  8.695312     5   \n",
       "2               1         0    0.0625    5  8.468750     4   \n",
       "3               1         0    0.0625    5  8.890625     5   \n",
       "4               1         0    0.0625    5  8.625000     5   \n",
       "\n",
       "   hospitals_visited_by_patient  patient_count  departments_visited  \\\n",
       "0                            10             14                    3   \n",
       "1                            10             14                    3   \n",
       "2                            10             14                    3   \n",
       "3                            10             14                    3   \n",
       "4                            10             14                    3   \n",
       "\n",
       "   hospital_types_visited  hospital_regions_visited  no_of_admission_types  \\\n",
       "0                       7                         3                      3   \n",
       "1                       7                         3                      3   \n",
       "2                       7                         3                      3   \n",
       "3                       7                         3                      3   \n",
       "4                       7                         3                      3   \n",
       "\n",
       "   city_codes_visited  Change_In_Department  Hospital_code_Deposit_mean  \\\n",
       "0                   7                  True                    0.395032   \n",
       "1                   7                  True                    0.454953   \n",
       "2                   7                  True                    0.056855   \n",
       "3                   7                  True                    0.363093   \n",
       "4                   7                  True                    0.363093   \n",
       "\n",
       "   Hospital_code_Deposit_std  Hospital_code_Deposit_sum  \\\n",
       "0                   0.203087                   0.072530   \n",
       "1                   0.400267                   0.120476   \n",
       "2                   0.207195                   0.233082   \n",
       "3                   0.507588                   1.000000   \n",
       "4                   0.507588                   1.000000   \n",
       "\n",
       "   Hospital_code_Deposit_median  unique_patients_by_hospital_code  Dep_Adm  \\\n",
       "0                      0.426070                          0.096110        9   \n",
       "1                      0.417315                          0.126614       10   \n",
       "2                      0.056420                          0.314760        4   \n",
       "3                      0.340953                          1.000000       10   \n",
       "4                      0.340953                          1.000000       10   \n",
       "\n",
       "   Dep_Sev  Adm_Sev  \n",
       "0        9        0  \n",
       "1        9        3  \n",
       "2        3        3  \n",
       "3        9        3  \n",
       "4        9        3  "
      ]
     },
     "execution_count": 1279,
     "metadata": {},
     "output_type": "execute_result"
    }
   ],
   "source": [
    "train.head()"
   ]
  },
  {
   "cell_type": "code",
   "execution_count": 1280,
   "metadata": {},
   "outputs": [
    {
     "data": {
      "text/html": [
       "<div>\n",
       "<style scoped>\n",
       "    .dataframe tbody tr th:only-of-type {\n",
       "        vertical-align: middle;\n",
       "    }\n",
       "\n",
       "    .dataframe tbody tr th {\n",
       "        vertical-align: top;\n",
       "    }\n",
       "\n",
       "    .dataframe thead th {\n",
       "        text-align: right;\n",
       "    }\n",
       "</style>\n",
       "<table border=\"1\" class=\"dataframe\">\n",
       "  <thead>\n",
       "    <tr style=\"text-align: right;\">\n",
       "      <th></th>\n",
       "      <th>Hospital_code</th>\n",
       "      <th>Hospital_type</th>\n",
       "      <th>City_Code_Hospital</th>\n",
       "      <th>Hospital_region</th>\n",
       "      <th>Extra_Rooms</th>\n",
       "      <th>Department</th>\n",
       "      <th>Ward</th>\n",
       "      <th>Ward_Facility</th>\n",
       "      <th>Bed_Grade</th>\n",
       "      <th>City_Code_Patient</th>\n",
       "      <th>Admission_Type</th>\n",
       "      <th>Severity</th>\n",
       "      <th>Visitors</th>\n",
       "      <th>Age</th>\n",
       "      <th>Deposit</th>\n",
       "      <th>hospitals_visited_by_patient</th>\n",
       "      <th>patient_count</th>\n",
       "      <th>departments_visited</th>\n",
       "      <th>hospital_types_visited</th>\n",
       "      <th>hospital_regions_visited</th>\n",
       "      <th>no_of_admission_types</th>\n",
       "      <th>city_codes_visited</th>\n",
       "      <th>Change_In_Department</th>\n",
       "      <th>Hospital_code_Deposit_mean</th>\n",
       "      <th>Hospital_code_Deposit_std</th>\n",
       "      <th>Hospital_code_Deposit_sum</th>\n",
       "      <th>Hospital_code_Deposit_median</th>\n",
       "      <th>unique_patients_by_hospital_code</th>\n",
       "      <th>Dep_Adm</th>\n",
       "      <th>Dep_Sev</th>\n",
       "      <th>Adm_Sev</th>\n",
       "    </tr>\n",
       "  </thead>\n",
       "  <tbody>\n",
       "    <tr>\n",
       "      <th>0</th>\n",
       "      <td>20</td>\n",
       "      <td>2</td>\n",
       "      <td>2</td>\n",
       "      <td>2</td>\n",
       "      <td>3</td>\n",
       "      <td>2</td>\n",
       "      <td>3</td>\n",
       "      <td>0</td>\n",
       "      <td>1</td>\n",
       "      <td>1</td>\n",
       "      <td>0</td>\n",
       "      <td>2</td>\n",
       "      <td>0.06250</td>\n",
       "      <td>7</td>\n",
       "      <td>8.039062</td>\n",
       "      <td>6</td>\n",
       "      <td>7</td>\n",
       "      <td>1</td>\n",
       "      <td>3</td>\n",
       "      <td>3</td>\n",
       "      <td>2</td>\n",
       "      <td>5</td>\n",
       "      <td>False</td>\n",
       "      <td>0.516027</td>\n",
       "      <td>0.295675</td>\n",
       "      <td>0.228681</td>\n",
       "      <td>0.523614</td>\n",
       "      <td>0.265671</td>\n",
       "      <td>6</td>\n",
       "      <td>8</td>\n",
       "      <td>2</td>\n",
       "    </tr>\n",
       "    <tr>\n",
       "      <th>1</th>\n",
       "      <td>28</td>\n",
       "      <td>0</td>\n",
       "      <td>3</td>\n",
       "      <td>0</td>\n",
       "      <td>2</td>\n",
       "      <td>2</td>\n",
       "      <td>3</td>\n",
       "      <td>5</td>\n",
       "      <td>1</td>\n",
       "      <td>1</td>\n",
       "      <td>1</td>\n",
       "      <td>2</td>\n",
       "      <td>0.12500</td>\n",
       "      <td>7</td>\n",
       "      <td>8.296875</td>\n",
       "      <td>6</td>\n",
       "      <td>7</td>\n",
       "      <td>1</td>\n",
       "      <td>3</td>\n",
       "      <td>3</td>\n",
       "      <td>2</td>\n",
       "      <td>5</td>\n",
       "      <td>False</td>\n",
       "      <td>0.646015</td>\n",
       "      <td>0.500624</td>\n",
       "      <td>0.328356</td>\n",
       "      <td>0.627310</td>\n",
       "      <td>0.349281</td>\n",
       "      <td>7</td>\n",
       "      <td>8</td>\n",
       "      <td>5</td>\n",
       "    </tr>\n",
       "    <tr>\n",
       "      <th>2</th>\n",
       "      <td>25</td>\n",
       "      <td>1</td>\n",
       "      <td>1</td>\n",
       "      <td>1</td>\n",
       "      <td>3</td>\n",
       "      <td>2</td>\n",
       "      <td>1</td>\n",
       "      <td>3</td>\n",
       "      <td>3</td>\n",
       "      <td>1</td>\n",
       "      <td>0</td>\n",
       "      <td>2</td>\n",
       "      <td>0.09375</td>\n",
       "      <td>7</td>\n",
       "      <td>8.414062</td>\n",
       "      <td>6</td>\n",
       "      <td>7</td>\n",
       "      <td>1</td>\n",
       "      <td>3</td>\n",
       "      <td>3</td>\n",
       "      <td>2</td>\n",
       "      <td>5</td>\n",
       "      <td>False</td>\n",
       "      <td>0.386006</td>\n",
       "      <td>0.490366</td>\n",
       "      <td>1.000000</td>\n",
       "      <td>0.372690</td>\n",
       "      <td>1.000000</td>\n",
       "      <td>6</td>\n",
       "      <td>8</td>\n",
       "      <td>2</td>\n",
       "    </tr>\n",
       "    <tr>\n",
       "      <th>3</th>\n",
       "      <td>5</td>\n",
       "      <td>0</td>\n",
       "      <td>5</td>\n",
       "      <td>0</td>\n",
       "      <td>3</td>\n",
       "      <td>2</td>\n",
       "      <td>1</td>\n",
       "      <td>5</td>\n",
       "      <td>1</td>\n",
       "      <td>1</td>\n",
       "      <td>1</td>\n",
       "      <td>2</td>\n",
       "      <td>0.09375</td>\n",
       "      <td>7</td>\n",
       "      <td>8.335938</td>\n",
       "      <td>6</td>\n",
       "      <td>7</td>\n",
       "      <td>1</td>\n",
       "      <td>3</td>\n",
       "      <td>3</td>\n",
       "      <td>2</td>\n",
       "      <td>5</td>\n",
       "      <td>False</td>\n",
       "      <td>0.087000</td>\n",
       "      <td>0.276114</td>\n",
       "      <td>0.551909</td>\n",
       "      <td>0.079055</td>\n",
       "      <td>0.622050</td>\n",
       "      <td>7</td>\n",
       "      <td>8</td>\n",
       "      <td>5</td>\n",
       "    </tr>\n",
       "    <tr>\n",
       "      <th>4</th>\n",
       "      <td>27</td>\n",
       "      <td>1</td>\n",
       "      <td>9</td>\n",
       "      <td>0</td>\n",
       "      <td>2</td>\n",
       "      <td>2</td>\n",
       "      <td>2</td>\n",
       "      <td>5</td>\n",
       "      <td>1</td>\n",
       "      <td>1</td>\n",
       "      <td>1</td>\n",
       "      <td>2</td>\n",
       "      <td>0.12500</td>\n",
       "      <td>7</td>\n",
       "      <td>8.335938</td>\n",
       "      <td>6</td>\n",
       "      <td>7</td>\n",
       "      <td>1</td>\n",
       "      <td>3</td>\n",
       "      <td>3</td>\n",
       "      <td>2</td>\n",
       "      <td>5</td>\n",
       "      <td>False</td>\n",
       "      <td>0.281937</td>\n",
       "      <td>0.446240</td>\n",
       "      <td>0.482925</td>\n",
       "      <td>0.233059</td>\n",
       "      <td>0.470594</td>\n",
       "      <td>7</td>\n",
       "      <td>8</td>\n",
       "      <td>5</td>\n",
       "    </tr>\n",
       "  </tbody>\n",
       "</table>\n",
       "</div>"
      ],
      "text/plain": [
       "   Hospital_code  Hospital_type  City_Code_Hospital  Hospital_region  \\\n",
       "0             20              2                   2                2   \n",
       "1             28              0                   3                0   \n",
       "2             25              1                   1                1   \n",
       "3              5              0                   5                0   \n",
       "4             27              1                   9                0   \n",
       "\n",
       "   Extra_Rooms  Department  Ward  Ward_Facility  Bed_Grade  City_Code_Patient  \\\n",
       "0            3           2     3              0          1                  1   \n",
       "1            2           2     3              5          1                  1   \n",
       "2            3           2     1              3          3                  1   \n",
       "3            3           2     1              5          1                  1   \n",
       "4            2           2     2              5          1                  1   \n",
       "\n",
       "   Admission_Type  Severity  Visitors  Age   Deposit  \\\n",
       "0               0         2   0.06250    7  8.039062   \n",
       "1               1         2   0.12500    7  8.296875   \n",
       "2               0         2   0.09375    7  8.414062   \n",
       "3               1         2   0.09375    7  8.335938   \n",
       "4               1         2   0.12500    7  8.335938   \n",
       "\n",
       "   hospitals_visited_by_patient  patient_count  departments_visited  \\\n",
       "0                             6              7                    1   \n",
       "1                             6              7                    1   \n",
       "2                             6              7                    1   \n",
       "3                             6              7                    1   \n",
       "4                             6              7                    1   \n",
       "\n",
       "   hospital_types_visited  hospital_regions_visited  no_of_admission_types  \\\n",
       "0                       3                         3                      2   \n",
       "1                       3                         3                      2   \n",
       "2                       3                         3                      2   \n",
       "3                       3                         3                      2   \n",
       "4                       3                         3                      2   \n",
       "\n",
       "   city_codes_visited  Change_In_Department  Hospital_code_Deposit_mean  \\\n",
       "0                   5                 False                    0.516027   \n",
       "1                   5                 False                    0.646015   \n",
       "2                   5                 False                    0.386006   \n",
       "3                   5                 False                    0.087000   \n",
       "4                   5                 False                    0.281937   \n",
       "\n",
       "   Hospital_code_Deposit_std  Hospital_code_Deposit_sum  \\\n",
       "0                   0.295675                   0.228681   \n",
       "1                   0.500624                   0.328356   \n",
       "2                   0.490366                   1.000000   \n",
       "3                   0.276114                   0.551909   \n",
       "4                   0.446240                   0.482925   \n",
       "\n",
       "   Hospital_code_Deposit_median  unique_patients_by_hospital_code  Dep_Adm  \\\n",
       "0                      0.523614                          0.265671        6   \n",
       "1                      0.627310                          0.349281        7   \n",
       "2                      0.372690                          1.000000        6   \n",
       "3                      0.079055                          0.622050        7   \n",
       "4                      0.233059                          0.470594        7   \n",
       "\n",
       "   Dep_Sev  Adm_Sev  \n",
       "0        8        2  \n",
       "1        8        5  \n",
       "2        8        2  \n",
       "3        8        5  \n",
       "4        8        5  "
      ]
     },
     "execution_count": 1280,
     "metadata": {},
     "output_type": "execute_result"
    }
   ],
   "source": [
    "test.head()"
   ]
  },
  {
   "cell_type": "code",
   "execution_count": 1281,
   "metadata": {},
   "outputs": [
    {
     "data": {
      "text/plain": [
       "'# Creating dummy variables out of the object variables\\ntrain = pd.get_dummies(train)\\ntest = pd.get_dummies(test)\\nprint (\"Train Shape:\",train.shape)\\nprint (\"Test Shape:\",test.shape)'"
      ]
     },
     "execution_count": 1281,
     "metadata": {},
     "output_type": "execute_result"
    }
   ],
   "source": [
    "\"\"\"# Creating dummy variables out of the object variables\n",
    "train = pd.get_dummies(train)\n",
    "test = pd.get_dummies(test)\n",
    "print (\"Train Shape:\",train.shape)\n",
    "print (\"Test Shape:\",test.shape)\"\"\""
   ]
  },
  {
   "cell_type": "code",
   "execution_count": 1282,
   "metadata": {},
   "outputs": [],
   "source": [
    "# separating the dependent and independent variables. \n",
    "X = train[[col for col in train.columns if col!=\"Stay\"]]\n",
    "y = train['Stay']"
   ]
  },
  {
   "cell_type": "code",
   "execution_count": 1283,
   "metadata": {},
   "outputs": [
    {
     "data": {
      "text/plain": [
       "(318438, 31)"
      ]
     },
     "execution_count": 1283,
     "metadata": {},
     "output_type": "execute_result"
    }
   ],
   "source": [
    "X.shape"
   ]
  },
  {
   "cell_type": "code",
   "execution_count": 1284,
   "metadata": {
    "scrolled": false
   },
   "outputs": [
    {
     "name": "stderr",
     "output_type": "stream",
     "text": [
      "C:\\Users\\kulka\\anaconda3\\lib\\site-packages\\lightgbm\\basic.py:1295: UserWarning: categorical_feature in Dataset is overridden.\n",
      "New categorical_feature is ['Adm_Sev', 'Admission_Type', 'Age', 'Bed_Grade', 'City_Code_Hospital', 'City_Code_Patient', 'Dep_Adm', 'Dep_Sev', 'Department', 'Extra_Rooms', 'Hospital_code', 'Hospital_region', 'Hospital_type', 'Severity', 'Ward', 'Ward_Facility']\n",
      "  'New categorical_feature is {}'.format(sorted(list(categorical_feature))))\n"
     ]
    },
    {
     "name": "stdout",
     "output_type": "stream",
     "text": [
      "Training until validation scores don't improve for 50 rounds\n",
      "[50]\ttraining's multi_logloss: 1.44872\tvalid_1's multi_logloss: 1.50718\n",
      "[100]\ttraining's multi_logloss: 1.36046\tvalid_1's multi_logloss: 1.47827\n",
      "[150]\ttraining's multi_logloss: 1.30341\tvalid_1's multi_logloss: 1.47405\n",
      "[200]\ttraining's multi_logloss: 1.25998\tvalid_1's multi_logloss: 1.47456\n",
      "Early stopping, best iteration is:\n",
      "[164]\ttraining's multi_logloss: 1.29053\tvalid_1's multi_logloss: 1.47379\n",
      "Accuracy Score: 0.4352311267428715\n",
      "------------------------------------------------\n",
      "Training until validation scores don't improve for 50 rounds\n",
      "[50]\ttraining's multi_logloss: 1.44493\tvalid_1's multi_logloss: 1.51837\n",
      "[100]\ttraining's multi_logloss: 1.35605\tvalid_1's multi_logloss: 1.4914\n",
      "[150]\ttraining's multi_logloss: 1.29854\tvalid_1's multi_logloss: 1.48784\n",
      "Early stopping, best iteration is:\n",
      "[149]\ttraining's multi_logloss: 1.29955\tvalid_1's multi_logloss: 1.4878\n",
      "Accuracy Score: 0.4318709961060168\n",
      "------------------------------------------------\n",
      "Training until validation scores don't improve for 50 rounds\n",
      "[50]\ttraining's multi_logloss: 1.44473\tvalid_1's multi_logloss: 1.519\n",
      "[100]\ttraining's multi_logloss: 1.35625\tvalid_1's multi_logloss: 1.49284\n",
      "[150]\ttraining's multi_logloss: 1.29892\tvalid_1's multi_logloss: 1.48905\n",
      "[200]\ttraining's multi_logloss: 1.25494\tvalid_1's multi_logloss: 1.49011\n",
      "Early stopping, best iteration is:\n",
      "[160]\ttraining's multi_logloss: 1.28961\tvalid_1's multi_logloss: 1.48901\n",
      "Accuracy Score: 0.4281026252983294\n",
      "------------------------------------------------\n",
      "Training until validation scores don't improve for 50 rounds\n",
      "[50]\ttraining's multi_logloss: 1.44272\tvalid_1's multi_logloss: 1.52677\n",
      "[100]\ttraining's multi_logloss: 1.35396\tvalid_1's multi_logloss: 1.50174\n",
      "[150]\ttraining's multi_logloss: 1.29663\tvalid_1's multi_logloss: 1.49797\n",
      "Early stopping, best iteration is:\n",
      "[146]\ttraining's multi_logloss: 1.30052\tvalid_1's multi_logloss: 1.49788\n",
      "Accuracy Score: 0.4295068067266475\n",
      "------------------------------------------------\n",
      "Training until validation scores don't improve for 50 rounds\n",
      "[50]\ttraining's multi_logloss: 1.43581\tvalid_1's multi_logloss: 1.55758\n",
      "[100]\ttraining's multi_logloss: 1.34748\tvalid_1's multi_logloss: 1.53637\n",
      "[150]\ttraining's multi_logloss: 1.29095\tvalid_1's multi_logloss: 1.53521\n",
      "Early stopping, best iteration is:\n",
      "[124]\ttraining's multi_logloss: 1.31793\tvalid_1's multi_logloss: 1.53438\n",
      "Accuracy Score: 0.41220343241163815\n",
      "------------------------------------------------\n",
      "------------------------------------------\n",
      "Mean Accuracy of 5 Folds: 0.4273829974571006\n"
     ]
    }
   ],
   "source": [
    "# Modelling with Stratified K Fold cross validation\n",
    "accuracy = []\n",
    "final_preds = []\n",
    "folds = StratifiedKFold(n_splits=5)\n",
    "for train_index, test_index in folds.split(X,y):\n",
    "    # creating training and validation datasets\n",
    "    X_Train, X_Test = X.iloc[train_index],X.iloc[test_index]\n",
    "    y_Train, y_Test = y.iloc[train_index],y.iloc[test_index]\n",
    "    \n",
    "    # building a classifier\n",
    "    clf = lgb.LGBMClassifier(n_estimators=750,\n",
    "                             learning_rate=0.1,\n",
    "                             objective=\"multiclass\",\n",
    "                             boosting_type=\"gbdt\",\n",
    "                             subsample=0.9,\n",
    "                             colsample_bytree=0.6,\n",
    "                             num_class=11,\n",
    "                             max_depth=12,\n",
    "                             n_jobs=-1,\n",
    "                             reg_alpha=2,\n",
    "                             num_leaves=100)\n",
    "    \n",
    "    # fitting the classifier to the train set\n",
    "    clf.fit(X_Train,\n",
    "            y_Train,\n",
    "            eval_set=[(X_Train,y_Train),(X_Test,y_Test)],\n",
    "            early_stopping_rounds=50,\n",
    "            verbose=50,\n",
    "            categorical_feature = cat_cols)\n",
    "    \n",
    "    # predicting on the validation set\n",
    "    preds = clf.predict(X_Test)\n",
    "    score = accuracy_score(preds,y_Test)\n",
    "    print (\"Accuracy Score:\",score)\n",
    "    print (\"------------------------------------------------\")\n",
    "    accuracy.append(score)\n",
    "    \n",
    "    # Predicting on the test set, final_preds will be an array of 5 sets of predictions, one for each fold\n",
    "    pred = clf.predict(test,num_iteration=None)\n",
    "    final_preds.append(pred)\n",
    "    \n",
    "print (\"------------------------------------------\")\n",
    "print (\"Mean Accuracy of 5 Folds:\",np.mean(np.array(accuracy)))"
   ]
  },
  {
   "cell_type": "code",
   "execution_count": 1285,
   "metadata": {},
   "outputs": [
    {
     "data": {
      "text/plain": [
       "Change_In_Department                  276\n",
       "Department                            416\n",
       "Ward_Facility                         453\n",
       "Hospital_type                         717\n",
       "Hospital_region                      1185\n",
       "unique_patients_by_hospital_code     1398\n",
       "departments_visited                  1488\n",
       "no_of_admission_types                1518\n",
       "hospital_regions_visited             1521\n",
       "Hospital_code_Deposit_median         1551\n",
       "Admission_Type                       2046\n",
       "Severity                             2166\n",
       "Hospital_code_Deposit_mean           2547\n",
       "hospital_types_visited               2585\n",
       "Hospital_code_Deposit_sum            2614\n",
       "Hospital_code_Deposit_std            2702\n",
       "City_Code_Hospital                   2991\n",
       "Ward                                 3006\n",
       "city_codes_visited                   3789\n",
       "Extra_Rooms                          4341\n",
       "Adm_Sev                              5477\n",
       "Dep_Adm                              5586\n",
       "hospitals_visited_by_patient         5677\n",
       "Dep_Sev                              5896\n",
       "Bed_Grade                            5979\n",
       "Visitors                             6703\n",
       "Age                                  7675\n",
       "patient_count                        8119\n",
       "City_Code_Patient                   11966\n",
       "Deposit                             15647\n",
       "Hospital_code                       17001\n",
       "dtype: int32"
      ]
     },
     "execution_count": 1285,
     "metadata": {},
     "output_type": "execute_result"
    }
   ],
   "source": [
    "ser = pd.Series(clf.feature_importances_,X.columns).sort_values();\n",
    "ser"
   ]
  },
  {
   "cell_type": "code",
   "execution_count": 1286,
   "metadata": {},
   "outputs": [
    {
     "data": {
      "image/png": "[encoded data removed]",
      "text/plain": [
       "<Figure size 1152x432 with 1 Axes>"
      ]
     },
     "metadata": {},
     "output_type": "display_data"
    }
   ],
   "source": [
    "# plotting Feature Importance\n",
    "plt.figure(figsize=(16,6));\n",
    "ser = pd.Series(clf.feature_importances_,X.columns).sort_values();\n",
    "ser.plot(kind='bar');\n",
    "plt.title(\"Feature Importance Plot- LightGBM\");\n",
    "plt.xlabel(\"Feature\");\n",
    "plt.ylabel(\"Importance\");"
   ]
  },
  {
   "cell_type": "code",
   "execution_count": 1287,
   "metadata": {
    "scrolled": false
   },
   "outputs": [],
   "source": [
    "# Each set of prediction is converted to a column in the dataframe and a mode of each observation across the columns is found.\n",
    "Submission['Stay_1'] = final_preds[0]\n",
    "Submission['Stay_2'] = final_preds[1]\n",
    "Submission['Stay_3'] = final_preds[2]\n",
    "Submission['Stay_4'] = final_preds[3]\n",
    "Submission['Stay_5'] = final_preds[4]\n",
    "\n",
    "stays = ['Stay_{}'.format(i) for i in range(1, 6)]\n",
    "ser = Submission[stays].mode(axis=1, dropna=False)[0]\n",
    "\n",
    "Submission['Stay'] = ser\n",
    "Submission.drop(['Stay_1','Stay_2','Stay_3','Stay_4','Stay_5'],axis=1,inplace=True)\n",
    "\n",
    "Submission['Stay'].replace({1:\"0-10\",2:\"11-20\",3:\"21-30\",4:\"31-40\",5:\"41-50\",6:\"51-60\",7:\"61-70\",8:\"71-80\",9:\"81-90\",10:\"91-100\",11:\"More than 100 Days\"},inplace=True)\n",
    "Submission.to_csv(\"Solution_30.csv\",index=None)"
   ]
  },
  {
   "cell_type": "code",
   "execution_count": 1288,
   "metadata": {},
   "outputs": [
    {
     "data": {
      "text/plain": [
       "21-30                 58479\n",
       "11-20                 38360\n",
       "51-60                 19170\n",
       "31-40                 12642\n",
       "0-10                   4783\n",
       "More than 100 Days     2171\n",
       "81-90                   988\n",
       "71-80                   375\n",
       "91-100                   62\n",
       "41-50                    25\n",
       "61-70                     2\n",
       "Name: Stay, dtype: int64"
      ]
     },
     "execution_count": 1288,
     "metadata": {},
     "output_type": "execute_result"
    }
   ],
   "source": [
    "# Checking the distribution in the prediction.\n",
    "Submission['Stay'].value_counts()"
   ]
  }
 ],
 "metadata": {
  "kernelspec": {
   "display_name": "Python 3",
   "language": "python",
   "name": "python3"
  },
  "language_info": {
   "codemirror_mode": {
    "name": "ipython",
    "version": 3
   },
   "file_extension": ".py",
   "mimetype": "text/x-python",
   "name": "python",
   "nbconvert_exporter": "python",
   "pygments_lexer": "ipython3",
   "version": "3.8.3"
  }
 },
 "nbformat": 4,
 "nbformat_minor": 4
}
